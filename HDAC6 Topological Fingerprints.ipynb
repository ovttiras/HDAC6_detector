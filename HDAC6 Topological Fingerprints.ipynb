{
 "cells": [
  {
   "cell_type": "markdown",
   "metadata": {},
   "source": [
    "# 1. Importing modules and functions"
   ]
  },
  {
   "cell_type": "code",
   "execution_count": 31,
   "metadata": {},
   "outputs": [],
   "source": [
    "from rdkit import Chem, DataStructs\n",
    "from rdkit.Chem import AllChem, Descriptors\n",
    "from rdkit.ML.Descriptors import MoleculeDescriptors\n",
    "from rdkit.Chem.Fingerprints import FingerprintMols\n",
    "import chembl_structure_pipeline\n",
    "import numpy as np\n",
    "import pandas as pd\n",
    "from rdkit.Chem import PandasTools\n",
    "from sklearn.neural_network import MLPClassifier\n",
    "from sklearn.model_selection import train_test_split, StratifiedKFold, GridSearchCV\n",
    "from sklearn.model_selection import permutation_test_score\n",
    "from sklearn.model_selection import cross_val_predict\n",
    "from sklearn import metrics\n",
    "from sklearn.metrics import matthews_corrcoef\n",
    "from sklearn.metrics import cohen_kappa_score\n",
    "from sklearn.metrics import balanced_accuracy_score\n",
    "import joblib\n",
    "import pickle\n",
    "from IPython.display import HTML\n",
    "import matplotlib.pyplot as plt"
   ]
  },
  {
   "cell_type": "markdown",
   "metadata": {},
   "source": [
    "# 2.Data entry and curation work set"
   ]
  },
  {
   "cell_type": "code",
   "execution_count": 2,
   "metadata": {},
   "outputs": [
    {
     "name": "stdout",
     "output_type": "stream",
     "text": [
      "Original data:  105 molecules\n",
      "Failed data:  0 molecules\n"
     ]
    },
    {
     "data": {
      "text/html": [
       "<div>\n",
       "<style scoped>\n",
       "    .dataframe tbody tr th:only-of-type {\n",
       "        vertical-align: middle;\n",
       "    }\n",
       "\n",
       "    .dataframe tbody tr th {\n",
       "        vertical-align: top;\n",
       "    }\n",
       "\n",
       "    .dataframe thead th {\n",
       "        text-align: right;\n",
       "    }\n",
       "</style>\n",
       "<table border=\"1\" class=\"dataframe\">\n",
       "  <thead>\n",
       "    <tr style=\"text-align: right;\">\n",
       "      <th></th>\n",
       "      <th>No. failed molecule in original set</th>\n",
       "      <th>SMILES of wrong structure:</th>\n",
       "    </tr>\n",
       "    <tr>\n",
       "      <th>No.</th>\n",
       "      <th></th>\n",
       "      <th></th>\n",
       "    </tr>\n",
       "  </thead>\n",
       "  <tbody>\n",
       "  </tbody>\n",
       "</table>\n",
       "</div>"
      ],
      "text/plain": [
       "Empty DataFrame\n",
       "Columns: [No. failed molecule in original set, SMILES of wrong structure: ]\n",
       "Index: []"
      ]
     },
     "execution_count": 2,
     "metadata": {},
     "output_type": "execute_result"
    }
   ],
   "source": [
    "uploaded_file_ws=\"datasets/HDAC6_ws.sdf\"\n",
    "supplier_ws = Chem.ForwardSDMolSupplier(uploaded_file_ws,sanitize=False)\n",
    "failed_mols_ws = []\n",
    "all_mols_ws =[]\n",
    "wrong_structure_ws=[]\n",
    "wrong_smiles_ws=[]\n",
    "y_tr = []\n",
    "y_bad_index=[]\n",
    "\n",
    "for i, m in enumerate(supplier_ws):\n",
    "    structure = Chem.Mol(m)\n",
    "    all_mols_ws.append(structure)\n",
    "    y_tr.append(m.GetIntProp(\"Active\"))\n",
    "    try:\n",
    "        Chem.SanitizeMol(structure)\n",
    "    except:\n",
    "        failed_mols_ws.append(m)\n",
    "        wrong_smiles_ws.append(Chem.MolToSmiles(m))\n",
    "        wrong_structure_ws.append(str(i+1))\n",
    "        y_bad_index.append(i)\n",
    "print('Original data: ', len(all_mols_ws), 'molecules')\n",
    "print('Failed data: ', len(failed_mols_ws), 'molecules')\n",
    "number_ws =[]\n",
    "for i in range(len(failed_mols_ws)):\n",
    "        number_ws.append(str(i+1))\n",
    "bad_molecules_ws = pd.DataFrame({'No. failed molecule in original set': wrong_structure_ws, 'SMILES of wrong structure: ': wrong_smiles_ws, 'No.': number_ws}, index=None)\n",
    "bad_molecules_ws = bad_molecules_ws.set_index('No.')\n",
    "bad_molecules_ws"
   ]
  },
  {
   "cell_type": "markdown",
   "metadata": {},
   "source": [
    "deleting activity values for substances with incorrect structure"
   ]
  },
  {
   "cell_type": "code",
   "execution_count": 3,
   "metadata": {},
   "outputs": [],
   "source": [
    "y_tr[:] = [x for i,x in enumerate(y_tr) if i not in y_bad_index]"
   ]
  },
  {
   "cell_type": "code",
   "execution_count": 4,
   "metadata": {},
   "outputs": [
    {
     "data": {
      "text/plain": [
       "105"
      ]
     },
     "execution_count": 4,
     "metadata": {},
     "output_type": "execute_result"
    }
   ],
   "source": [
    "len(y_tr)"
   ]
  },
  {
   "cell_type": "markdown",
   "metadata": {},
   "source": [
    "# 3.Standardization SDF file for work set"
   ]
  },
  {
   "cell_type": "code",
   "execution_count": 5,
   "metadata": {},
   "outputs": [
    {
     "name": "stdout",
     "output_type": "stream",
     "text": [
      "Kept data:  105 molecules\n"
     ]
    }
   ],
   "source": [
    "records_ws = []\n",
    "for i in range(len(all_mols_ws)):\n",
    "    record = Chem.MolToMolBlock(all_mols_ws[i])\n",
    "    records_ws.append(record)\n",
    "            \n",
    "mols_ws = []\n",
    "for i,record in enumerate(records_ws):\n",
    "    standard_record = chembl_structure_pipeline.standardize_molblock(record)\n",
    "    m = Chem.MolFromMolBlock(standard_record)\n",
    "    mols_ws.append(m)\n",
    "           \n",
    "moldf_ws = []\n",
    "for val in mols_ws:\n",
    "    if val != None:\n",
    "        moldf_ws.append(val)\n",
    "print('Kept data: ', len(moldf_ws), 'molecules')"
   ]
  },
  {
   "cell_type": "markdown",
   "metadata": {},
   "source": [
    "# 4.Data entry and curation test set"
   ]
  },
  {
   "cell_type": "code",
   "execution_count": 6,
   "metadata": {},
   "outputs": [
    {
     "name": "stdout",
     "output_type": "stream",
     "text": [
      "Original data:  26 molecules\n",
      "Failed data:  0 molecules\n"
     ]
    },
    {
     "data": {
      "text/html": [
       "<div>\n",
       "<style scoped>\n",
       "    .dataframe tbody tr th:only-of-type {\n",
       "        vertical-align: middle;\n",
       "    }\n",
       "\n",
       "    .dataframe tbody tr th {\n",
       "        vertical-align: top;\n",
       "    }\n",
       "\n",
       "    .dataframe thead th {\n",
       "        text-align: right;\n",
       "    }\n",
       "</style>\n",
       "<table border=\"1\" class=\"dataframe\">\n",
       "  <thead>\n",
       "    <tr style=\"text-align: right;\">\n",
       "      <th></th>\n",
       "      <th>No. failed molecule in original set</th>\n",
       "      <th>SMILES of wrong structure:</th>\n",
       "    </tr>\n",
       "    <tr>\n",
       "      <th>No.</th>\n",
       "      <th></th>\n",
       "      <th></th>\n",
       "    </tr>\n",
       "  </thead>\n",
       "  <tbody>\n",
       "  </tbody>\n",
       "</table>\n",
       "</div>"
      ],
      "text/plain": [
       "Empty DataFrame\n",
       "Columns: [No. failed molecule in original set, SMILES of wrong structure: ]\n",
       "Index: []"
      ]
     },
     "execution_count": 6,
     "metadata": {},
     "output_type": "execute_result"
    }
   ],
   "source": [
    "uploaded_file_ts=\"datasets/HDAC6_ts.sdf\"\n",
    "supplier_ts = Chem.ForwardSDMolSupplier(uploaded_file_ts,sanitize=False)\n",
    "failed_mols_ts = []\n",
    "all_mols_ts =[]\n",
    "wrong_structure_ts=[]\n",
    "wrong_smiles_ts=[]\n",
    "y_ts = []\n",
    "y_bad_index=[]\n",
    "for i, m in enumerate(supplier_ts):\n",
    "    structure = Chem.Mol(m)\n",
    "    all_mols_ts.append(structure)\n",
    "    y_ts.append(m.GetIntProp(\"Active\"))\n",
    "    try:\n",
    "        Chem.SanitizeMol(structure)\n",
    "    except:\n",
    "        failed_mols_ts.append(m)\n",
    "        wrong_smiles_ts.append(Chem.MolToSmiles(m))\n",
    "        wrong_structure_ts.append(str(i+1))\n",
    "        y_bad_index.append(i)\n",
    "print('Original data: ', len(all_mols_ts), 'molecules')\n",
    "print('Failed data: ', len(failed_mols_ts), 'molecules')\n",
    "number_ts =[]\n",
    "for i in range(len(failed_mols_ts)):\n",
    "        number_ts.append(str(i+1))\n",
    "bad_molecules_ts = pd.DataFrame({'No. failed molecule in original set': wrong_structure_ts, 'SMILES of wrong structure: ': wrong_smiles_ts, 'No.': number_ts}, index=None)\n",
    "bad_molecules_ts = bad_molecules_ts.set_index('No.')\n",
    "bad_molecules_ts"
   ]
  },
  {
   "cell_type": "markdown",
   "metadata": {},
   "source": [
    "deleting activity values for substances with incorrect structure"
   ]
  },
  {
   "cell_type": "code",
   "execution_count": 7,
   "metadata": {},
   "outputs": [],
   "source": [
    "y_ts[:] = [x for i,x in enumerate(y_ts) if i not in y_bad_index]"
   ]
  },
  {
   "cell_type": "code",
   "execution_count": 8,
   "metadata": {},
   "outputs": [
    {
     "data": {
      "text/plain": [
       "26"
      ]
     },
     "execution_count": 8,
     "metadata": {},
     "output_type": "execute_result"
    }
   ],
   "source": [
    "len(y_ts)"
   ]
  },
  {
   "cell_type": "markdown",
   "metadata": {},
   "source": [
    "# 5.Standardization SDF file for test set"
   ]
  },
  {
   "cell_type": "code",
   "execution_count": 9,
   "metadata": {},
   "outputs": [
    {
     "name": "stdout",
     "output_type": "stream",
     "text": [
      "Kept data:  26 molecules\n"
     ]
    }
   ],
   "source": [
    "records_ts = []\n",
    "for i in range(len(all_mols_ts)):\n",
    "    record = Chem.MolToMolBlock(all_mols_ts[i])\n",
    "    records_ts.append(record)\n",
    "            \n",
    "mols_ts = []\n",
    "for i,record in enumerate(records_ts):\n",
    "    standard_record = chembl_structure_pipeline.standardize_molblock(record)\n",
    "    m = Chem.MolFromMolBlock(standard_record)\n",
    "    mols_ts.append(m)\n",
    "           \n",
    "moldf_ts = []\n",
    "for val in mols_ts:\n",
    "    if val != None:\n",
    "        moldf_ts.append(val)\n",
    "print('Kept data: ', len(moldf_ts), 'molecules')"
   ]
  },
  {
   "cell_type": "markdown",
   "metadata": {},
   "source": [
    "# 6.Descriptor calculation for work set"
   ]
  },
  {
   "cell_type": "code",
   "execution_count": 10,
   "metadata": {},
   "outputs": [],
   "source": [
    "fp_tr = [Chem.RDKFingerprint(m) for m in moldf_ws]"
   ]
  },
  {
   "cell_type": "code",
   "execution_count": 11,
   "metadata": {},
   "outputs": [],
   "source": [
    "def rdkit_numpy_convert(fp_tr):\n",
    "    output = []\n",
    "    for f in fp_tr:\n",
    "        arr = np.zeros((1,))\n",
    "        DataStructs.ConvertToNumpyArray(f, arr)\n",
    "        output.append(arr)\n",
    "    return np.asarray(output)"
   ]
  },
  {
   "cell_type": "code",
   "execution_count": 12,
   "metadata": {},
   "outputs": [],
   "source": [
    "from numpy import savetxt\n",
    "x_tr = rdkit_numpy_convert(fp_tr)"
   ]
  },
  {
   "cell_type": "code",
   "execution_count": 13,
   "metadata": {},
   "outputs": [],
   "source": [
    "x_tr = pd.DataFrame(np.array(x_tr)) "
   ]
  },
  {
   "cell_type": "code",
   "execution_count": 14,
   "metadata": {},
   "outputs": [
    {
     "data": {
      "text/html": [
       "<div>\n",
       "<style scoped>\n",
       "    .dataframe tbody tr th:only-of-type {\n",
       "        vertical-align: middle;\n",
       "    }\n",
       "\n",
       "    .dataframe tbody tr th {\n",
       "        vertical-align: top;\n",
       "    }\n",
       "\n",
       "    .dataframe thead th {\n",
       "        text-align: right;\n",
       "    }\n",
       "</style>\n",
       "<table border=\"1\" class=\"dataframe\">\n",
       "  <thead>\n",
       "    <tr style=\"text-align: right;\">\n",
       "      <th></th>\n",
       "      <th>0</th>\n",
       "      <th>1</th>\n",
       "      <th>2</th>\n",
       "      <th>3</th>\n",
       "      <th>4</th>\n",
       "      <th>5</th>\n",
       "      <th>6</th>\n",
       "      <th>7</th>\n",
       "      <th>8</th>\n",
       "      <th>9</th>\n",
       "      <th>...</th>\n",
       "      <th>2038</th>\n",
       "      <th>2039</th>\n",
       "      <th>2040</th>\n",
       "      <th>2041</th>\n",
       "      <th>2042</th>\n",
       "      <th>2043</th>\n",
       "      <th>2044</th>\n",
       "      <th>2045</th>\n",
       "      <th>2046</th>\n",
       "      <th>2047</th>\n",
       "    </tr>\n",
       "  </thead>\n",
       "  <tbody>\n",
       "    <tr>\n",
       "      <th>0</th>\n",
       "      <td>0.0</td>\n",
       "      <td>0.0</td>\n",
       "      <td>1.0</td>\n",
       "      <td>0.0</td>\n",
       "      <td>0.0</td>\n",
       "      <td>0.0</td>\n",
       "      <td>0.0</td>\n",
       "      <td>0.0</td>\n",
       "      <td>1.0</td>\n",
       "      <td>0.0</td>\n",
       "      <td>...</td>\n",
       "      <td>0.0</td>\n",
       "      <td>0.0</td>\n",
       "      <td>0.0</td>\n",
       "      <td>0.0</td>\n",
       "      <td>0.0</td>\n",
       "      <td>0.0</td>\n",
       "      <td>0.0</td>\n",
       "      <td>0.0</td>\n",
       "      <td>0.0</td>\n",
       "      <td>1.0</td>\n",
       "    </tr>\n",
       "    <tr>\n",
       "      <th>1</th>\n",
       "      <td>1.0</td>\n",
       "      <td>0.0</td>\n",
       "      <td>1.0</td>\n",
       "      <td>0.0</td>\n",
       "      <td>0.0</td>\n",
       "      <td>1.0</td>\n",
       "      <td>0.0</td>\n",
       "      <td>1.0</td>\n",
       "      <td>0.0</td>\n",
       "      <td>0.0</td>\n",
       "      <td>...</td>\n",
       "      <td>0.0</td>\n",
       "      <td>0.0</td>\n",
       "      <td>0.0</td>\n",
       "      <td>1.0</td>\n",
       "      <td>1.0</td>\n",
       "      <td>0.0</td>\n",
       "      <td>0.0</td>\n",
       "      <td>0.0</td>\n",
       "      <td>0.0</td>\n",
       "      <td>1.0</td>\n",
       "    </tr>\n",
       "    <tr>\n",
       "      <th>2</th>\n",
       "      <td>0.0</td>\n",
       "      <td>1.0</td>\n",
       "      <td>1.0</td>\n",
       "      <td>0.0</td>\n",
       "      <td>0.0</td>\n",
       "      <td>0.0</td>\n",
       "      <td>0.0</td>\n",
       "      <td>0.0</td>\n",
       "      <td>1.0</td>\n",
       "      <td>0.0</td>\n",
       "      <td>...</td>\n",
       "      <td>1.0</td>\n",
       "      <td>0.0</td>\n",
       "      <td>0.0</td>\n",
       "      <td>0.0</td>\n",
       "      <td>0.0</td>\n",
       "      <td>1.0</td>\n",
       "      <td>0.0</td>\n",
       "      <td>0.0</td>\n",
       "      <td>1.0</td>\n",
       "      <td>1.0</td>\n",
       "    </tr>\n",
       "    <tr>\n",
       "      <th>3</th>\n",
       "      <td>0.0</td>\n",
       "      <td>1.0</td>\n",
       "      <td>1.0</td>\n",
       "      <td>0.0</td>\n",
       "      <td>0.0</td>\n",
       "      <td>0.0</td>\n",
       "      <td>0.0</td>\n",
       "      <td>0.0</td>\n",
       "      <td>1.0</td>\n",
       "      <td>0.0</td>\n",
       "      <td>...</td>\n",
       "      <td>1.0</td>\n",
       "      <td>0.0</td>\n",
       "      <td>0.0</td>\n",
       "      <td>0.0</td>\n",
       "      <td>0.0</td>\n",
       "      <td>1.0</td>\n",
       "      <td>0.0</td>\n",
       "      <td>0.0</td>\n",
       "      <td>1.0</td>\n",
       "      <td>1.0</td>\n",
       "    </tr>\n",
       "    <tr>\n",
       "      <th>4</th>\n",
       "      <td>0.0</td>\n",
       "      <td>1.0</td>\n",
       "      <td>1.0</td>\n",
       "      <td>0.0</td>\n",
       "      <td>0.0</td>\n",
       "      <td>0.0</td>\n",
       "      <td>0.0</td>\n",
       "      <td>0.0</td>\n",
       "      <td>1.0</td>\n",
       "      <td>0.0</td>\n",
       "      <td>...</td>\n",
       "      <td>1.0</td>\n",
       "      <td>0.0</td>\n",
       "      <td>0.0</td>\n",
       "      <td>0.0</td>\n",
       "      <td>1.0</td>\n",
       "      <td>1.0</td>\n",
       "      <td>0.0</td>\n",
       "      <td>0.0</td>\n",
       "      <td>1.0</td>\n",
       "      <td>1.0</td>\n",
       "    </tr>\n",
       "    <tr>\n",
       "      <th>...</th>\n",
       "      <td>...</td>\n",
       "      <td>...</td>\n",
       "      <td>...</td>\n",
       "      <td>...</td>\n",
       "      <td>...</td>\n",
       "      <td>...</td>\n",
       "      <td>...</td>\n",
       "      <td>...</td>\n",
       "      <td>...</td>\n",
       "      <td>...</td>\n",
       "      <td>...</td>\n",
       "      <td>...</td>\n",
       "      <td>...</td>\n",
       "      <td>...</td>\n",
       "      <td>...</td>\n",
       "      <td>...</td>\n",
       "      <td>...</td>\n",
       "      <td>...</td>\n",
       "      <td>...</td>\n",
       "      <td>...</td>\n",
       "      <td>...</td>\n",
       "    </tr>\n",
       "    <tr>\n",
       "      <th>100</th>\n",
       "      <td>1.0</td>\n",
       "      <td>0.0</td>\n",
       "      <td>0.0</td>\n",
       "      <td>0.0</td>\n",
       "      <td>1.0</td>\n",
       "      <td>0.0</td>\n",
       "      <td>0.0</td>\n",
       "      <td>0.0</td>\n",
       "      <td>0.0</td>\n",
       "      <td>0.0</td>\n",
       "      <td>...</td>\n",
       "      <td>0.0</td>\n",
       "      <td>0.0</td>\n",
       "      <td>0.0</td>\n",
       "      <td>0.0</td>\n",
       "      <td>1.0</td>\n",
       "      <td>0.0</td>\n",
       "      <td>0.0</td>\n",
       "      <td>0.0</td>\n",
       "      <td>1.0</td>\n",
       "      <td>1.0</td>\n",
       "    </tr>\n",
       "    <tr>\n",
       "      <th>101</th>\n",
       "      <td>0.0</td>\n",
       "      <td>0.0</td>\n",
       "      <td>0.0</td>\n",
       "      <td>0.0</td>\n",
       "      <td>0.0</td>\n",
       "      <td>0.0</td>\n",
       "      <td>0.0</td>\n",
       "      <td>1.0</td>\n",
       "      <td>0.0</td>\n",
       "      <td>0.0</td>\n",
       "      <td>...</td>\n",
       "      <td>0.0</td>\n",
       "      <td>0.0</td>\n",
       "      <td>0.0</td>\n",
       "      <td>0.0</td>\n",
       "      <td>0.0</td>\n",
       "      <td>0.0</td>\n",
       "      <td>0.0</td>\n",
       "      <td>0.0</td>\n",
       "      <td>0.0</td>\n",
       "      <td>1.0</td>\n",
       "    </tr>\n",
       "    <tr>\n",
       "      <th>102</th>\n",
       "      <td>1.0</td>\n",
       "      <td>1.0</td>\n",
       "      <td>0.0</td>\n",
       "      <td>1.0</td>\n",
       "      <td>1.0</td>\n",
       "      <td>0.0</td>\n",
       "      <td>0.0</td>\n",
       "      <td>0.0</td>\n",
       "      <td>0.0</td>\n",
       "      <td>0.0</td>\n",
       "      <td>...</td>\n",
       "      <td>1.0</td>\n",
       "      <td>0.0</td>\n",
       "      <td>0.0</td>\n",
       "      <td>0.0</td>\n",
       "      <td>1.0</td>\n",
       "      <td>1.0</td>\n",
       "      <td>0.0</td>\n",
       "      <td>0.0</td>\n",
       "      <td>1.0</td>\n",
       "      <td>1.0</td>\n",
       "    </tr>\n",
       "    <tr>\n",
       "      <th>103</th>\n",
       "      <td>1.0</td>\n",
       "      <td>1.0</td>\n",
       "      <td>0.0</td>\n",
       "      <td>1.0</td>\n",
       "      <td>0.0</td>\n",
       "      <td>1.0</td>\n",
       "      <td>0.0</td>\n",
       "      <td>1.0</td>\n",
       "      <td>0.0</td>\n",
       "      <td>1.0</td>\n",
       "      <td>...</td>\n",
       "      <td>1.0</td>\n",
       "      <td>0.0</td>\n",
       "      <td>0.0</td>\n",
       "      <td>0.0</td>\n",
       "      <td>1.0</td>\n",
       "      <td>1.0</td>\n",
       "      <td>1.0</td>\n",
       "      <td>0.0</td>\n",
       "      <td>0.0</td>\n",
       "      <td>1.0</td>\n",
       "    </tr>\n",
       "    <tr>\n",
       "      <th>104</th>\n",
       "      <td>1.0</td>\n",
       "      <td>0.0</td>\n",
       "      <td>0.0</td>\n",
       "      <td>0.0</td>\n",
       "      <td>1.0</td>\n",
       "      <td>0.0</td>\n",
       "      <td>0.0</td>\n",
       "      <td>0.0</td>\n",
       "      <td>0.0</td>\n",
       "      <td>0.0</td>\n",
       "      <td>...</td>\n",
       "      <td>0.0</td>\n",
       "      <td>0.0</td>\n",
       "      <td>0.0</td>\n",
       "      <td>0.0</td>\n",
       "      <td>1.0</td>\n",
       "      <td>0.0</td>\n",
       "      <td>0.0</td>\n",
       "      <td>0.0</td>\n",
       "      <td>1.0</td>\n",
       "      <td>1.0</td>\n",
       "    </tr>\n",
       "  </tbody>\n",
       "</table>\n",
       "<p>105 rows × 2048 columns</p>\n",
       "</div>"
      ],
      "text/plain": [
       "     0     1     2     3     4     5     6     7     8     9     ...  2038  \\\n",
       "0     0.0   0.0   1.0   0.0   0.0   0.0   0.0   0.0   1.0   0.0  ...   0.0   \n",
       "1     1.0   0.0   1.0   0.0   0.0   1.0   0.0   1.0   0.0   0.0  ...   0.0   \n",
       "2     0.0   1.0   1.0   0.0   0.0   0.0   0.0   0.0   1.0   0.0  ...   1.0   \n",
       "3     0.0   1.0   1.0   0.0   0.0   0.0   0.0   0.0   1.0   0.0  ...   1.0   \n",
       "4     0.0   1.0   1.0   0.0   0.0   0.0   0.0   0.0   1.0   0.0  ...   1.0   \n",
       "..    ...   ...   ...   ...   ...   ...   ...   ...   ...   ...  ...   ...   \n",
       "100   1.0   0.0   0.0   0.0   1.0   0.0   0.0   0.0   0.0   0.0  ...   0.0   \n",
       "101   0.0   0.0   0.0   0.0   0.0   0.0   0.0   1.0   0.0   0.0  ...   0.0   \n",
       "102   1.0   1.0   0.0   1.0   1.0   0.0   0.0   0.0   0.0   0.0  ...   1.0   \n",
       "103   1.0   1.0   0.0   1.0   0.0   1.0   0.0   1.0   0.0   1.0  ...   1.0   \n",
       "104   1.0   0.0   0.0   0.0   1.0   0.0   0.0   0.0   0.0   0.0  ...   0.0   \n",
       "\n",
       "     2039  2040  2041  2042  2043  2044  2045  2046  2047  \n",
       "0     0.0   0.0   0.0   0.0   0.0   0.0   0.0   0.0   1.0  \n",
       "1     0.0   0.0   1.0   1.0   0.0   0.0   0.0   0.0   1.0  \n",
       "2     0.0   0.0   0.0   0.0   1.0   0.0   0.0   1.0   1.0  \n",
       "3     0.0   0.0   0.0   0.0   1.0   0.0   0.0   1.0   1.0  \n",
       "4     0.0   0.0   0.0   1.0   1.0   0.0   0.0   1.0   1.0  \n",
       "..    ...   ...   ...   ...   ...   ...   ...   ...   ...  \n",
       "100   0.0   0.0   0.0   1.0   0.0   0.0   0.0   1.0   1.0  \n",
       "101   0.0   0.0   0.0   0.0   0.0   0.0   0.0   0.0   1.0  \n",
       "102   0.0   0.0   0.0   1.0   1.0   0.0   0.0   1.0   1.0  \n",
       "103   0.0   0.0   0.0   1.0   1.0   1.0   0.0   0.0   1.0  \n",
       "104   0.0   0.0   0.0   1.0   0.0   0.0   0.0   1.0   1.0  \n",
       "\n",
       "[105 rows x 2048 columns]"
      ]
     },
     "execution_count": 14,
     "metadata": {},
     "output_type": "execute_result"
    }
   ],
   "source": [
    "x_tr"
   ]
  },
  {
   "cell_type": "code",
   "execution_count": 15,
   "metadata": {},
   "outputs": [],
   "source": [
    "x_tr.to_csv('Models/Topological_fingerprints/x_tr.csv', index=True)"
   ]
  },
  {
   "cell_type": "code",
   "execution_count": 16,
   "metadata": {},
   "outputs": [
    {
     "data": {
      "text/plain": [
       "(105, 2048)"
      ]
     },
     "execution_count": 16,
     "metadata": {},
     "output_type": "execute_result"
    }
   ],
   "source": [
    "x_tr.shape"
   ]
  },
  {
   "cell_type": "markdown",
   "metadata": {},
   "source": [
    "# 7.Descriptor calculation for test set"
   ]
  },
  {
   "cell_type": "code",
   "execution_count": 17,
   "metadata": {},
   "outputs": [],
   "source": [
    "fp_ts = [Chem.RDKFingerprint(m) for m in moldf_ts]"
   ]
  },
  {
   "cell_type": "code",
   "execution_count": 18,
   "metadata": {},
   "outputs": [],
   "source": [
    "def rdkit_numpy_convert(fp_ts):\n",
    "    output = []\n",
    "    for f in fp_ts:\n",
    "        arr = np.zeros((1,))\n",
    "        DataStructs.ConvertToNumpyArray(f, arr)\n",
    "        output.append(arr)\n",
    "    return np.asarray(output)"
   ]
  },
  {
   "cell_type": "code",
   "execution_count": 19,
   "metadata": {},
   "outputs": [],
   "source": [
    "x_ts = rdkit_numpy_convert(fp_ts)"
   ]
  },
  {
   "cell_type": "code",
   "execution_count": 20,
   "metadata": {},
   "outputs": [],
   "source": [
    "x_ts = pd.DataFrame(np.array(x_ts)) "
   ]
  },
  {
   "cell_type": "code",
   "execution_count": 21,
   "metadata": {},
   "outputs": [
    {
     "data": {
      "text/html": [
       "<div>\n",
       "<style scoped>\n",
       "    .dataframe tbody tr th:only-of-type {\n",
       "        vertical-align: middle;\n",
       "    }\n",
       "\n",
       "    .dataframe tbody tr th {\n",
       "        vertical-align: top;\n",
       "    }\n",
       "\n",
       "    .dataframe thead th {\n",
       "        text-align: right;\n",
       "    }\n",
       "</style>\n",
       "<table border=\"1\" class=\"dataframe\">\n",
       "  <thead>\n",
       "    <tr style=\"text-align: right;\">\n",
       "      <th></th>\n",
       "      <th>0</th>\n",
       "      <th>1</th>\n",
       "      <th>2</th>\n",
       "      <th>3</th>\n",
       "      <th>4</th>\n",
       "      <th>5</th>\n",
       "      <th>6</th>\n",
       "      <th>7</th>\n",
       "      <th>8</th>\n",
       "      <th>9</th>\n",
       "      <th>...</th>\n",
       "      <th>2038</th>\n",
       "      <th>2039</th>\n",
       "      <th>2040</th>\n",
       "      <th>2041</th>\n",
       "      <th>2042</th>\n",
       "      <th>2043</th>\n",
       "      <th>2044</th>\n",
       "      <th>2045</th>\n",
       "      <th>2046</th>\n",
       "      <th>2047</th>\n",
       "    </tr>\n",
       "  </thead>\n",
       "  <tbody>\n",
       "    <tr>\n",
       "      <th>0</th>\n",
       "      <td>0.0</td>\n",
       "      <td>1.0</td>\n",
       "      <td>1.0</td>\n",
       "      <td>0.0</td>\n",
       "      <td>0.0</td>\n",
       "      <td>0.0</td>\n",
       "      <td>0.0</td>\n",
       "      <td>0.0</td>\n",
       "      <td>1.0</td>\n",
       "      <td>0.0</td>\n",
       "      <td>...</td>\n",
       "      <td>1.0</td>\n",
       "      <td>0.0</td>\n",
       "      <td>0.0</td>\n",
       "      <td>0.0</td>\n",
       "      <td>0.0</td>\n",
       "      <td>1.0</td>\n",
       "      <td>0.0</td>\n",
       "      <td>0.0</td>\n",
       "      <td>1.0</td>\n",
       "      <td>1.0</td>\n",
       "    </tr>\n",
       "    <tr>\n",
       "      <th>1</th>\n",
       "      <td>1.0</td>\n",
       "      <td>1.0</td>\n",
       "      <td>1.0</td>\n",
       "      <td>1.0</td>\n",
       "      <td>0.0</td>\n",
       "      <td>1.0</td>\n",
       "      <td>0.0</td>\n",
       "      <td>0.0</td>\n",
       "      <td>1.0</td>\n",
       "      <td>0.0</td>\n",
       "      <td>...</td>\n",
       "      <td>1.0</td>\n",
       "      <td>1.0</td>\n",
       "      <td>0.0</td>\n",
       "      <td>1.0</td>\n",
       "      <td>1.0</td>\n",
       "      <td>1.0</td>\n",
       "      <td>1.0</td>\n",
       "      <td>0.0</td>\n",
       "      <td>0.0</td>\n",
       "      <td>1.0</td>\n",
       "    </tr>\n",
       "    <tr>\n",
       "      <th>2</th>\n",
       "      <td>0.0</td>\n",
       "      <td>1.0</td>\n",
       "      <td>1.0</td>\n",
       "      <td>1.0</td>\n",
       "      <td>0.0</td>\n",
       "      <td>0.0</td>\n",
       "      <td>0.0</td>\n",
       "      <td>0.0</td>\n",
       "      <td>1.0</td>\n",
       "      <td>0.0</td>\n",
       "      <td>...</td>\n",
       "      <td>1.0</td>\n",
       "      <td>1.0</td>\n",
       "      <td>0.0</td>\n",
       "      <td>0.0</td>\n",
       "      <td>1.0</td>\n",
       "      <td>0.0</td>\n",
       "      <td>1.0</td>\n",
       "      <td>0.0</td>\n",
       "      <td>1.0</td>\n",
       "      <td>1.0</td>\n",
       "    </tr>\n",
       "    <tr>\n",
       "      <th>3</th>\n",
       "      <td>1.0</td>\n",
       "      <td>0.0</td>\n",
       "      <td>1.0</td>\n",
       "      <td>0.0</td>\n",
       "      <td>0.0</td>\n",
       "      <td>1.0</td>\n",
       "      <td>0.0</td>\n",
       "      <td>1.0</td>\n",
       "      <td>1.0</td>\n",
       "      <td>1.0</td>\n",
       "      <td>...</td>\n",
       "      <td>0.0</td>\n",
       "      <td>0.0</td>\n",
       "      <td>0.0</td>\n",
       "      <td>1.0</td>\n",
       "      <td>0.0</td>\n",
       "      <td>0.0</td>\n",
       "      <td>0.0</td>\n",
       "      <td>0.0</td>\n",
       "      <td>0.0</td>\n",
       "      <td>1.0</td>\n",
       "    </tr>\n",
       "    <tr>\n",
       "      <th>4</th>\n",
       "      <td>0.0</td>\n",
       "      <td>1.0</td>\n",
       "      <td>0.0</td>\n",
       "      <td>1.0</td>\n",
       "      <td>0.0</td>\n",
       "      <td>0.0</td>\n",
       "      <td>0.0</td>\n",
       "      <td>0.0</td>\n",
       "      <td>0.0</td>\n",
       "      <td>0.0</td>\n",
       "      <td>...</td>\n",
       "      <td>1.0</td>\n",
       "      <td>0.0</td>\n",
       "      <td>0.0</td>\n",
       "      <td>0.0</td>\n",
       "      <td>1.0</td>\n",
       "      <td>1.0</td>\n",
       "      <td>0.0</td>\n",
       "      <td>0.0</td>\n",
       "      <td>0.0</td>\n",
       "      <td>1.0</td>\n",
       "    </tr>\n",
       "    <tr>\n",
       "      <th>5</th>\n",
       "      <td>1.0</td>\n",
       "      <td>1.0</td>\n",
       "      <td>0.0</td>\n",
       "      <td>0.0</td>\n",
       "      <td>0.0</td>\n",
       "      <td>1.0</td>\n",
       "      <td>0.0</td>\n",
       "      <td>1.0</td>\n",
       "      <td>0.0</td>\n",
       "      <td>1.0</td>\n",
       "      <td>...</td>\n",
       "      <td>1.0</td>\n",
       "      <td>0.0</td>\n",
       "      <td>0.0</td>\n",
       "      <td>0.0</td>\n",
       "      <td>1.0</td>\n",
       "      <td>1.0</td>\n",
       "      <td>0.0</td>\n",
       "      <td>0.0</td>\n",
       "      <td>0.0</td>\n",
       "      <td>1.0</td>\n",
       "    </tr>\n",
       "    <tr>\n",
       "      <th>6</th>\n",
       "      <td>0.0</td>\n",
       "      <td>1.0</td>\n",
       "      <td>1.0</td>\n",
       "      <td>1.0</td>\n",
       "      <td>0.0</td>\n",
       "      <td>0.0</td>\n",
       "      <td>1.0</td>\n",
       "      <td>0.0</td>\n",
       "      <td>1.0</td>\n",
       "      <td>0.0</td>\n",
       "      <td>...</td>\n",
       "      <td>1.0</td>\n",
       "      <td>1.0</td>\n",
       "      <td>0.0</td>\n",
       "      <td>0.0</td>\n",
       "      <td>0.0</td>\n",
       "      <td>0.0</td>\n",
       "      <td>1.0</td>\n",
       "      <td>0.0</td>\n",
       "      <td>1.0</td>\n",
       "      <td>1.0</td>\n",
       "    </tr>\n",
       "    <tr>\n",
       "      <th>7</th>\n",
       "      <td>1.0</td>\n",
       "      <td>0.0</td>\n",
       "      <td>0.0</td>\n",
       "      <td>0.0</td>\n",
       "      <td>0.0</td>\n",
       "      <td>1.0</td>\n",
       "      <td>1.0</td>\n",
       "      <td>0.0</td>\n",
       "      <td>0.0</td>\n",
       "      <td>1.0</td>\n",
       "      <td>...</td>\n",
       "      <td>0.0</td>\n",
       "      <td>0.0</td>\n",
       "      <td>0.0</td>\n",
       "      <td>1.0</td>\n",
       "      <td>0.0</td>\n",
       "      <td>0.0</td>\n",
       "      <td>0.0</td>\n",
       "      <td>0.0</td>\n",
       "      <td>0.0</td>\n",
       "      <td>1.0</td>\n",
       "    </tr>\n",
       "    <tr>\n",
       "      <th>8</th>\n",
       "      <td>1.0</td>\n",
       "      <td>0.0</td>\n",
       "      <td>0.0</td>\n",
       "      <td>0.0</td>\n",
       "      <td>0.0</td>\n",
       "      <td>1.0</td>\n",
       "      <td>1.0</td>\n",
       "      <td>0.0</td>\n",
       "      <td>0.0</td>\n",
       "      <td>1.0</td>\n",
       "      <td>...</td>\n",
       "      <td>0.0</td>\n",
       "      <td>0.0</td>\n",
       "      <td>0.0</td>\n",
       "      <td>1.0</td>\n",
       "      <td>0.0</td>\n",
       "      <td>0.0</td>\n",
       "      <td>0.0</td>\n",
       "      <td>1.0</td>\n",
       "      <td>0.0</td>\n",
       "      <td>1.0</td>\n",
       "    </tr>\n",
       "    <tr>\n",
       "      <th>9</th>\n",
       "      <td>0.0</td>\n",
       "      <td>1.0</td>\n",
       "      <td>1.0</td>\n",
       "      <td>0.0</td>\n",
       "      <td>0.0</td>\n",
       "      <td>0.0</td>\n",
       "      <td>0.0</td>\n",
       "      <td>0.0</td>\n",
       "      <td>1.0</td>\n",
       "      <td>0.0</td>\n",
       "      <td>...</td>\n",
       "      <td>1.0</td>\n",
       "      <td>1.0</td>\n",
       "      <td>0.0</td>\n",
       "      <td>0.0</td>\n",
       "      <td>0.0</td>\n",
       "      <td>0.0</td>\n",
       "      <td>0.0</td>\n",
       "      <td>0.0</td>\n",
       "      <td>0.0</td>\n",
       "      <td>1.0</td>\n",
       "    </tr>\n",
       "    <tr>\n",
       "      <th>10</th>\n",
       "      <td>1.0</td>\n",
       "      <td>0.0</td>\n",
       "      <td>0.0</td>\n",
       "      <td>0.0</td>\n",
       "      <td>0.0</td>\n",
       "      <td>1.0</td>\n",
       "      <td>0.0</td>\n",
       "      <td>1.0</td>\n",
       "      <td>0.0</td>\n",
       "      <td>0.0</td>\n",
       "      <td>...</td>\n",
       "      <td>0.0</td>\n",
       "      <td>0.0</td>\n",
       "      <td>0.0</td>\n",
       "      <td>1.0</td>\n",
       "      <td>0.0</td>\n",
       "      <td>0.0</td>\n",
       "      <td>0.0</td>\n",
       "      <td>0.0</td>\n",
       "      <td>0.0</td>\n",
       "      <td>1.0</td>\n",
       "    </tr>\n",
       "    <tr>\n",
       "      <th>11</th>\n",
       "      <td>1.0</td>\n",
       "      <td>0.0</td>\n",
       "      <td>0.0</td>\n",
       "      <td>0.0</td>\n",
       "      <td>0.0</td>\n",
       "      <td>1.0</td>\n",
       "      <td>0.0</td>\n",
       "      <td>1.0</td>\n",
       "      <td>1.0</td>\n",
       "      <td>0.0</td>\n",
       "      <td>...</td>\n",
       "      <td>0.0</td>\n",
       "      <td>0.0</td>\n",
       "      <td>0.0</td>\n",
       "      <td>1.0</td>\n",
       "      <td>0.0</td>\n",
       "      <td>0.0</td>\n",
       "      <td>0.0</td>\n",
       "      <td>0.0</td>\n",
       "      <td>0.0</td>\n",
       "      <td>1.0</td>\n",
       "    </tr>\n",
       "    <tr>\n",
       "      <th>12</th>\n",
       "      <td>1.0</td>\n",
       "      <td>0.0</td>\n",
       "      <td>0.0</td>\n",
       "      <td>0.0</td>\n",
       "      <td>0.0</td>\n",
       "      <td>1.0</td>\n",
       "      <td>0.0</td>\n",
       "      <td>1.0</td>\n",
       "      <td>0.0</td>\n",
       "      <td>0.0</td>\n",
       "      <td>...</td>\n",
       "      <td>0.0</td>\n",
       "      <td>0.0</td>\n",
       "      <td>0.0</td>\n",
       "      <td>1.0</td>\n",
       "      <td>0.0</td>\n",
       "      <td>0.0</td>\n",
       "      <td>0.0</td>\n",
       "      <td>0.0</td>\n",
       "      <td>0.0</td>\n",
       "      <td>1.0</td>\n",
       "    </tr>\n",
       "    <tr>\n",
       "      <th>13</th>\n",
       "      <td>1.0</td>\n",
       "      <td>1.0</td>\n",
       "      <td>1.0</td>\n",
       "      <td>1.0</td>\n",
       "      <td>0.0</td>\n",
       "      <td>1.0</td>\n",
       "      <td>1.0</td>\n",
       "      <td>0.0</td>\n",
       "      <td>1.0</td>\n",
       "      <td>0.0</td>\n",
       "      <td>...</td>\n",
       "      <td>1.0</td>\n",
       "      <td>1.0</td>\n",
       "      <td>0.0</td>\n",
       "      <td>1.0</td>\n",
       "      <td>1.0</td>\n",
       "      <td>1.0</td>\n",
       "      <td>1.0</td>\n",
       "      <td>0.0</td>\n",
       "      <td>0.0</td>\n",
       "      <td>1.0</td>\n",
       "    </tr>\n",
       "    <tr>\n",
       "      <th>14</th>\n",
       "      <td>1.0</td>\n",
       "      <td>1.0</td>\n",
       "      <td>1.0</td>\n",
       "      <td>1.0</td>\n",
       "      <td>0.0</td>\n",
       "      <td>1.0</td>\n",
       "      <td>0.0</td>\n",
       "      <td>0.0</td>\n",
       "      <td>1.0</td>\n",
       "      <td>0.0</td>\n",
       "      <td>...</td>\n",
       "      <td>1.0</td>\n",
       "      <td>1.0</td>\n",
       "      <td>0.0</td>\n",
       "      <td>1.0</td>\n",
       "      <td>0.0</td>\n",
       "      <td>0.0</td>\n",
       "      <td>1.0</td>\n",
       "      <td>0.0</td>\n",
       "      <td>0.0</td>\n",
       "      <td>1.0</td>\n",
       "    </tr>\n",
       "    <tr>\n",
       "      <th>15</th>\n",
       "      <td>1.0</td>\n",
       "      <td>1.0</td>\n",
       "      <td>1.0</td>\n",
       "      <td>0.0</td>\n",
       "      <td>0.0</td>\n",
       "      <td>0.0</td>\n",
       "      <td>0.0</td>\n",
       "      <td>0.0</td>\n",
       "      <td>1.0</td>\n",
       "      <td>1.0</td>\n",
       "      <td>...</td>\n",
       "      <td>1.0</td>\n",
       "      <td>1.0</td>\n",
       "      <td>0.0</td>\n",
       "      <td>0.0</td>\n",
       "      <td>0.0</td>\n",
       "      <td>0.0</td>\n",
       "      <td>0.0</td>\n",
       "      <td>0.0</td>\n",
       "      <td>1.0</td>\n",
       "      <td>1.0</td>\n",
       "    </tr>\n",
       "    <tr>\n",
       "      <th>16</th>\n",
       "      <td>1.0</td>\n",
       "      <td>1.0</td>\n",
       "      <td>1.0</td>\n",
       "      <td>0.0</td>\n",
       "      <td>0.0</td>\n",
       "      <td>0.0</td>\n",
       "      <td>0.0</td>\n",
       "      <td>0.0</td>\n",
       "      <td>1.0</td>\n",
       "      <td>1.0</td>\n",
       "      <td>...</td>\n",
       "      <td>1.0</td>\n",
       "      <td>1.0</td>\n",
       "      <td>0.0</td>\n",
       "      <td>0.0</td>\n",
       "      <td>0.0</td>\n",
       "      <td>0.0</td>\n",
       "      <td>0.0</td>\n",
       "      <td>0.0</td>\n",
       "      <td>1.0</td>\n",
       "      <td>1.0</td>\n",
       "    </tr>\n",
       "    <tr>\n",
       "      <th>17</th>\n",
       "      <td>1.0</td>\n",
       "      <td>0.0</td>\n",
       "      <td>1.0</td>\n",
       "      <td>0.0</td>\n",
       "      <td>0.0</td>\n",
       "      <td>1.0</td>\n",
       "      <td>0.0</td>\n",
       "      <td>0.0</td>\n",
       "      <td>1.0</td>\n",
       "      <td>0.0</td>\n",
       "      <td>...</td>\n",
       "      <td>0.0</td>\n",
       "      <td>0.0</td>\n",
       "      <td>0.0</td>\n",
       "      <td>1.0</td>\n",
       "      <td>0.0</td>\n",
       "      <td>0.0</td>\n",
       "      <td>0.0</td>\n",
       "      <td>0.0</td>\n",
       "      <td>0.0</td>\n",
       "      <td>1.0</td>\n",
       "    </tr>\n",
       "    <tr>\n",
       "      <th>18</th>\n",
       "      <td>1.0</td>\n",
       "      <td>0.0</td>\n",
       "      <td>1.0</td>\n",
       "      <td>0.0</td>\n",
       "      <td>1.0</td>\n",
       "      <td>1.0</td>\n",
       "      <td>0.0</td>\n",
       "      <td>1.0</td>\n",
       "      <td>0.0</td>\n",
       "      <td>0.0</td>\n",
       "      <td>...</td>\n",
       "      <td>0.0</td>\n",
       "      <td>0.0</td>\n",
       "      <td>0.0</td>\n",
       "      <td>1.0</td>\n",
       "      <td>1.0</td>\n",
       "      <td>0.0</td>\n",
       "      <td>0.0</td>\n",
       "      <td>0.0</td>\n",
       "      <td>0.0</td>\n",
       "      <td>1.0</td>\n",
       "    </tr>\n",
       "    <tr>\n",
       "      <th>19</th>\n",
       "      <td>1.0</td>\n",
       "      <td>1.0</td>\n",
       "      <td>0.0</td>\n",
       "      <td>0.0</td>\n",
       "      <td>1.0</td>\n",
       "      <td>1.0</td>\n",
       "      <td>0.0</td>\n",
       "      <td>0.0</td>\n",
       "      <td>0.0</td>\n",
       "      <td>0.0</td>\n",
       "      <td>...</td>\n",
       "      <td>1.0</td>\n",
       "      <td>0.0</td>\n",
       "      <td>0.0</td>\n",
       "      <td>0.0</td>\n",
       "      <td>1.0</td>\n",
       "      <td>0.0</td>\n",
       "      <td>0.0</td>\n",
       "      <td>0.0</td>\n",
       "      <td>1.0</td>\n",
       "      <td>1.0</td>\n",
       "    </tr>\n",
       "    <tr>\n",
       "      <th>20</th>\n",
       "      <td>1.0</td>\n",
       "      <td>1.0</td>\n",
       "      <td>0.0</td>\n",
       "      <td>0.0</td>\n",
       "      <td>1.0</td>\n",
       "      <td>1.0</td>\n",
       "      <td>0.0</td>\n",
       "      <td>0.0</td>\n",
       "      <td>0.0</td>\n",
       "      <td>0.0</td>\n",
       "      <td>...</td>\n",
       "      <td>1.0</td>\n",
       "      <td>0.0</td>\n",
       "      <td>0.0</td>\n",
       "      <td>0.0</td>\n",
       "      <td>1.0</td>\n",
       "      <td>0.0</td>\n",
       "      <td>0.0</td>\n",
       "      <td>0.0</td>\n",
       "      <td>1.0</td>\n",
       "      <td>1.0</td>\n",
       "    </tr>\n",
       "    <tr>\n",
       "      <th>21</th>\n",
       "      <td>1.0</td>\n",
       "      <td>0.0</td>\n",
       "      <td>0.0</td>\n",
       "      <td>0.0</td>\n",
       "      <td>0.0</td>\n",
       "      <td>1.0</td>\n",
       "      <td>0.0</td>\n",
       "      <td>1.0</td>\n",
       "      <td>0.0</td>\n",
       "      <td>0.0</td>\n",
       "      <td>...</td>\n",
       "      <td>0.0</td>\n",
       "      <td>0.0</td>\n",
       "      <td>0.0</td>\n",
       "      <td>1.0</td>\n",
       "      <td>0.0</td>\n",
       "      <td>0.0</td>\n",
       "      <td>0.0</td>\n",
       "      <td>0.0</td>\n",
       "      <td>0.0</td>\n",
       "      <td>1.0</td>\n",
       "    </tr>\n",
       "    <tr>\n",
       "      <th>22</th>\n",
       "      <td>1.0</td>\n",
       "      <td>1.0</td>\n",
       "      <td>1.0</td>\n",
       "      <td>1.0</td>\n",
       "      <td>0.0</td>\n",
       "      <td>1.0</td>\n",
       "      <td>0.0</td>\n",
       "      <td>0.0</td>\n",
       "      <td>1.0</td>\n",
       "      <td>0.0</td>\n",
       "      <td>...</td>\n",
       "      <td>1.0</td>\n",
       "      <td>1.0</td>\n",
       "      <td>0.0</td>\n",
       "      <td>1.0</td>\n",
       "      <td>0.0</td>\n",
       "      <td>0.0</td>\n",
       "      <td>1.0</td>\n",
       "      <td>0.0</td>\n",
       "      <td>0.0</td>\n",
       "      <td>1.0</td>\n",
       "    </tr>\n",
       "    <tr>\n",
       "      <th>23</th>\n",
       "      <td>1.0</td>\n",
       "      <td>1.0</td>\n",
       "      <td>1.0</td>\n",
       "      <td>0.0</td>\n",
       "      <td>0.0</td>\n",
       "      <td>0.0</td>\n",
       "      <td>0.0</td>\n",
       "      <td>0.0</td>\n",
       "      <td>1.0</td>\n",
       "      <td>1.0</td>\n",
       "      <td>...</td>\n",
       "      <td>1.0</td>\n",
       "      <td>1.0</td>\n",
       "      <td>0.0</td>\n",
       "      <td>0.0</td>\n",
       "      <td>0.0</td>\n",
       "      <td>0.0</td>\n",
       "      <td>0.0</td>\n",
       "      <td>0.0</td>\n",
       "      <td>1.0</td>\n",
       "      <td>1.0</td>\n",
       "    </tr>\n",
       "    <tr>\n",
       "      <th>24</th>\n",
       "      <td>1.0</td>\n",
       "      <td>1.0</td>\n",
       "      <td>1.0</td>\n",
       "      <td>0.0</td>\n",
       "      <td>0.0</td>\n",
       "      <td>0.0</td>\n",
       "      <td>0.0</td>\n",
       "      <td>0.0</td>\n",
       "      <td>1.0</td>\n",
       "      <td>1.0</td>\n",
       "      <td>...</td>\n",
       "      <td>1.0</td>\n",
       "      <td>1.0</td>\n",
       "      <td>0.0</td>\n",
       "      <td>0.0</td>\n",
       "      <td>0.0</td>\n",
       "      <td>0.0</td>\n",
       "      <td>0.0</td>\n",
       "      <td>0.0</td>\n",
       "      <td>1.0</td>\n",
       "      <td>1.0</td>\n",
       "    </tr>\n",
       "    <tr>\n",
       "      <th>25</th>\n",
       "      <td>1.0</td>\n",
       "      <td>0.0</td>\n",
       "      <td>0.0</td>\n",
       "      <td>0.0</td>\n",
       "      <td>1.0</td>\n",
       "      <td>0.0</td>\n",
       "      <td>0.0</td>\n",
       "      <td>0.0</td>\n",
       "      <td>0.0</td>\n",
       "      <td>0.0</td>\n",
       "      <td>...</td>\n",
       "      <td>0.0</td>\n",
       "      <td>0.0</td>\n",
       "      <td>0.0</td>\n",
       "      <td>0.0</td>\n",
       "      <td>1.0</td>\n",
       "      <td>0.0</td>\n",
       "      <td>0.0</td>\n",
       "      <td>0.0</td>\n",
       "      <td>1.0</td>\n",
       "      <td>1.0</td>\n",
       "    </tr>\n",
       "  </tbody>\n",
       "</table>\n",
       "<p>26 rows × 2048 columns</p>\n",
       "</div>"
      ],
      "text/plain": [
       "    0     1     2     3     4     5     6     7     8     9     ...  2038  \\\n",
       "0    0.0   1.0   1.0   0.0   0.0   0.0   0.0   0.0   1.0   0.0  ...   1.0   \n",
       "1    1.0   1.0   1.0   1.0   0.0   1.0   0.0   0.0   1.0   0.0  ...   1.0   \n",
       "2    0.0   1.0   1.0   1.0   0.0   0.0   0.0   0.0   1.0   0.0  ...   1.0   \n",
       "3    1.0   0.0   1.0   0.0   0.0   1.0   0.0   1.0   1.0   1.0  ...   0.0   \n",
       "4    0.0   1.0   0.0   1.0   0.0   0.0   0.0   0.0   0.0   0.0  ...   1.0   \n",
       "5    1.0   1.0   0.0   0.0   0.0   1.0   0.0   1.0   0.0   1.0  ...   1.0   \n",
       "6    0.0   1.0   1.0   1.0   0.0   0.0   1.0   0.0   1.0   0.0  ...   1.0   \n",
       "7    1.0   0.0   0.0   0.0   0.0   1.0   1.0   0.0   0.0   1.0  ...   0.0   \n",
       "8    1.0   0.0   0.0   0.0   0.0   1.0   1.0   0.0   0.0   1.0  ...   0.0   \n",
       "9    0.0   1.0   1.0   0.0   0.0   0.0   0.0   0.0   1.0   0.0  ...   1.0   \n",
       "10   1.0   0.0   0.0   0.0   0.0   1.0   0.0   1.0   0.0   0.0  ...   0.0   \n",
       "11   1.0   0.0   0.0   0.0   0.0   1.0   0.0   1.0   1.0   0.0  ...   0.0   \n",
       "12   1.0   0.0   0.0   0.0   0.0   1.0   0.0   1.0   0.0   0.0  ...   0.0   \n",
       "13   1.0   1.0   1.0   1.0   0.0   1.0   1.0   0.0   1.0   0.0  ...   1.0   \n",
       "14   1.0   1.0   1.0   1.0   0.0   1.0   0.0   0.0   1.0   0.0  ...   1.0   \n",
       "15   1.0   1.0   1.0   0.0   0.0   0.0   0.0   0.0   1.0   1.0  ...   1.0   \n",
       "16   1.0   1.0   1.0   0.0   0.0   0.0   0.0   0.0   1.0   1.0  ...   1.0   \n",
       "17   1.0   0.0   1.0   0.0   0.0   1.0   0.0   0.0   1.0   0.0  ...   0.0   \n",
       "18   1.0   0.0   1.0   0.0   1.0   1.0   0.0   1.0   0.0   0.0  ...   0.0   \n",
       "19   1.0   1.0   0.0   0.0   1.0   1.0   0.0   0.0   0.0   0.0  ...   1.0   \n",
       "20   1.0   1.0   0.0   0.0   1.0   1.0   0.0   0.0   0.0   0.0  ...   1.0   \n",
       "21   1.0   0.0   0.0   0.0   0.0   1.0   0.0   1.0   0.0   0.0  ...   0.0   \n",
       "22   1.0   1.0   1.0   1.0   0.0   1.0   0.0   0.0   1.0   0.0  ...   1.0   \n",
       "23   1.0   1.0   1.0   0.0   0.0   0.0   0.0   0.0   1.0   1.0  ...   1.0   \n",
       "24   1.0   1.0   1.0   0.0   0.0   0.0   0.0   0.0   1.0   1.0  ...   1.0   \n",
       "25   1.0   0.0   0.0   0.0   1.0   0.0   0.0   0.0   0.0   0.0  ...   0.0   \n",
       "\n",
       "    2039  2040  2041  2042  2043  2044  2045  2046  2047  \n",
       "0    0.0   0.0   0.0   0.0   1.0   0.0   0.0   1.0   1.0  \n",
       "1    1.0   0.0   1.0   1.0   1.0   1.0   0.0   0.0   1.0  \n",
       "2    1.0   0.0   0.0   1.0   0.0   1.0   0.0   1.0   1.0  \n",
       "3    0.0   0.0   1.0   0.0   0.0   0.0   0.0   0.0   1.0  \n",
       "4    0.0   0.0   0.0   1.0   1.0   0.0   0.0   0.0   1.0  \n",
       "5    0.0   0.0   0.0   1.0   1.0   0.0   0.0   0.0   1.0  \n",
       "6    1.0   0.0   0.0   0.0   0.0   1.0   0.0   1.0   1.0  \n",
       "7    0.0   0.0   1.0   0.0   0.0   0.0   0.0   0.0   1.0  \n",
       "8    0.0   0.0   1.0   0.0   0.0   0.0   1.0   0.0   1.0  \n",
       "9    1.0   0.0   0.0   0.0   0.0   0.0   0.0   0.0   1.0  \n",
       "10   0.0   0.0   1.0   0.0   0.0   0.0   0.0   0.0   1.0  \n",
       "11   0.0   0.0   1.0   0.0   0.0   0.0   0.0   0.0   1.0  \n",
       "12   0.0   0.0   1.0   0.0   0.0   0.0   0.0   0.0   1.0  \n",
       "13   1.0   0.0   1.0   1.0   1.0   1.0   0.0   0.0   1.0  \n",
       "14   1.0   0.0   1.0   0.0   0.0   1.0   0.0   0.0   1.0  \n",
       "15   1.0   0.0   0.0   0.0   0.0   0.0   0.0   1.0   1.0  \n",
       "16   1.0   0.0   0.0   0.0   0.0   0.0   0.0   1.0   1.0  \n",
       "17   0.0   0.0   1.0   0.0   0.0   0.0   0.0   0.0   1.0  \n",
       "18   0.0   0.0   1.0   1.0   0.0   0.0   0.0   0.0   1.0  \n",
       "19   0.0   0.0   0.0   1.0   0.0   0.0   0.0   1.0   1.0  \n",
       "20   0.0   0.0   0.0   1.0   0.0   0.0   0.0   1.0   1.0  \n",
       "21   0.0   0.0   1.0   0.0   0.0   0.0   0.0   0.0   1.0  \n",
       "22   1.0   0.0   1.0   0.0   0.0   1.0   0.0   0.0   1.0  \n",
       "23   1.0   0.0   0.0   0.0   0.0   0.0   0.0   1.0   1.0  \n",
       "24   1.0   0.0   0.0   0.0   0.0   0.0   0.0   1.0   1.0  \n",
       "25   0.0   0.0   0.0   1.0   0.0   0.0   0.0   1.0   1.0  \n",
       "\n",
       "[26 rows x 2048 columns]"
      ]
     },
     "execution_count": 21,
     "metadata": {},
     "output_type": "execute_result"
    }
   ],
   "source": [
    "x_ts"
   ]
  },
  {
   "cell_type": "code",
   "execution_count": 22,
   "metadata": {},
   "outputs": [],
   "source": [
    "x_ts.to_csv('Models/Topological_fingerprints/x_ts.csv', index=True)"
   ]
  },
  {
   "cell_type": "code",
   "execution_count": 23,
   "metadata": {},
   "outputs": [
    {
     "data": {
      "text/plain": [
       "(26, 2048)"
      ]
     },
     "execution_count": 23,
     "metadata": {},
     "output_type": "execute_result"
    }
   ],
   "source": [
    "x_ts.shape"
   ]
  },
  {
   "cell_type": "markdown",
   "metadata": {},
   "source": [
    "# 8.Neural network model building and validation "
   ]
  },
  {
   "cell_type": "markdown",
   "metadata": {},
   "source": [
    "## 8.1. Neural network model building "
   ]
  },
  {
   "cell_type": "code",
   "execution_count": 57,
   "metadata": {},
   "outputs": [],
   "source": [
    "parameters = {'activation': ['identity', 'logistic', 'tanh', 'relu'],'solver': ['lbfgs','sgd', 'adam'],'max_iter': [200, 800, 1000, 1400, 1800,2000], 'hidden_layer_sizes':[(500, 400, 300, 200, 100), (400, 400, 400, 400, 400), (300, 300, 300, 300, 300), (200, 200, 200, 200, 200), (100, 100, 100), (10, 10, 10), (500,), (100,), (10,)]}"
   ]
  },
  {
   "cell_type": "code",
   "execution_count": 58,
   "metadata": {},
   "outputs": [
    {
     "name": "stderr",
     "output_type": "stream",
     "text": [
      "C:\\ProgramData\\Anaconda3\\envs\\my-rdkit-env\\lib\\site-packages\\sklearn\\neural_network\\_multilayer_perceptron.py:696: ConvergenceWarning: Stochastic Optimizer: Maximum iterations (200) reached and the optimization hasn't converged yet.\n",
      "  ConvergenceWarning,\n",
      "C:\\ProgramData\\Anaconda3\\envs\\my-rdkit-env\\lib\\site-packages\\sklearn\\neural_network\\_multilayer_perceptron.py:696: ConvergenceWarning: Stochastic Optimizer: Maximum iterations (200) reached and the optimization hasn't converged yet.\n",
      "  ConvergenceWarning,\n",
      "C:\\ProgramData\\Anaconda3\\envs\\my-rdkit-env\\lib\\site-packages\\sklearn\\neural_network\\_multilayer_perceptron.py:696: ConvergenceWarning: Stochastic Optimizer: Maximum iterations (200) reached and the optimization hasn't converged yet.\n",
      "  ConvergenceWarning,\n",
      "C:\\ProgramData\\Anaconda3\\envs\\my-rdkit-env\\lib\\site-packages\\sklearn\\neural_network\\_multilayer_perceptron.py:696: ConvergenceWarning: Stochastic Optimizer: Maximum iterations (200) reached and the optimization hasn't converged yet.\n",
      "  ConvergenceWarning,\n",
      "C:\\ProgramData\\Anaconda3\\envs\\my-rdkit-env\\lib\\site-packages\\sklearn\\neural_network\\_multilayer_perceptron.py:696: ConvergenceWarning: Stochastic Optimizer: Maximum iterations (200) reached and the optimization hasn't converged yet.\n",
      "  ConvergenceWarning,\n",
      "C:\\ProgramData\\Anaconda3\\envs\\my-rdkit-env\\lib\\site-packages\\sklearn\\neural_network\\_multilayer_perceptron.py:696: ConvergenceWarning: Stochastic Optimizer: Maximum iterations (200) reached and the optimization hasn't converged yet.\n",
      "  ConvergenceWarning,\n",
      "C:\\ProgramData\\Anaconda3\\envs\\my-rdkit-env\\lib\\site-packages\\sklearn\\neural_network\\_multilayer_perceptron.py:696: ConvergenceWarning: Stochastic Optimizer: Maximum iterations (200) reached and the optimization hasn't converged yet.\n",
      "  ConvergenceWarning,\n",
      "C:\\ProgramData\\Anaconda3\\envs\\my-rdkit-env\\lib\\site-packages\\sklearn\\neural_network\\_multilayer_perceptron.py:696: ConvergenceWarning: Stochastic Optimizer: Maximum iterations (200) reached and the optimization hasn't converged yet.\n",
      "  ConvergenceWarning,\n",
      "C:\\ProgramData\\Anaconda3\\envs\\my-rdkit-env\\lib\\site-packages\\sklearn\\neural_network\\_multilayer_perceptron.py:696: ConvergenceWarning: Stochastic Optimizer: Maximum iterations (200) reached and the optimization hasn't converged yet.\n",
      "  ConvergenceWarning,\n",
      "C:\\ProgramData\\Anaconda3\\envs\\my-rdkit-env\\lib\\site-packages\\sklearn\\neural_network\\_multilayer_perceptron.py:696: ConvergenceWarning: Stochastic Optimizer: Maximum iterations (200) reached and the optimization hasn't converged yet.\n",
      "  ConvergenceWarning,\n",
      "C:\\ProgramData\\Anaconda3\\envs\\my-rdkit-env\\lib\\site-packages\\sklearn\\neural_network\\_multilayer_perceptron.py:696: ConvergenceWarning: Stochastic Optimizer: Maximum iterations (200) reached and the optimization hasn't converged yet.\n",
      "  ConvergenceWarning,\n",
      "C:\\ProgramData\\Anaconda3\\envs\\my-rdkit-env\\lib\\site-packages\\sklearn\\neural_network\\_multilayer_perceptron.py:696: ConvergenceWarning: Stochastic Optimizer: Maximum iterations (200) reached and the optimization hasn't converged yet.\n",
      "  ConvergenceWarning,\n",
      "C:\\ProgramData\\Anaconda3\\envs\\my-rdkit-env\\lib\\site-packages\\sklearn\\neural_network\\_multilayer_perceptron.py:696: ConvergenceWarning: Stochastic Optimizer: Maximum iterations (200) reached and the optimization hasn't converged yet.\n",
      "  ConvergenceWarning,\n",
      "C:\\ProgramData\\Anaconda3\\envs\\my-rdkit-env\\lib\\site-packages\\sklearn\\neural_network\\_multilayer_perceptron.py:696: ConvergenceWarning: Stochastic Optimizer: Maximum iterations (200) reached and the optimization hasn't converged yet.\n",
      "  ConvergenceWarning,\n",
      "C:\\ProgramData\\Anaconda3\\envs\\my-rdkit-env\\lib\\site-packages\\sklearn\\neural_network\\_multilayer_perceptron.py:696: ConvergenceWarning: Stochastic Optimizer: Maximum iterations (200) reached and the optimization hasn't converged yet.\n",
      "  ConvergenceWarning,\n",
      "C:\\ProgramData\\Anaconda3\\envs\\my-rdkit-env\\lib\\site-packages\\sklearn\\neural_network\\_multilayer_perceptron.py:696: ConvergenceWarning: Stochastic Optimizer: Maximum iterations (200) reached and the optimization hasn't converged yet.\n",
      "  ConvergenceWarning,\n",
      "C:\\ProgramData\\Anaconda3\\envs\\my-rdkit-env\\lib\\site-packages\\sklearn\\neural_network\\_multilayer_perceptron.py:696: ConvergenceWarning: Stochastic Optimizer: Maximum iterations (200) reached and the optimization hasn't converged yet.\n",
      "  ConvergenceWarning,\n",
      "C:\\ProgramData\\Anaconda3\\envs\\my-rdkit-env\\lib\\site-packages\\sklearn\\neural_network\\_multilayer_perceptron.py:696: ConvergenceWarning: Stochastic Optimizer: Maximum iterations (200) reached and the optimization hasn't converged yet.\n",
      "  ConvergenceWarning,\n",
      "C:\\ProgramData\\Anaconda3\\envs\\my-rdkit-env\\lib\\site-packages\\sklearn\\neural_network\\_multilayer_perceptron.py:696: ConvergenceWarning: Stochastic Optimizer: Maximum iterations (200) reached and the optimization hasn't converged yet.\n",
      "  ConvergenceWarning,\n",
      "C:\\ProgramData\\Anaconda3\\envs\\my-rdkit-env\\lib\\site-packages\\sklearn\\neural_network\\_multilayer_perceptron.py:696: ConvergenceWarning: Stochastic Optimizer: Maximum iterations (200) reached and the optimization hasn't converged yet.\n",
      "  ConvergenceWarning,\n",
      "C:\\ProgramData\\Anaconda3\\envs\\my-rdkit-env\\lib\\site-packages\\sklearn\\neural_network\\_multilayer_perceptron.py:696: ConvergenceWarning: Stochastic Optimizer: Maximum iterations (200) reached and the optimization hasn't converged yet.\n",
      "  ConvergenceWarning,\n",
      "C:\\ProgramData\\Anaconda3\\envs\\my-rdkit-env\\lib\\site-packages\\sklearn\\neural_network\\_multilayer_perceptron.py:696: ConvergenceWarning: Stochastic Optimizer: Maximum iterations (200) reached and the optimization hasn't converged yet.\n",
      "  ConvergenceWarning,\n",
      "C:\\ProgramData\\Anaconda3\\envs\\my-rdkit-env\\lib\\site-packages\\sklearn\\neural_network\\_multilayer_perceptron.py:696: ConvergenceWarning: Stochastic Optimizer: Maximum iterations (200) reached and the optimization hasn't converged yet.\n",
      "  ConvergenceWarning,\n",
      "C:\\ProgramData\\Anaconda3\\envs\\my-rdkit-env\\lib\\site-packages\\sklearn\\neural_network\\_multilayer_perceptron.py:696: ConvergenceWarning: Stochastic Optimizer: Maximum iterations (200) reached and the optimization hasn't converged yet.\n",
      "  ConvergenceWarning,\n",
      "C:\\ProgramData\\Anaconda3\\envs\\my-rdkit-env\\lib\\site-packages\\sklearn\\neural_network\\_multilayer_perceptron.py:696: ConvergenceWarning: Stochastic Optimizer: Maximum iterations (200) reached and the optimization hasn't converged yet.\n",
      "  ConvergenceWarning,\n",
      "C:\\ProgramData\\Anaconda3\\envs\\my-rdkit-env\\lib\\site-packages\\sklearn\\neural_network\\_multilayer_perceptron.py:696: ConvergenceWarning: Stochastic Optimizer: Maximum iterations (200) reached and the optimization hasn't converged yet.\n",
      "  ConvergenceWarning,\n",
      "C:\\ProgramData\\Anaconda3\\envs\\my-rdkit-env\\lib\\site-packages\\sklearn\\neural_network\\_multilayer_perceptron.py:696: ConvergenceWarning: Stochastic Optimizer: Maximum iterations (200) reached and the optimization hasn't converged yet.\n",
      "  ConvergenceWarning,\n",
      "C:\\ProgramData\\Anaconda3\\envs\\my-rdkit-env\\lib\\site-packages\\sklearn\\neural_network\\_multilayer_perceptron.py:696: ConvergenceWarning: Stochastic Optimizer: Maximum iterations (200) reached and the optimization hasn't converged yet.\n",
      "  ConvergenceWarning,\n",
      "C:\\ProgramData\\Anaconda3\\envs\\my-rdkit-env\\lib\\site-packages\\sklearn\\neural_network\\_multilayer_perceptron.py:696: ConvergenceWarning: Stochastic Optimizer: Maximum iterations (200) reached and the optimization hasn't converged yet.\n",
      "  ConvergenceWarning,\n",
      "C:\\ProgramData\\Anaconda3\\envs\\my-rdkit-env\\lib\\site-packages\\sklearn\\neural_network\\_multilayer_perceptron.py:696: ConvergenceWarning: Stochastic Optimizer: Maximum iterations (200) reached and the optimization hasn't converged yet.\n",
      "  ConvergenceWarning,\n",
      "C:\\ProgramData\\Anaconda3\\envs\\my-rdkit-env\\lib\\site-packages\\sklearn\\neural_network\\_multilayer_perceptron.py:696: ConvergenceWarning: Stochastic Optimizer: Maximum iterations (200) reached and the optimization hasn't converged yet.\n",
      "  ConvergenceWarning,\n",
      "C:\\ProgramData\\Anaconda3\\envs\\my-rdkit-env\\lib\\site-packages\\sklearn\\neural_network\\_multilayer_perceptron.py:696: ConvergenceWarning: Stochastic Optimizer: Maximum iterations (200) reached and the optimization hasn't converged yet.\n",
      "  ConvergenceWarning,\n",
      "C:\\ProgramData\\Anaconda3\\envs\\my-rdkit-env\\lib\\site-packages\\sklearn\\neural_network\\_multilayer_perceptron.py:696: ConvergenceWarning: Stochastic Optimizer: Maximum iterations (200) reached and the optimization hasn't converged yet.\n",
      "  ConvergenceWarning,\n"
     ]
    },
    {
     "name": "stderr",
     "output_type": "stream",
     "text": [
      "C:\\ProgramData\\Anaconda3\\envs\\my-rdkit-env\\lib\\site-packages\\sklearn\\neural_network\\_multilayer_perceptron.py:696: ConvergenceWarning: Stochastic Optimizer: Maximum iterations (200) reached and the optimization hasn't converged yet.\n",
      "  ConvergenceWarning,\n",
      "C:\\ProgramData\\Anaconda3\\envs\\my-rdkit-env\\lib\\site-packages\\sklearn\\neural_network\\_multilayer_perceptron.py:696: ConvergenceWarning: Stochastic Optimizer: Maximum iterations (200) reached and the optimization hasn't converged yet.\n",
      "  ConvergenceWarning,\n",
      "C:\\ProgramData\\Anaconda3\\envs\\my-rdkit-env\\lib\\site-packages\\sklearn\\neural_network\\_multilayer_perceptron.py:696: ConvergenceWarning: Stochastic Optimizer: Maximum iterations (200) reached and the optimization hasn't converged yet.\n",
      "  ConvergenceWarning,\n",
      "C:\\ProgramData\\Anaconda3\\envs\\my-rdkit-env\\lib\\site-packages\\sklearn\\neural_network\\_multilayer_perceptron.py:696: ConvergenceWarning: Stochastic Optimizer: Maximum iterations (200) reached and the optimization hasn't converged yet.\n",
      "  ConvergenceWarning,\n",
      "C:\\ProgramData\\Anaconda3\\envs\\my-rdkit-env\\lib\\site-packages\\sklearn\\neural_network\\_multilayer_perceptron.py:696: ConvergenceWarning: Stochastic Optimizer: Maximum iterations (200) reached and the optimization hasn't converged yet.\n",
      "  ConvergenceWarning,\n",
      "C:\\ProgramData\\Anaconda3\\envs\\my-rdkit-env\\lib\\site-packages\\sklearn\\neural_network\\_multilayer_perceptron.py:696: ConvergenceWarning: Stochastic Optimizer: Maximum iterations (200) reached and the optimization hasn't converged yet.\n",
      "  ConvergenceWarning,\n",
      "C:\\ProgramData\\Anaconda3\\envs\\my-rdkit-env\\lib\\site-packages\\sklearn\\neural_network\\_multilayer_perceptron.py:696: ConvergenceWarning: Stochastic Optimizer: Maximum iterations (200) reached and the optimization hasn't converged yet.\n",
      "  ConvergenceWarning,\n",
      "C:\\ProgramData\\Anaconda3\\envs\\my-rdkit-env\\lib\\site-packages\\sklearn\\neural_network\\_multilayer_perceptron.py:696: ConvergenceWarning: Stochastic Optimizer: Maximum iterations (200) reached and the optimization hasn't converged yet.\n",
      "  ConvergenceWarning,\n",
      "C:\\ProgramData\\Anaconda3\\envs\\my-rdkit-env\\lib\\site-packages\\sklearn\\neural_network\\_multilayer_perceptron.py:696: ConvergenceWarning: Stochastic Optimizer: Maximum iterations (200) reached and the optimization hasn't converged yet.\n",
      "  ConvergenceWarning,\n",
      "C:\\ProgramData\\Anaconda3\\envs\\my-rdkit-env\\lib\\site-packages\\sklearn\\neural_network\\_multilayer_perceptron.py:696: ConvergenceWarning: Stochastic Optimizer: Maximum iterations (200) reached and the optimization hasn't converged yet.\n",
      "  ConvergenceWarning,\n",
      "C:\\ProgramData\\Anaconda3\\envs\\my-rdkit-env\\lib\\site-packages\\sklearn\\neural_network\\_multilayer_perceptron.py:696: ConvergenceWarning: Stochastic Optimizer: Maximum iterations (200) reached and the optimization hasn't converged yet.\n",
      "  ConvergenceWarning,\n",
      "C:\\ProgramData\\Anaconda3\\envs\\my-rdkit-env\\lib\\site-packages\\sklearn\\neural_network\\_multilayer_perceptron.py:696: ConvergenceWarning: Stochastic Optimizer: Maximum iterations (200) reached and the optimization hasn't converged yet.\n",
      "  ConvergenceWarning,\n",
      "C:\\ProgramData\\Anaconda3\\envs\\my-rdkit-env\\lib\\site-packages\\sklearn\\neural_network\\_multilayer_perceptron.py:696: ConvergenceWarning: Stochastic Optimizer: Maximum iterations (200) reached and the optimization hasn't converged yet.\n",
      "  ConvergenceWarning,\n",
      "C:\\ProgramData\\Anaconda3\\envs\\my-rdkit-env\\lib\\site-packages\\sklearn\\neural_network\\_multilayer_perceptron.py:696: ConvergenceWarning: Stochastic Optimizer: Maximum iterations (200) reached and the optimization hasn't converged yet.\n",
      "  ConvergenceWarning,\n",
      "C:\\ProgramData\\Anaconda3\\envs\\my-rdkit-env\\lib\\site-packages\\sklearn\\neural_network\\_multilayer_perceptron.py:696: ConvergenceWarning: Stochastic Optimizer: Maximum iterations (800) reached and the optimization hasn't converged yet.\n",
      "  ConvergenceWarning,\n",
      "C:\\ProgramData\\Anaconda3\\envs\\my-rdkit-env\\lib\\site-packages\\sklearn\\neural_network\\_multilayer_perceptron.py:696: ConvergenceWarning: Stochastic Optimizer: Maximum iterations (800) reached and the optimization hasn't converged yet.\n",
      "  ConvergenceWarning,\n",
      "C:\\ProgramData\\Anaconda3\\envs\\my-rdkit-env\\lib\\site-packages\\sklearn\\neural_network\\_multilayer_perceptron.py:696: ConvergenceWarning: Stochastic Optimizer: Maximum iterations (800) reached and the optimization hasn't converged yet.\n",
      "  ConvergenceWarning,\n",
      "C:\\ProgramData\\Anaconda3\\envs\\my-rdkit-env\\lib\\site-packages\\sklearn\\neural_network\\_multilayer_perceptron.py:696: ConvergenceWarning: Stochastic Optimizer: Maximum iterations (200) reached and the optimization hasn't converged yet.\n",
      "  ConvergenceWarning,\n",
      "C:\\ProgramData\\Anaconda3\\envs\\my-rdkit-env\\lib\\site-packages\\sklearn\\neural_network\\_multilayer_perceptron.py:696: ConvergenceWarning: Stochastic Optimizer: Maximum iterations (200) reached and the optimization hasn't converged yet.\n",
      "  ConvergenceWarning,\n",
      "C:\\ProgramData\\Anaconda3\\envs\\my-rdkit-env\\lib\\site-packages\\sklearn\\neural_network\\_multilayer_perceptron.py:696: ConvergenceWarning: Stochastic Optimizer: Maximum iterations (200) reached and the optimization hasn't converged yet.\n",
      "  ConvergenceWarning,\n",
      "C:\\ProgramData\\Anaconda3\\envs\\my-rdkit-env\\lib\\site-packages\\sklearn\\neural_network\\_multilayer_perceptron.py:696: ConvergenceWarning: Stochastic Optimizer: Maximum iterations (200) reached and the optimization hasn't converged yet.\n",
      "  ConvergenceWarning,\n",
      "C:\\ProgramData\\Anaconda3\\envs\\my-rdkit-env\\lib\\site-packages\\sklearn\\neural_network\\_multilayer_perceptron.py:696: ConvergenceWarning: Stochastic Optimizer: Maximum iterations (200) reached and the optimization hasn't converged yet.\n",
      "  ConvergenceWarning,\n",
      "C:\\ProgramData\\Anaconda3\\envs\\my-rdkit-env\\lib\\site-packages\\sklearn\\neural_network\\_multilayer_perceptron.py:696: ConvergenceWarning: Stochastic Optimizer: Maximum iterations (800) reached and the optimization hasn't converged yet.\n",
      "  ConvergenceWarning,\n",
      "C:\\ProgramData\\Anaconda3\\envs\\my-rdkit-env\\lib\\site-packages\\sklearn\\neural_network\\_multilayer_perceptron.py:696: ConvergenceWarning: Stochastic Optimizer: Maximum iterations (800) reached and the optimization hasn't converged yet.\n",
      "  ConvergenceWarning,\n",
      "C:\\ProgramData\\Anaconda3\\envs\\my-rdkit-env\\lib\\site-packages\\sklearn\\neural_network\\_multilayer_perceptron.py:696: ConvergenceWarning: Stochastic Optimizer: Maximum iterations (800) reached and the optimization hasn't converged yet.\n",
      "  ConvergenceWarning,\n",
      "C:\\ProgramData\\Anaconda3\\envs\\my-rdkit-env\\lib\\site-packages\\sklearn\\neural_network\\_multilayer_perceptron.py:696: ConvergenceWarning: Stochastic Optimizer: Maximum iterations (800) reached and the optimization hasn't converged yet.\n",
      "  ConvergenceWarning,\n",
      "C:\\ProgramData\\Anaconda3\\envs\\my-rdkit-env\\lib\\site-packages\\sklearn\\neural_network\\_multilayer_perceptron.py:696: ConvergenceWarning: Stochastic Optimizer: Maximum iterations (800) reached and the optimization hasn't converged yet.\n",
      "  ConvergenceWarning,\n",
      "C:\\ProgramData\\Anaconda3\\envs\\my-rdkit-env\\lib\\site-packages\\sklearn\\neural_network\\_multilayer_perceptron.py:696: ConvergenceWarning: Stochastic Optimizer: Maximum iterations (1000) reached and the optimization hasn't converged yet.\n",
      "  ConvergenceWarning,\n",
      "C:\\ProgramData\\Anaconda3\\envs\\my-rdkit-env\\lib\\site-packages\\sklearn\\neural_network\\_multilayer_perceptron.py:696: ConvergenceWarning: Stochastic Optimizer: Maximum iterations (1000) reached and the optimization hasn't converged yet.\n",
      "  ConvergenceWarning,\n",
      "C:\\ProgramData\\Anaconda3\\envs\\my-rdkit-env\\lib\\site-packages\\sklearn\\neural_network\\_multilayer_perceptron.py:696: ConvergenceWarning: Stochastic Optimizer: Maximum iterations (1000) reached and the optimization hasn't converged yet.\n",
      "  ConvergenceWarning,\n",
      "C:\\ProgramData\\Anaconda3\\envs\\my-rdkit-env\\lib\\site-packages\\sklearn\\neural_network\\_multilayer_perceptron.py:696: ConvergenceWarning: Stochastic Optimizer: Maximum iterations (1000) reached and the optimization hasn't converged yet.\n",
      "  ConvergenceWarning,\n",
      "C:\\ProgramData\\Anaconda3\\envs\\my-rdkit-env\\lib\\site-packages\\sklearn\\neural_network\\_multilayer_perceptron.py:696: ConvergenceWarning: Stochastic Optimizer: Maximum iterations (1000) reached and the optimization hasn't converged yet.\n",
      "  ConvergenceWarning,\n",
      "C:\\ProgramData\\Anaconda3\\envs\\my-rdkit-env\\lib\\site-packages\\sklearn\\neural_network\\_multilayer_perceptron.py:696: ConvergenceWarning: Stochastic Optimizer: Maximum iterations (1400) reached and the optimization hasn't converged yet.\n",
      "  ConvergenceWarning,\n"
     ]
    },
    {
     "name": "stderr",
     "output_type": "stream",
     "text": [
      "C:\\ProgramData\\Anaconda3\\envs\\my-rdkit-env\\lib\\site-packages\\sklearn\\neural_network\\_multilayer_perceptron.py:696: ConvergenceWarning: Stochastic Optimizer: Maximum iterations (1400) reached and the optimization hasn't converged yet.\n",
      "  ConvergenceWarning,\n",
      "C:\\ProgramData\\Anaconda3\\envs\\my-rdkit-env\\lib\\site-packages\\sklearn\\neural_network\\_multilayer_perceptron.py:696: ConvergenceWarning: Stochastic Optimizer: Maximum iterations (1400) reached and the optimization hasn't converged yet.\n",
      "  ConvergenceWarning,\n",
      "C:\\ProgramData\\Anaconda3\\envs\\my-rdkit-env\\lib\\site-packages\\sklearn\\neural_network\\_multilayer_perceptron.py:696: ConvergenceWarning: Stochastic Optimizer: Maximum iterations (1400) reached and the optimization hasn't converged yet.\n",
      "  ConvergenceWarning,\n",
      "C:\\ProgramData\\Anaconda3\\envs\\my-rdkit-env\\lib\\site-packages\\sklearn\\neural_network\\_multilayer_perceptron.py:696: ConvergenceWarning: Stochastic Optimizer: Maximum iterations (1400) reached and the optimization hasn't converged yet.\n",
      "  ConvergenceWarning,\n",
      "C:\\ProgramData\\Anaconda3\\envs\\my-rdkit-env\\lib\\site-packages\\sklearn\\neural_network\\_multilayer_perceptron.py:696: ConvergenceWarning: Stochastic Optimizer: Maximum iterations (200) reached and the optimization hasn't converged yet.\n",
      "  ConvergenceWarning,\n",
      "C:\\ProgramData\\Anaconda3\\envs\\my-rdkit-env\\lib\\site-packages\\sklearn\\neural_network\\_multilayer_perceptron.py:696: ConvergenceWarning: Stochastic Optimizer: Maximum iterations (200) reached and the optimization hasn't converged yet.\n",
      "  ConvergenceWarning,\n",
      "C:\\ProgramData\\Anaconda3\\envs\\my-rdkit-env\\lib\\site-packages\\sklearn\\neural_network\\_multilayer_perceptron.py:696: ConvergenceWarning: Stochastic Optimizer: Maximum iterations (200) reached and the optimization hasn't converged yet.\n",
      "  ConvergenceWarning,\n",
      "C:\\ProgramData\\Anaconda3\\envs\\my-rdkit-env\\lib\\site-packages\\sklearn\\neural_network\\_multilayer_perceptron.py:696: ConvergenceWarning: Stochastic Optimizer: Maximum iterations (200) reached and the optimization hasn't converged yet.\n",
      "  ConvergenceWarning,\n",
      "C:\\ProgramData\\Anaconda3\\envs\\my-rdkit-env\\lib\\site-packages\\sklearn\\neural_network\\_multilayer_perceptron.py:696: ConvergenceWarning: Stochastic Optimizer: Maximum iterations (200) reached and the optimization hasn't converged yet.\n",
      "  ConvergenceWarning,\n",
      "C:\\ProgramData\\Anaconda3\\envs\\my-rdkit-env\\lib\\site-packages\\sklearn\\neural_network\\_multilayer_perceptron.py:696: ConvergenceWarning: Stochastic Optimizer: Maximum iterations (200) reached and the optimization hasn't converged yet.\n",
      "  ConvergenceWarning,\n",
      "C:\\ProgramData\\Anaconda3\\envs\\my-rdkit-env\\lib\\site-packages\\sklearn\\neural_network\\_multilayer_perceptron.py:696: ConvergenceWarning: Stochastic Optimizer: Maximum iterations (800) reached and the optimization hasn't converged yet.\n",
      "  ConvergenceWarning,\n",
      "C:\\ProgramData\\Anaconda3\\envs\\my-rdkit-env\\lib\\site-packages\\sklearn\\neural_network\\_multilayer_perceptron.py:696: ConvergenceWarning: Stochastic Optimizer: Maximum iterations (800) reached and the optimization hasn't converged yet.\n",
      "  ConvergenceWarning,\n",
      "C:\\ProgramData\\Anaconda3\\envs\\my-rdkit-env\\lib\\site-packages\\sklearn\\neural_network\\_multilayer_perceptron.py:696: ConvergenceWarning: Stochastic Optimizer: Maximum iterations (800) reached and the optimization hasn't converged yet.\n",
      "  ConvergenceWarning,\n",
      "C:\\ProgramData\\Anaconda3\\envs\\my-rdkit-env\\lib\\site-packages\\sklearn\\neural_network\\_multilayer_perceptron.py:696: ConvergenceWarning: Stochastic Optimizer: Maximum iterations (800) reached and the optimization hasn't converged yet.\n",
      "  ConvergenceWarning,\n",
      "C:\\ProgramData\\Anaconda3\\envs\\my-rdkit-env\\lib\\site-packages\\sklearn\\neural_network\\_multilayer_perceptron.py:696: ConvergenceWarning: Stochastic Optimizer: Maximum iterations (800) reached and the optimization hasn't converged yet.\n",
      "  ConvergenceWarning,\n",
      "C:\\ProgramData\\Anaconda3\\envs\\my-rdkit-env\\lib\\site-packages\\sklearn\\neural_network\\_multilayer_perceptron.py:696: ConvergenceWarning: Stochastic Optimizer: Maximum iterations (1000) reached and the optimization hasn't converged yet.\n",
      "  ConvergenceWarning,\n",
      "C:\\ProgramData\\Anaconda3\\envs\\my-rdkit-env\\lib\\site-packages\\sklearn\\neural_network\\_multilayer_perceptron.py:696: ConvergenceWarning: Stochastic Optimizer: Maximum iterations (1000) reached and the optimization hasn't converged yet.\n",
      "  ConvergenceWarning,\n",
      "C:\\ProgramData\\Anaconda3\\envs\\my-rdkit-env\\lib\\site-packages\\sklearn\\neural_network\\_multilayer_perceptron.py:696: ConvergenceWarning: Stochastic Optimizer: Maximum iterations (1000) reached and the optimization hasn't converged yet.\n",
      "  ConvergenceWarning,\n",
      "C:\\ProgramData\\Anaconda3\\envs\\my-rdkit-env\\lib\\site-packages\\sklearn\\neural_network\\_multilayer_perceptron.py:696: ConvergenceWarning: Stochastic Optimizer: Maximum iterations (1000) reached and the optimization hasn't converged yet.\n",
      "  ConvergenceWarning,\n",
      "C:\\ProgramData\\Anaconda3\\envs\\my-rdkit-env\\lib\\site-packages\\sklearn\\neural_network\\_multilayer_perceptron.py:696: ConvergenceWarning: Stochastic Optimizer: Maximum iterations (1000) reached and the optimization hasn't converged yet.\n",
      "  ConvergenceWarning,\n",
      "C:\\ProgramData\\Anaconda3\\envs\\my-rdkit-env\\lib\\site-packages\\sklearn\\neural_network\\_multilayer_perceptron.py:696: ConvergenceWarning: Stochastic Optimizer: Maximum iterations (1400) reached and the optimization hasn't converged yet.\n",
      "  ConvergenceWarning,\n",
      "C:\\ProgramData\\Anaconda3\\envs\\my-rdkit-env\\lib\\site-packages\\sklearn\\neural_network\\_multilayer_perceptron.py:696: ConvergenceWarning: Stochastic Optimizer: Maximum iterations (1400) reached and the optimization hasn't converged yet.\n",
      "  ConvergenceWarning,\n",
      "C:\\ProgramData\\Anaconda3\\envs\\my-rdkit-env\\lib\\site-packages\\sklearn\\neural_network\\_multilayer_perceptron.py:696: ConvergenceWarning: Stochastic Optimizer: Maximum iterations (1400) reached and the optimization hasn't converged yet.\n",
      "  ConvergenceWarning,\n",
      "C:\\ProgramData\\Anaconda3\\envs\\my-rdkit-env\\lib\\site-packages\\sklearn\\neural_network\\_multilayer_perceptron.py:696: ConvergenceWarning: Stochastic Optimizer: Maximum iterations (1400) reached and the optimization hasn't converged yet.\n",
      "  ConvergenceWarning,\n",
      "C:\\ProgramData\\Anaconda3\\envs\\my-rdkit-env\\lib\\site-packages\\sklearn\\neural_network\\_multilayer_perceptron.py:696: ConvergenceWarning: Stochastic Optimizer: Maximum iterations (1400) reached and the optimization hasn't converged yet.\n",
      "  ConvergenceWarning,\n",
      "C:\\ProgramData\\Anaconda3\\envs\\my-rdkit-env\\lib\\site-packages\\sklearn\\neural_network\\_multilayer_perceptron.py:696: ConvergenceWarning: Stochastic Optimizer: Maximum iterations (200) reached and the optimization hasn't converged yet.\n",
      "  ConvergenceWarning,\n",
      "C:\\ProgramData\\Anaconda3\\envs\\my-rdkit-env\\lib\\site-packages\\sklearn\\neural_network\\_multilayer_perceptron.py:696: ConvergenceWarning: Stochastic Optimizer: Maximum iterations (200) reached and the optimization hasn't converged yet.\n",
      "  ConvergenceWarning,\n",
      "C:\\ProgramData\\Anaconda3\\envs\\my-rdkit-env\\lib\\site-packages\\sklearn\\neural_network\\_multilayer_perceptron.py:696: ConvergenceWarning: Stochastic Optimizer: Maximum iterations (200) reached and the optimization hasn't converged yet.\n",
      "  ConvergenceWarning,\n",
      "C:\\ProgramData\\Anaconda3\\envs\\my-rdkit-env\\lib\\site-packages\\sklearn\\neural_network\\_multilayer_perceptron.py:696: ConvergenceWarning: Stochastic Optimizer: Maximum iterations (200) reached and the optimization hasn't converged yet.\n",
      "  ConvergenceWarning,\n",
      "C:\\ProgramData\\Anaconda3\\envs\\my-rdkit-env\\lib\\site-packages\\sklearn\\neural_network\\_multilayer_perceptron.py:696: ConvergenceWarning: Stochastic Optimizer: Maximum iterations (200) reached and the optimization hasn't converged yet.\n",
      "  ConvergenceWarning,\n",
      "C:\\ProgramData\\Anaconda3\\envs\\my-rdkit-env\\lib\\site-packages\\sklearn\\neural_network\\_multilayer_perceptron.py:696: ConvergenceWarning: Stochastic Optimizer: Maximum iterations (200) reached and the optimization hasn't converged yet.\n",
      "  ConvergenceWarning,\n",
      "C:\\ProgramData\\Anaconda3\\envs\\my-rdkit-env\\lib\\site-packages\\sklearn\\neural_network\\_multilayer_perceptron.py:696: ConvergenceWarning: Stochastic Optimizer: Maximum iterations (200) reached and the optimization hasn't converged yet.\n",
      "  ConvergenceWarning,\n",
      "C:\\ProgramData\\Anaconda3\\envs\\my-rdkit-env\\lib\\site-packages\\sklearn\\neural_network\\_multilayer_perceptron.py:696: ConvergenceWarning: Stochastic Optimizer: Maximum iterations (200) reached and the optimization hasn't converged yet.\n",
      "  ConvergenceWarning,\n"
     ]
    },
    {
     "name": "stderr",
     "output_type": "stream",
     "text": [
      "C:\\ProgramData\\Anaconda3\\envs\\my-rdkit-env\\lib\\site-packages\\sklearn\\neural_network\\_multilayer_perceptron.py:696: ConvergenceWarning: Stochastic Optimizer: Maximum iterations (200) reached and the optimization hasn't converged yet.\n",
      "  ConvergenceWarning,\n",
      "C:\\ProgramData\\Anaconda3\\envs\\my-rdkit-env\\lib\\site-packages\\sklearn\\neural_network\\_multilayer_perceptron.py:696: ConvergenceWarning: Stochastic Optimizer: Maximum iterations (200) reached and the optimization hasn't converged yet.\n",
      "  ConvergenceWarning,\n",
      "C:\\ProgramData\\Anaconda3\\envs\\my-rdkit-env\\lib\\site-packages\\sklearn\\neural_network\\_multilayer_perceptron.py:696: ConvergenceWarning: Stochastic Optimizer: Maximum iterations (800) reached and the optimization hasn't converged yet.\n",
      "  ConvergenceWarning,\n",
      "C:\\ProgramData\\Anaconda3\\envs\\my-rdkit-env\\lib\\site-packages\\sklearn\\neural_network\\_multilayer_perceptron.py:696: ConvergenceWarning: Stochastic Optimizer: Maximum iterations (800) reached and the optimization hasn't converged yet.\n",
      "  ConvergenceWarning,\n",
      "C:\\ProgramData\\Anaconda3\\envs\\my-rdkit-env\\lib\\site-packages\\sklearn\\neural_network\\_multilayer_perceptron.py:696: ConvergenceWarning: Stochastic Optimizer: Maximum iterations (800) reached and the optimization hasn't converged yet.\n",
      "  ConvergenceWarning,\n",
      "C:\\ProgramData\\Anaconda3\\envs\\my-rdkit-env\\lib\\site-packages\\sklearn\\neural_network\\_multilayer_perceptron.py:696: ConvergenceWarning: Stochastic Optimizer: Maximum iterations (800) reached and the optimization hasn't converged yet.\n",
      "  ConvergenceWarning,\n",
      "C:\\ProgramData\\Anaconda3\\envs\\my-rdkit-env\\lib\\site-packages\\sklearn\\neural_network\\_multilayer_perceptron.py:696: ConvergenceWarning: Stochastic Optimizer: Maximum iterations (800) reached and the optimization hasn't converged yet.\n",
      "  ConvergenceWarning,\n",
      "C:\\ProgramData\\Anaconda3\\envs\\my-rdkit-env\\lib\\site-packages\\sklearn\\neural_network\\_multilayer_perceptron.py:696: ConvergenceWarning: Stochastic Optimizer: Maximum iterations (1000) reached and the optimization hasn't converged yet.\n",
      "  ConvergenceWarning,\n",
      "C:\\ProgramData\\Anaconda3\\envs\\my-rdkit-env\\lib\\site-packages\\sklearn\\neural_network\\_multilayer_perceptron.py:696: ConvergenceWarning: Stochastic Optimizer: Maximum iterations (1000) reached and the optimization hasn't converged yet.\n",
      "  ConvergenceWarning,\n",
      "C:\\ProgramData\\Anaconda3\\envs\\my-rdkit-env\\lib\\site-packages\\sklearn\\neural_network\\_multilayer_perceptron.py:696: ConvergenceWarning: Stochastic Optimizer: Maximum iterations (1000) reached and the optimization hasn't converged yet.\n",
      "  ConvergenceWarning,\n",
      "C:\\ProgramData\\Anaconda3\\envs\\my-rdkit-env\\lib\\site-packages\\sklearn\\neural_network\\_multilayer_perceptron.py:696: ConvergenceWarning: Stochastic Optimizer: Maximum iterations (1000) reached and the optimization hasn't converged yet.\n",
      "  ConvergenceWarning,\n",
      "C:\\ProgramData\\Anaconda3\\envs\\my-rdkit-env\\lib\\site-packages\\sklearn\\neural_network\\_multilayer_perceptron.py:696: ConvergenceWarning: Stochastic Optimizer: Maximum iterations (1000) reached and the optimization hasn't converged yet.\n",
      "  ConvergenceWarning,\n",
      "C:\\ProgramData\\Anaconda3\\envs\\my-rdkit-env\\lib\\site-packages\\sklearn\\neural_network\\_multilayer_perceptron.py:696: ConvergenceWarning: Stochastic Optimizer: Maximum iterations (1400) reached and the optimization hasn't converged yet.\n",
      "  ConvergenceWarning,\n",
      "C:\\ProgramData\\Anaconda3\\envs\\my-rdkit-env\\lib\\site-packages\\sklearn\\neural_network\\_multilayer_perceptron.py:696: ConvergenceWarning: Stochastic Optimizer: Maximum iterations (1400) reached and the optimization hasn't converged yet.\n",
      "  ConvergenceWarning,\n",
      "C:\\ProgramData\\Anaconda3\\envs\\my-rdkit-env\\lib\\site-packages\\sklearn\\neural_network\\_multilayer_perceptron.py:696: ConvergenceWarning: Stochastic Optimizer: Maximum iterations (1400) reached and the optimization hasn't converged yet.\n",
      "  ConvergenceWarning,\n",
      "C:\\ProgramData\\Anaconda3\\envs\\my-rdkit-env\\lib\\site-packages\\sklearn\\neural_network\\_multilayer_perceptron.py:696: ConvergenceWarning: Stochastic Optimizer: Maximum iterations (1400) reached and the optimization hasn't converged yet.\n",
      "  ConvergenceWarning,\n",
      "C:\\ProgramData\\Anaconda3\\envs\\my-rdkit-env\\lib\\site-packages\\sklearn\\neural_network\\_multilayer_perceptron.py:696: ConvergenceWarning: Stochastic Optimizer: Maximum iterations (1400) reached and the optimization hasn't converged yet.\n",
      "  ConvergenceWarning,\n",
      "C:\\ProgramData\\Anaconda3\\envs\\my-rdkit-env\\lib\\site-packages\\sklearn\\neural_network\\_multilayer_perceptron.py:696: ConvergenceWarning: Stochastic Optimizer: Maximum iterations (1800) reached and the optimization hasn't converged yet.\n",
      "  ConvergenceWarning,\n",
      "C:\\ProgramData\\Anaconda3\\envs\\my-rdkit-env\\lib\\site-packages\\sklearn\\neural_network\\_multilayer_perceptron.py:696: ConvergenceWarning: Stochastic Optimizer: Maximum iterations (200) reached and the optimization hasn't converged yet.\n",
      "  ConvergenceWarning,\n",
      "C:\\ProgramData\\Anaconda3\\envs\\my-rdkit-env\\lib\\site-packages\\sklearn\\neural_network\\_multilayer_perceptron.py:696: ConvergenceWarning: Stochastic Optimizer: Maximum iterations (200) reached and the optimization hasn't converged yet.\n",
      "  ConvergenceWarning,\n",
      "C:\\ProgramData\\Anaconda3\\envs\\my-rdkit-env\\lib\\site-packages\\sklearn\\neural_network\\_multilayer_perceptron.py:696: ConvergenceWarning: Stochastic Optimizer: Maximum iterations (200) reached and the optimization hasn't converged yet.\n",
      "  ConvergenceWarning,\n",
      "C:\\ProgramData\\Anaconda3\\envs\\my-rdkit-env\\lib\\site-packages\\sklearn\\neural_network\\_multilayer_perceptron.py:696: ConvergenceWarning: Stochastic Optimizer: Maximum iterations (200) reached and the optimization hasn't converged yet.\n",
      "  ConvergenceWarning,\n",
      "C:\\ProgramData\\Anaconda3\\envs\\my-rdkit-env\\lib\\site-packages\\sklearn\\neural_network\\_multilayer_perceptron.py:696: ConvergenceWarning: Stochastic Optimizer: Maximum iterations (200) reached and the optimization hasn't converged yet.\n",
      "  ConvergenceWarning,\n",
      "C:\\ProgramData\\Anaconda3\\envs\\my-rdkit-env\\lib\\site-packages\\sklearn\\neural_network\\_multilayer_perceptron.py:696: ConvergenceWarning: Stochastic Optimizer: Maximum iterations (200) reached and the optimization hasn't converged yet.\n",
      "  ConvergenceWarning,\n",
      "C:\\ProgramData\\Anaconda3\\envs\\my-rdkit-env\\lib\\site-packages\\sklearn\\neural_network\\_multilayer_perceptron.py:696: ConvergenceWarning: Stochastic Optimizer: Maximum iterations (200) reached and the optimization hasn't converged yet.\n",
      "  ConvergenceWarning,\n",
      "C:\\ProgramData\\Anaconda3\\envs\\my-rdkit-env\\lib\\site-packages\\sklearn\\neural_network\\_multilayer_perceptron.py:696: ConvergenceWarning: Stochastic Optimizer: Maximum iterations (200) reached and the optimization hasn't converged yet.\n",
      "  ConvergenceWarning,\n",
      "C:\\ProgramData\\Anaconda3\\envs\\my-rdkit-env\\lib\\site-packages\\sklearn\\neural_network\\_multilayer_perceptron.py:696: ConvergenceWarning: Stochastic Optimizer: Maximum iterations (200) reached and the optimization hasn't converged yet.\n",
      "  ConvergenceWarning,\n",
      "C:\\ProgramData\\Anaconda3\\envs\\my-rdkit-env\\lib\\site-packages\\sklearn\\neural_network\\_multilayer_perceptron.py:696: ConvergenceWarning: Stochastic Optimizer: Maximum iterations (200) reached and the optimization hasn't converged yet.\n",
      "  ConvergenceWarning,\n",
      "C:\\ProgramData\\Anaconda3\\envs\\my-rdkit-env\\lib\\site-packages\\sklearn\\neural_network\\_multilayer_perceptron.py:696: ConvergenceWarning: Stochastic Optimizer: Maximum iterations (200) reached and the optimization hasn't converged yet.\n",
      "  ConvergenceWarning,\n",
      "C:\\ProgramData\\Anaconda3\\envs\\my-rdkit-env\\lib\\site-packages\\sklearn\\neural_network\\_multilayer_perceptron.py:696: ConvergenceWarning: Stochastic Optimizer: Maximum iterations (200) reached and the optimization hasn't converged yet.\n",
      "  ConvergenceWarning,\n",
      "C:\\ProgramData\\Anaconda3\\envs\\my-rdkit-env\\lib\\site-packages\\sklearn\\neural_network\\_multilayer_perceptron.py:696: ConvergenceWarning: Stochastic Optimizer: Maximum iterations (200) reached and the optimization hasn't converged yet.\n",
      "  ConvergenceWarning,\n",
      "C:\\ProgramData\\Anaconda3\\envs\\my-rdkit-env\\lib\\site-packages\\sklearn\\neural_network\\_multilayer_perceptron.py:696: ConvergenceWarning: Stochastic Optimizer: Maximum iterations (200) reached and the optimization hasn't converged yet.\n",
      "  ConvergenceWarning,\n",
      "C:\\ProgramData\\Anaconda3\\envs\\my-rdkit-env\\lib\\site-packages\\sklearn\\neural_network\\_multilayer_perceptron.py:696: ConvergenceWarning: Stochastic Optimizer: Maximum iterations (200) reached and the optimization hasn't converged yet.\n",
      "  ConvergenceWarning,\n"
     ]
    },
    {
     "name": "stderr",
     "output_type": "stream",
     "text": [
      "C:\\ProgramData\\Anaconda3\\envs\\my-rdkit-env\\lib\\site-packages\\sklearn\\neural_network\\_multilayer_perceptron.py:696: ConvergenceWarning: Stochastic Optimizer: Maximum iterations (200) reached and the optimization hasn't converged yet.\n",
      "  ConvergenceWarning,\n",
      "C:\\ProgramData\\Anaconda3\\envs\\my-rdkit-env\\lib\\site-packages\\sklearn\\neural_network\\_multilayer_perceptron.py:696: ConvergenceWarning: Stochastic Optimizer: Maximum iterations (200) reached and the optimization hasn't converged yet.\n",
      "  ConvergenceWarning,\n",
      "C:\\ProgramData\\Anaconda3\\envs\\my-rdkit-env\\lib\\site-packages\\sklearn\\neural_network\\_multilayer_perceptron.py:696: ConvergenceWarning: Stochastic Optimizer: Maximum iterations (200) reached and the optimization hasn't converged yet.\n",
      "  ConvergenceWarning,\n",
      "C:\\ProgramData\\Anaconda3\\envs\\my-rdkit-env\\lib\\site-packages\\sklearn\\neural_network\\_multilayer_perceptron.py:696: ConvergenceWarning: Stochastic Optimizer: Maximum iterations (200) reached and the optimization hasn't converged yet.\n",
      "  ConvergenceWarning,\n",
      "C:\\ProgramData\\Anaconda3\\envs\\my-rdkit-env\\lib\\site-packages\\sklearn\\neural_network\\_multilayer_perceptron.py:696: ConvergenceWarning: Stochastic Optimizer: Maximum iterations (200) reached and the optimization hasn't converged yet.\n",
      "  ConvergenceWarning,\n",
      "C:\\ProgramData\\Anaconda3\\envs\\my-rdkit-env\\lib\\site-packages\\sklearn\\neural_network\\_multilayer_perceptron.py:696: ConvergenceWarning: Stochastic Optimizer: Maximum iterations (200) reached and the optimization hasn't converged yet.\n",
      "  ConvergenceWarning,\n",
      "C:\\ProgramData\\Anaconda3\\envs\\my-rdkit-env\\lib\\site-packages\\sklearn\\neural_network\\_multilayer_perceptron.py:696: ConvergenceWarning: Stochastic Optimizer: Maximum iterations (200) reached and the optimization hasn't converged yet.\n",
      "  ConvergenceWarning,\n",
      "C:\\ProgramData\\Anaconda3\\envs\\my-rdkit-env\\lib\\site-packages\\sklearn\\neural_network\\_multilayer_perceptron.py:696: ConvergenceWarning: Stochastic Optimizer: Maximum iterations (200) reached and the optimization hasn't converged yet.\n",
      "  ConvergenceWarning,\n",
      "C:\\ProgramData\\Anaconda3\\envs\\my-rdkit-env\\lib\\site-packages\\sklearn\\neural_network\\_multilayer_perceptron.py:696: ConvergenceWarning: Stochastic Optimizer: Maximum iterations (200) reached and the optimization hasn't converged yet.\n",
      "  ConvergenceWarning,\n",
      "C:\\ProgramData\\Anaconda3\\envs\\my-rdkit-env\\lib\\site-packages\\sklearn\\neural_network\\_multilayer_perceptron.py:696: ConvergenceWarning: Stochastic Optimizer: Maximum iterations (200) reached and the optimization hasn't converged yet.\n",
      "  ConvergenceWarning,\n",
      "C:\\ProgramData\\Anaconda3\\envs\\my-rdkit-env\\lib\\site-packages\\sklearn\\neural_network\\_multilayer_perceptron.py:696: ConvergenceWarning: Stochastic Optimizer: Maximum iterations (200) reached and the optimization hasn't converged yet.\n",
      "  ConvergenceWarning,\n",
      "C:\\ProgramData\\Anaconda3\\envs\\my-rdkit-env\\lib\\site-packages\\sklearn\\neural_network\\_multilayer_perceptron.py:696: ConvergenceWarning: Stochastic Optimizer: Maximum iterations (200) reached and the optimization hasn't converged yet.\n",
      "  ConvergenceWarning,\n",
      "C:\\ProgramData\\Anaconda3\\envs\\my-rdkit-env\\lib\\site-packages\\sklearn\\neural_network\\_multilayer_perceptron.py:696: ConvergenceWarning: Stochastic Optimizer: Maximum iterations (200) reached and the optimization hasn't converged yet.\n",
      "  ConvergenceWarning,\n",
      "C:\\ProgramData\\Anaconda3\\envs\\my-rdkit-env\\lib\\site-packages\\sklearn\\neural_network\\_multilayer_perceptron.py:696: ConvergenceWarning: Stochastic Optimizer: Maximum iterations (200) reached and the optimization hasn't converged yet.\n",
      "  ConvergenceWarning,\n",
      "C:\\ProgramData\\Anaconda3\\envs\\my-rdkit-env\\lib\\site-packages\\sklearn\\neural_network\\_multilayer_perceptron.py:696: ConvergenceWarning: Stochastic Optimizer: Maximum iterations (200) reached and the optimization hasn't converged yet.\n",
      "  ConvergenceWarning,\n",
      "C:\\ProgramData\\Anaconda3\\envs\\my-rdkit-env\\lib\\site-packages\\sklearn\\neural_network\\_multilayer_perceptron.py:696: ConvergenceWarning: Stochastic Optimizer: Maximum iterations (200) reached and the optimization hasn't converged yet.\n",
      "  ConvergenceWarning,\n",
      "C:\\ProgramData\\Anaconda3\\envs\\my-rdkit-env\\lib\\site-packages\\sklearn\\neural_network\\_multilayer_perceptron.py:696: ConvergenceWarning: Stochastic Optimizer: Maximum iterations (200) reached and the optimization hasn't converged yet.\n",
      "  ConvergenceWarning,\n",
      "C:\\ProgramData\\Anaconda3\\envs\\my-rdkit-env\\lib\\site-packages\\sklearn\\neural_network\\_multilayer_perceptron.py:696: ConvergenceWarning: Stochastic Optimizer: Maximum iterations (200) reached and the optimization hasn't converged yet.\n",
      "  ConvergenceWarning,\n",
      "C:\\ProgramData\\Anaconda3\\envs\\my-rdkit-env\\lib\\site-packages\\sklearn\\neural_network\\_multilayer_perceptron.py:696: ConvergenceWarning: Stochastic Optimizer: Maximum iterations (200) reached and the optimization hasn't converged yet.\n",
      "  ConvergenceWarning,\n",
      "C:\\ProgramData\\Anaconda3\\envs\\my-rdkit-env\\lib\\site-packages\\sklearn\\neural_network\\_multilayer_perceptron.py:696: ConvergenceWarning: Stochastic Optimizer: Maximum iterations (200) reached and the optimization hasn't converged yet.\n",
      "  ConvergenceWarning,\n",
      "C:\\ProgramData\\Anaconda3\\envs\\my-rdkit-env\\lib\\site-packages\\sklearn\\neural_network\\_multilayer_perceptron.py:696: ConvergenceWarning: Stochastic Optimizer: Maximum iterations (200) reached and the optimization hasn't converged yet.\n",
      "  ConvergenceWarning,\n",
      "C:\\ProgramData\\Anaconda3\\envs\\my-rdkit-env\\lib\\site-packages\\sklearn\\neural_network\\_multilayer_perceptron.py:696: ConvergenceWarning: Stochastic Optimizer: Maximum iterations (200) reached and the optimization hasn't converged yet.\n",
      "  ConvergenceWarning,\n",
      "C:\\ProgramData\\Anaconda3\\envs\\my-rdkit-env\\lib\\site-packages\\sklearn\\neural_network\\_multilayer_perceptron.py:696: ConvergenceWarning: Stochastic Optimizer: Maximum iterations (200) reached and the optimization hasn't converged yet.\n",
      "  ConvergenceWarning,\n",
      "C:\\ProgramData\\Anaconda3\\envs\\my-rdkit-env\\lib\\site-packages\\sklearn\\neural_network\\_multilayer_perceptron.py:696: ConvergenceWarning: Stochastic Optimizer: Maximum iterations (200) reached and the optimization hasn't converged yet.\n",
      "  ConvergenceWarning,\n",
      "C:\\ProgramData\\Anaconda3\\envs\\my-rdkit-env\\lib\\site-packages\\sklearn\\neural_network\\_multilayer_perceptron.py:696: ConvergenceWarning: Stochastic Optimizer: Maximum iterations (200) reached and the optimization hasn't converged yet.\n",
      "  ConvergenceWarning,\n",
      "C:\\ProgramData\\Anaconda3\\envs\\my-rdkit-env\\lib\\site-packages\\sklearn\\neural_network\\_multilayer_perceptron.py:696: ConvergenceWarning: Stochastic Optimizer: Maximum iterations (200) reached and the optimization hasn't converged yet.\n",
      "  ConvergenceWarning,\n",
      "C:\\ProgramData\\Anaconda3\\envs\\my-rdkit-env\\lib\\site-packages\\sklearn\\neural_network\\_multilayer_perceptron.py:696: ConvergenceWarning: Stochastic Optimizer: Maximum iterations (200) reached and the optimization hasn't converged yet.\n",
      "  ConvergenceWarning,\n",
      "C:\\ProgramData\\Anaconda3\\envs\\my-rdkit-env\\lib\\site-packages\\sklearn\\neural_network\\_multilayer_perceptron.py:696: ConvergenceWarning: Stochastic Optimizer: Maximum iterations (200) reached and the optimization hasn't converged yet.\n",
      "  ConvergenceWarning,\n",
      "C:\\ProgramData\\Anaconda3\\envs\\my-rdkit-env\\lib\\site-packages\\sklearn\\neural_network\\_multilayer_perceptron.py:696: ConvergenceWarning: Stochastic Optimizer: Maximum iterations (200) reached and the optimization hasn't converged yet.\n",
      "  ConvergenceWarning,\n",
      "C:\\ProgramData\\Anaconda3\\envs\\my-rdkit-env\\lib\\site-packages\\sklearn\\neural_network\\_multilayer_perceptron.py:696: ConvergenceWarning: Stochastic Optimizer: Maximum iterations (200) reached and the optimization hasn't converged yet.\n",
      "  ConvergenceWarning,\n",
      "C:\\ProgramData\\Anaconda3\\envs\\my-rdkit-env\\lib\\site-packages\\sklearn\\neural_network\\_multilayer_perceptron.py:696: ConvergenceWarning: Stochastic Optimizer: Maximum iterations (200) reached and the optimization hasn't converged yet.\n",
      "  ConvergenceWarning,\n",
      "C:\\ProgramData\\Anaconda3\\envs\\my-rdkit-env\\lib\\site-packages\\sklearn\\neural_network\\_multilayer_perceptron.py:696: ConvergenceWarning: Stochastic Optimizer: Maximum iterations (200) reached and the optimization hasn't converged yet.\n",
      "  ConvergenceWarning,\n",
      "C:\\ProgramData\\Anaconda3\\envs\\my-rdkit-env\\lib\\site-packages\\sklearn\\neural_network\\_multilayer_perceptron.py:696: ConvergenceWarning: Stochastic Optimizer: Maximum iterations (200) reached and the optimization hasn't converged yet.\n",
      "  ConvergenceWarning,\n",
      "C:\\ProgramData\\Anaconda3\\envs\\my-rdkit-env\\lib\\site-packages\\sklearn\\neural_network\\_multilayer_perceptron.py:696: ConvergenceWarning: Stochastic Optimizer: Maximum iterations (200) reached and the optimization hasn't converged yet.\n",
      "  ConvergenceWarning,\n"
     ]
    },
    {
     "name": "stderr",
     "output_type": "stream",
     "text": [
      "C:\\ProgramData\\Anaconda3\\envs\\my-rdkit-env\\lib\\site-packages\\sklearn\\neural_network\\_multilayer_perceptron.py:696: ConvergenceWarning: Stochastic Optimizer: Maximum iterations (200) reached and the optimization hasn't converged yet.\n",
      "  ConvergenceWarning,\n",
      "C:\\ProgramData\\Anaconda3\\envs\\my-rdkit-env\\lib\\site-packages\\sklearn\\neural_network\\_multilayer_perceptron.py:696: ConvergenceWarning: Stochastic Optimizer: Maximum iterations (200) reached and the optimization hasn't converged yet.\n",
      "  ConvergenceWarning,\n",
      "C:\\ProgramData\\Anaconda3\\envs\\my-rdkit-env\\lib\\site-packages\\sklearn\\neural_network\\_multilayer_perceptron.py:696: ConvergenceWarning: Stochastic Optimizer: Maximum iterations (200) reached and the optimization hasn't converged yet.\n",
      "  ConvergenceWarning,\n",
      "C:\\ProgramData\\Anaconda3\\envs\\my-rdkit-env\\lib\\site-packages\\sklearn\\neural_network\\_multilayer_perceptron.py:696: ConvergenceWarning: Stochastic Optimizer: Maximum iterations (200) reached and the optimization hasn't converged yet.\n",
      "  ConvergenceWarning,\n",
      "C:\\ProgramData\\Anaconda3\\envs\\my-rdkit-env\\lib\\site-packages\\sklearn\\neural_network\\_multilayer_perceptron.py:696: ConvergenceWarning: Stochastic Optimizer: Maximum iterations (200) reached and the optimization hasn't converged yet.\n",
      "  ConvergenceWarning,\n",
      "C:\\ProgramData\\Anaconda3\\envs\\my-rdkit-env\\lib\\site-packages\\sklearn\\neural_network\\_multilayer_perceptron.py:696: ConvergenceWarning: Stochastic Optimizer: Maximum iterations (200) reached and the optimization hasn't converged yet.\n",
      "  ConvergenceWarning,\n",
      "C:\\ProgramData\\Anaconda3\\envs\\my-rdkit-env\\lib\\site-packages\\sklearn\\neural_network\\_multilayer_perceptron.py:696: ConvergenceWarning: Stochastic Optimizer: Maximum iterations (200) reached and the optimization hasn't converged yet.\n",
      "  ConvergenceWarning,\n",
      "C:\\ProgramData\\Anaconda3\\envs\\my-rdkit-env\\lib\\site-packages\\sklearn\\neural_network\\_multilayer_perceptron.py:696: ConvergenceWarning: Stochastic Optimizer: Maximum iterations (200) reached and the optimization hasn't converged yet.\n",
      "  ConvergenceWarning,\n",
      "C:\\ProgramData\\Anaconda3\\envs\\my-rdkit-env\\lib\\site-packages\\sklearn\\neural_network\\_multilayer_perceptron.py:696: ConvergenceWarning: Stochastic Optimizer: Maximum iterations (200) reached and the optimization hasn't converged yet.\n",
      "  ConvergenceWarning,\n",
      "C:\\ProgramData\\Anaconda3\\envs\\my-rdkit-env\\lib\\site-packages\\sklearn\\neural_network\\_multilayer_perceptron.py:696: ConvergenceWarning: Stochastic Optimizer: Maximum iterations (200) reached and the optimization hasn't converged yet.\n",
      "  ConvergenceWarning,\n",
      "C:\\ProgramData\\Anaconda3\\envs\\my-rdkit-env\\lib\\site-packages\\sklearn\\neural_network\\_multilayer_perceptron.py:696: ConvergenceWarning: Stochastic Optimizer: Maximum iterations (200) reached and the optimization hasn't converged yet.\n",
      "  ConvergenceWarning,\n",
      "C:\\ProgramData\\Anaconda3\\envs\\my-rdkit-env\\lib\\site-packages\\sklearn\\neural_network\\_multilayer_perceptron.py:696: ConvergenceWarning: Stochastic Optimizer: Maximum iterations (200) reached and the optimization hasn't converged yet.\n",
      "  ConvergenceWarning,\n",
      "C:\\ProgramData\\Anaconda3\\envs\\my-rdkit-env\\lib\\site-packages\\sklearn\\neural_network\\_multilayer_perceptron.py:696: ConvergenceWarning: Stochastic Optimizer: Maximum iterations (200) reached and the optimization hasn't converged yet.\n",
      "  ConvergenceWarning,\n",
      "C:\\ProgramData\\Anaconda3\\envs\\my-rdkit-env\\lib\\site-packages\\sklearn\\neural_network\\_multilayer_perceptron.py:696: ConvergenceWarning: Stochastic Optimizer: Maximum iterations (200) reached and the optimization hasn't converged yet.\n",
      "  ConvergenceWarning,\n",
      "C:\\ProgramData\\Anaconda3\\envs\\my-rdkit-env\\lib\\site-packages\\sklearn\\neural_network\\_multilayer_perceptron.py:696: ConvergenceWarning: Stochastic Optimizer: Maximum iterations (200) reached and the optimization hasn't converged yet.\n",
      "  ConvergenceWarning,\n",
      "C:\\ProgramData\\Anaconda3\\envs\\my-rdkit-env\\lib\\site-packages\\sklearn\\neural_network\\_multilayer_perceptron.py:696: ConvergenceWarning: Stochastic Optimizer: Maximum iterations (200) reached and the optimization hasn't converged yet.\n",
      "  ConvergenceWarning,\n",
      "C:\\ProgramData\\Anaconda3\\envs\\my-rdkit-env\\lib\\site-packages\\sklearn\\neural_network\\_multilayer_perceptron.py:696: ConvergenceWarning: Stochastic Optimizer: Maximum iterations (200) reached and the optimization hasn't converged yet.\n",
      "  ConvergenceWarning,\n",
      "C:\\ProgramData\\Anaconda3\\envs\\my-rdkit-env\\lib\\site-packages\\sklearn\\neural_network\\_multilayer_perceptron.py:696: ConvergenceWarning: Stochastic Optimizer: Maximum iterations (200) reached and the optimization hasn't converged yet.\n",
      "  ConvergenceWarning,\n",
      "C:\\ProgramData\\Anaconda3\\envs\\my-rdkit-env\\lib\\site-packages\\sklearn\\neural_network\\_multilayer_perceptron.py:696: ConvergenceWarning: Stochastic Optimizer: Maximum iterations (200) reached and the optimization hasn't converged yet.\n",
      "  ConvergenceWarning,\n",
      "C:\\ProgramData\\Anaconda3\\envs\\my-rdkit-env\\lib\\site-packages\\sklearn\\neural_network\\_multilayer_perceptron.py:696: ConvergenceWarning: Stochastic Optimizer: Maximum iterations (200) reached and the optimization hasn't converged yet.\n",
      "  ConvergenceWarning,\n",
      "C:\\ProgramData\\Anaconda3\\envs\\my-rdkit-env\\lib\\site-packages\\sklearn\\neural_network\\_multilayer_perceptron.py:696: ConvergenceWarning: Stochastic Optimizer: Maximum iterations (200) reached and the optimization hasn't converged yet.\n",
      "  ConvergenceWarning,\n",
      "C:\\ProgramData\\Anaconda3\\envs\\my-rdkit-env\\lib\\site-packages\\sklearn\\neural_network\\_multilayer_perceptron.py:696: ConvergenceWarning: Stochastic Optimizer: Maximum iterations (200) reached and the optimization hasn't converged yet.\n",
      "  ConvergenceWarning,\n",
      "C:\\ProgramData\\Anaconda3\\envs\\my-rdkit-env\\lib\\site-packages\\sklearn\\neural_network\\_multilayer_perceptron.py:696: ConvergenceWarning: Stochastic Optimizer: Maximum iterations (200) reached and the optimization hasn't converged yet.\n",
      "  ConvergenceWarning,\n",
      "C:\\ProgramData\\Anaconda3\\envs\\my-rdkit-env\\lib\\site-packages\\sklearn\\neural_network\\_multilayer_perceptron.py:696: ConvergenceWarning: Stochastic Optimizer: Maximum iterations (200) reached and the optimization hasn't converged yet.\n",
      "  ConvergenceWarning,\n",
      "C:\\ProgramData\\Anaconda3\\envs\\my-rdkit-env\\lib\\site-packages\\sklearn\\neural_network\\_multilayer_perceptron.py:696: ConvergenceWarning: Stochastic Optimizer: Maximum iterations (200) reached and the optimization hasn't converged yet.\n",
      "  ConvergenceWarning,\n",
      "C:\\ProgramData\\Anaconda3\\envs\\my-rdkit-env\\lib\\site-packages\\sklearn\\neural_network\\_multilayer_perceptron.py:696: ConvergenceWarning: Stochastic Optimizer: Maximum iterations (200) reached and the optimization hasn't converged yet.\n",
      "  ConvergenceWarning,\n",
      "C:\\ProgramData\\Anaconda3\\envs\\my-rdkit-env\\lib\\site-packages\\sklearn\\neural_network\\_multilayer_perceptron.py:696: ConvergenceWarning: Stochastic Optimizer: Maximum iterations (200) reached and the optimization hasn't converged yet.\n",
      "  ConvergenceWarning,\n",
      "C:\\ProgramData\\Anaconda3\\envs\\my-rdkit-env\\lib\\site-packages\\sklearn\\neural_network\\_multilayer_perceptron.py:696: ConvergenceWarning: Stochastic Optimizer: Maximum iterations (200) reached and the optimization hasn't converged yet.\n",
      "  ConvergenceWarning,\n",
      "C:\\ProgramData\\Anaconda3\\envs\\my-rdkit-env\\lib\\site-packages\\sklearn\\neural_network\\_multilayer_perceptron.py:696: ConvergenceWarning: Stochastic Optimizer: Maximum iterations (200) reached and the optimization hasn't converged yet.\n",
      "  ConvergenceWarning,\n",
      "C:\\ProgramData\\Anaconda3\\envs\\my-rdkit-env\\lib\\site-packages\\sklearn\\neural_network\\_multilayer_perceptron.py:696: ConvergenceWarning: Stochastic Optimizer: Maximum iterations (200) reached and the optimization hasn't converged yet.\n",
      "  ConvergenceWarning,\n",
      "C:\\ProgramData\\Anaconda3\\envs\\my-rdkit-env\\lib\\site-packages\\sklearn\\neural_network\\_multilayer_perceptron.py:696: ConvergenceWarning: Stochastic Optimizer: Maximum iterations (200) reached and the optimization hasn't converged yet.\n",
      "  ConvergenceWarning,\n",
      "C:\\ProgramData\\Anaconda3\\envs\\my-rdkit-env\\lib\\site-packages\\sklearn\\neural_network\\_multilayer_perceptron.py:696: ConvergenceWarning: Stochastic Optimizer: Maximum iterations (200) reached and the optimization hasn't converged yet.\n",
      "  ConvergenceWarning,\n",
      "C:\\ProgramData\\Anaconda3\\envs\\my-rdkit-env\\lib\\site-packages\\sklearn\\neural_network\\_multilayer_perceptron.py:696: ConvergenceWarning: Stochastic Optimizer: Maximum iterations (200) reached and the optimization hasn't converged yet.\n",
      "  ConvergenceWarning,\n"
     ]
    },
    {
     "name": "stderr",
     "output_type": "stream",
     "text": [
      "C:\\ProgramData\\Anaconda3\\envs\\my-rdkit-env\\lib\\site-packages\\sklearn\\neural_network\\_multilayer_perceptron.py:696: ConvergenceWarning: Stochastic Optimizer: Maximum iterations (800) reached and the optimization hasn't converged yet.\n",
      "  ConvergenceWarning,\n",
      "C:\\ProgramData\\Anaconda3\\envs\\my-rdkit-env\\lib\\site-packages\\sklearn\\neural_network\\_multilayer_perceptron.py:696: ConvergenceWarning: Stochastic Optimizer: Maximum iterations (800) reached and the optimization hasn't converged yet.\n",
      "  ConvergenceWarning,\n",
      "C:\\ProgramData\\Anaconda3\\envs\\my-rdkit-env\\lib\\site-packages\\sklearn\\neural_network\\_multilayer_perceptron.py:696: ConvergenceWarning: Stochastic Optimizer: Maximum iterations (200) reached and the optimization hasn't converged yet.\n",
      "  ConvergenceWarning,\n",
      "C:\\ProgramData\\Anaconda3\\envs\\my-rdkit-env\\lib\\site-packages\\sklearn\\neural_network\\_multilayer_perceptron.py:696: ConvergenceWarning: Stochastic Optimizer: Maximum iterations (200) reached and the optimization hasn't converged yet.\n",
      "  ConvergenceWarning,\n",
      "C:\\ProgramData\\Anaconda3\\envs\\my-rdkit-env\\lib\\site-packages\\sklearn\\neural_network\\_multilayer_perceptron.py:696: ConvergenceWarning: Stochastic Optimizer: Maximum iterations (200) reached and the optimization hasn't converged yet.\n",
      "  ConvergenceWarning,\n",
      "C:\\ProgramData\\Anaconda3\\envs\\my-rdkit-env\\lib\\site-packages\\sklearn\\neural_network\\_multilayer_perceptron.py:696: ConvergenceWarning: Stochastic Optimizer: Maximum iterations (200) reached and the optimization hasn't converged yet.\n",
      "  ConvergenceWarning,\n",
      "C:\\ProgramData\\Anaconda3\\envs\\my-rdkit-env\\lib\\site-packages\\sklearn\\neural_network\\_multilayer_perceptron.py:696: ConvergenceWarning: Stochastic Optimizer: Maximum iterations (200) reached and the optimization hasn't converged yet.\n",
      "  ConvergenceWarning,\n",
      "C:\\ProgramData\\Anaconda3\\envs\\my-rdkit-env\\lib\\site-packages\\sklearn\\neural_network\\_multilayer_perceptron.py:696: ConvergenceWarning: Stochastic Optimizer: Maximum iterations (200) reached and the optimization hasn't converged yet.\n",
      "  ConvergenceWarning,\n",
      "C:\\ProgramData\\Anaconda3\\envs\\my-rdkit-env\\lib\\site-packages\\sklearn\\neural_network\\_multilayer_perceptron.py:696: ConvergenceWarning: Stochastic Optimizer: Maximum iterations (200) reached and the optimization hasn't converged yet.\n",
      "  ConvergenceWarning,\n",
      "C:\\ProgramData\\Anaconda3\\envs\\my-rdkit-env\\lib\\site-packages\\sklearn\\neural_network\\_multilayer_perceptron.py:696: ConvergenceWarning: Stochastic Optimizer: Maximum iterations (200) reached and the optimization hasn't converged yet.\n",
      "  ConvergenceWarning,\n",
      "C:\\ProgramData\\Anaconda3\\envs\\my-rdkit-env\\lib\\site-packages\\sklearn\\neural_network\\_multilayer_perceptron.py:696: ConvergenceWarning: Stochastic Optimizer: Maximum iterations (200) reached and the optimization hasn't converged yet.\n",
      "  ConvergenceWarning,\n",
      "C:\\ProgramData\\Anaconda3\\envs\\my-rdkit-env\\lib\\site-packages\\sklearn\\neural_network\\_multilayer_perceptron.py:696: ConvergenceWarning: Stochastic Optimizer: Maximum iterations (200) reached and the optimization hasn't converged yet.\n",
      "  ConvergenceWarning,\n",
      "C:\\ProgramData\\Anaconda3\\envs\\my-rdkit-env\\lib\\site-packages\\sklearn\\neural_network\\_multilayer_perceptron.py:696: ConvergenceWarning: Stochastic Optimizer: Maximum iterations (200) reached and the optimization hasn't converged yet.\n",
      "  ConvergenceWarning,\n",
      "C:\\ProgramData\\Anaconda3\\envs\\my-rdkit-env\\lib\\site-packages\\sklearn\\neural_network\\_multilayer_perceptron.py:696: ConvergenceWarning: Stochastic Optimizer: Maximum iterations (200) reached and the optimization hasn't converged yet.\n",
      "  ConvergenceWarning,\n",
      "C:\\ProgramData\\Anaconda3\\envs\\my-rdkit-env\\lib\\site-packages\\sklearn\\neural_network\\_multilayer_perceptron.py:696: ConvergenceWarning: Stochastic Optimizer: Maximum iterations (200) reached and the optimization hasn't converged yet.\n",
      "  ConvergenceWarning,\n",
      "C:\\ProgramData\\Anaconda3\\envs\\my-rdkit-env\\lib\\site-packages\\sklearn\\neural_network\\_multilayer_perceptron.py:696: ConvergenceWarning: Stochastic Optimizer: Maximum iterations (200) reached and the optimization hasn't converged yet.\n",
      "  ConvergenceWarning,\n",
      "C:\\ProgramData\\Anaconda3\\envs\\my-rdkit-env\\lib\\site-packages\\sklearn\\neural_network\\_multilayer_perceptron.py:696: ConvergenceWarning: Stochastic Optimizer: Maximum iterations (200) reached and the optimization hasn't converged yet.\n",
      "  ConvergenceWarning,\n",
      "C:\\ProgramData\\Anaconda3\\envs\\my-rdkit-env\\lib\\site-packages\\sklearn\\neural_network\\_multilayer_perceptron.py:696: ConvergenceWarning: Stochastic Optimizer: Maximum iterations (200) reached and the optimization hasn't converged yet.\n",
      "  ConvergenceWarning,\n"
     ]
    },
    {
     "data": {
      "text/plain": [
       "GridSearchCV(estimator=MLPClassifier(),\n",
       "             param_grid={'activation': ['identity', 'logistic', 'tanh', 'relu'],\n",
       "                         'hidden_layer_sizes': [(500, 400, 300, 200, 100),\n",
       "                                                (400, 400, 400, 400, 400),\n",
       "                                                (300, 300, 300, 300, 300),\n",
       "                                                (200, 200, 200, 200, 200),\n",
       "                                                (100, 100, 100), (10, 10, 10),\n",
       "                                                (500,), (100,), (10,)],\n",
       "                         'max_iter': [200, 800, 1000, 1400, 1800, 2000],\n",
       "                         'solver': ['lbfgs', 'sgd', 'adam']})"
      ]
     },
     "execution_count": 58,
     "metadata": {},
     "output_type": "execute_result"
    }
   ],
   "source": [
    "mlp = GridSearchCV(MLPClassifier(), parameters)\n",
    "mlp.fit(x_tr, y_tr)"
   ]
  },
  {
   "cell_type": "code",
   "execution_count": 59,
   "metadata": {},
   "outputs": [
    {
     "data": {
      "text/plain": [
       "{'activation': 'logistic',\n",
       " 'hidden_layer_sizes': (10, 10, 10),\n",
       " 'max_iter': 1000,\n",
       " 'solver': 'lbfgs'}"
      ]
     },
     "execution_count": 59,
     "metadata": {},
     "output_type": "execute_result"
    }
   ],
   "source": [
    "mlp.best_params_"
   ]
  },
  {
   "cell_type": "code",
   "execution_count": 60,
   "metadata": {},
   "outputs": [],
   "source": [
    "mlp = mlp.best_estimator_"
   ]
  },
  {
   "cell_type": "markdown",
   "metadata": {},
   "source": [
    "## 8.2.  5-fold-cross-validation   Neural network model"
   ]
  },
  {
   "cell_type": "code",
   "execution_count": 27,
   "metadata": {},
   "outputs": [],
   "source": [
    "seed = 42"
   ]
  },
  {
   "cell_type": "code",
   "execution_count": 159,
   "metadata": {},
   "outputs": [],
   "source": [
    "cv = StratifiedKFold(n_splits=5, shuffle=True, random_state=seed)"
   ]
  },
  {
   "cell_type": "code",
   "execution_count": 233,
   "metadata": {},
   "outputs": [],
   "source": [
    "y_pred_CV_mlp = cross_val_predict(mlp, x_tr, y_tr, cv=cv)"
   ]
  },
  {
   "cell_type": "code",
   "execution_count": 234,
   "metadata": {},
   "outputs": [
    {
     "name": "stdout",
     "output_type": "stream",
     "text": [
      "balanced_accuracy =  0.81\n",
      "SE =  0.76\n",
      "SP =  0.87\n",
      "Kappa =  0.63\n",
      "MCC =  0.63\n",
      "29\n",
      "58\n",
      "9\n",
      "9\n"
     ]
    }
   ],
   "source": [
    "confusion_matrix_CV_mlp = metrics.confusion_matrix(y_tr, y_pred_CV_mlp, labels=[0,1])\n",
    "Kappa = metrics.cohen_kappa_score(y_tr, y_pred_CV_mlp, weights='linear')\n",
    "TN, FP, FN, TP = confusion_matrix_CV_mlp.ravel()\n",
    "MCC=matthews_corrcoef(y_tr, y_pred_CV_mlp)\n",
    "SE = TP/(TP+FN)\n",
    "SP = TN/(TN+FP)\n",
    "BA = (SE + SP)/2\n",
    "print(\"balanced_accuracy = \", round((BA), 2))\n",
    "print(\"SE = \", round((SE), 2))\n",
    "print(\"SP = \", round((SP), 2))\n",
    "print(\"Kappa = \", round((Kappa), 2))\n",
    "print(\"MCC = \", round((MCC), 2))\n",
    "print(TP)\n",
    "print(TN)\n",
    "print(FP)\n",
    "print(FN)"
   ]
  },
  {
   "cell_type": "code",
   "execution_count": 74,
   "metadata": {},
   "outputs": [],
   "source": [
    "pickle.dump(mlp, open('Models/Topological_fingerprints/HDAC6_mlp_TFP_15_07_23.pkl', 'wb'))"
   ]
  },
  {
   "cell_type": "markdown",
   "metadata": {},
   "source": [
    "## 8.3.Y-randomization for MLP model"
   ]
  },
  {
   "cell_type": "code",
   "execution_count": 183,
   "metadata": {},
   "outputs": [
    {
     "name": "stderr",
     "output_type": "stream",
     "text": [
      "[Parallel(n_jobs=-1)]: Using backend LokyBackend with 4 concurrent workers.\n",
      "[Parallel(n_jobs=-1)]: Done  42 tasks      | elapsed:  2.2min\n",
      "[Parallel(n_jobs=-1)]: Done 192 tasks      | elapsed: 10.2min\n",
      "[Parallel(n_jobs=-1)]: Done 442 tasks      | elapsed: 23.5min\n"
     ]
    },
    {
     "name": "stdout",
     "output_type": "stream",
     "text": [
      "True score =  0.81 \n",
      "Y-randomization =  0.5 \n",
      "p-value =  0.002\n"
     ]
    },
    {
     "name": "stderr",
     "output_type": "stream",
     "text": [
      "[Parallel(n_jobs=-1)]: Done 500 out of 500 | elapsed: 26.5min finished\n"
     ]
    }
   ],
   "source": [
    "permutations = 500\n",
    "score, permutation_scores, pvalue = permutation_test_score(mlp, x_tr, y_tr,\n",
    "                                                           cv=cv, scoring='balanced_accuracy',\n",
    "                                                           n_permutations=permutations,\n",
    "                                                           n_jobs=-1,\n",
    "                                                           verbose=1,\n",
    "                                                           random_state=24)\n",
    "print('True score = ', score.round(2),\n",
    "      '\\nY-randomization = ', np.mean(permutation_scores).round(2),\n",
    "      '\\np-value = ', pvalue.round(4))"
   ]
  },
  {
   "cell_type": "code",
   "execution_count": 262,
   "metadata": {},
   "outputs": [
    {
     "data": {
      "text/plain": [
       "0.67"
      ]
     },
     "execution_count": 262,
     "metadata": {},
     "output_type": "execute_result"
    }
   ],
   "source": [
    "max_Y_randomization = round(np.amax(permutation_scores, axis=0), 2) \n",
    "max_Y_randomization"
   ]
  },
  {
   "cell_type": "code",
   "execution_count": 263,
   "metadata": {},
   "outputs": [
    {
     "data": {
      "text/plain": [
       "0.054"
      ]
     },
     "execution_count": 263,
     "metadata": {},
     "output_type": "execute_result"
    }
   ],
   "source": [
    "standard_deviation = round(np.std(permutation_scores, axis=0), 3)\n",
    "standard_deviation"
   ]
  },
  {
   "cell_type": "code",
   "execution_count": 264,
   "metadata": {},
   "outputs": [
    {
     "data": {
      "text/plain": [
       "0.36"
      ]
     },
     "execution_count": 264,
     "metadata": {},
     "output_type": "execute_result"
    }
   ],
   "source": [
    "min_Y_randomization = round(np.min(permutation_scores, axis=0), 2) \n",
    "min_Y_randomization"
   ]
  },
  {
   "cell_type": "code",
   "execution_count": 180,
   "metadata": {},
   "outputs": [
    {
     "name": "stdout",
     "output_type": "stream",
     "text": [
      "Coverage =  0.0\n"
     ]
    }
   ],
   "source": [
    "a = np.greater_equal(permutation_scores, score)\n",
    "print(\"Coverage = \", sum(a) / len(a))"
   ]
  },
  {
   "cell_type": "markdown",
   "metadata": {},
   "source": [
    "## 8.4. Model Neural network: predict for molecules of test set"
   ]
  },
  {
   "cell_type": "code",
   "execution_count": 132,
   "metadata": {},
   "outputs": [],
   "source": [
    "y_pred_mlp = mlp.predict(x_ts)"
   ]
  },
  {
   "cell_type": "code",
   "execution_count": 133,
   "metadata": {},
   "outputs": [
    {
     "data": {
      "text/plain": [
       "array([1, 1, 1, 1, 1, 0, 1, 1, 1, 0, 1, 0, 0, 0, 0, 0, 0, 0, 1, 0, 0, 0,\n",
       "       0, 0, 0, 0])"
      ]
     },
     "execution_count": 133,
     "metadata": {},
     "output_type": "execute_result"
    }
   ],
   "source": [
    "y_pred_mlp"
   ]
  },
  {
   "cell_type": "code",
   "execution_count": 134,
   "metadata": {},
   "outputs": [
    {
     "name": "stdout",
     "output_type": "stream",
     "text": [
      "balanced_accuracy =  0.89\n",
      "SE =  0.89\n",
      "SP =  0.88\n",
      "Kappa =  0.75\n",
      "MCC =  0.75\n",
      "8\n",
      "15\n",
      "2\n",
      "1\n"
     ]
    }
   ],
   "source": [
    "confusion_matrix_mlp = metrics.confusion_matrix(y_ts, y_pred_mlp, labels=[0,1])\n",
    "Kappa = metrics.cohen_kappa_score(y_ts, y_pred_mlp, weights='linear')\n",
    "TN, FP, FN, TP = confusion_matrix_mlp.ravel()\n",
    "MCC=matthews_corrcoef(y_ts, y_pred_mlp)\n",
    "SE = TP/(TP+FN)\n",
    "SP = TN/(TN+FP)\n",
    "BA = (SE + SP)/2\n",
    "print(\"balanced_accuracy = \", round((BA), 2))\n",
    "print(\"SE = \", round((SE), 2))\n",
    "print(\"SP = \", round((SP), 2))\n",
    "print(\"Kappa = \", round((Kappa), 2))\n",
    "print(\"MCC = \", round((MCC), 2))\n",
    "print(TP)\n",
    "print(TN)\n",
    "print(FP)\n",
    "print(FN)"
   ]
  },
  {
   "cell_type": "markdown",
   "metadata": {},
   "source": [
    "# 9. Estimating applicability domain."
   ]
  },
  {
   "cell_type": "code",
   "execution_count": 237,
   "metadata": {},
   "outputs": [],
   "source": [
    "d_ECFP4 = {}\n",
    "for mol in Chem.SDMolSupplier(\"datasets/HDAC6_ws.sdf\"):\n",
    "    tp = Chem.RDKFingerprint(mol)\n",
    "    for m in Chem.SDMolSupplier('datasets/HDAC6_ts.sdf'):\n",
    "        if m is not None:\n",
    "            tp_ =  Chem.RDKFingerprint(m)\n",
    "            d_ECFP4.setdefault(Chem.MolToSmiles(m),[]).append(DataStructs.FingerprintSimilarity(tp, tp_))"
   ]
  },
  {
   "cell_type": "code",
   "execution_count": 238,
   "metadata": {},
   "outputs": [],
   "source": [
    "df_ECFP4 = pd.DataFrame.from_dict(d_ECFP4)"
   ]
  },
  {
   "cell_type": "code",
   "execution_count": 239,
   "metadata": {},
   "outputs": [
    {
     "data": {
      "text/plain": [
       "O=C(CCCCCCC(=O)Nc1cccc(-c2cn(-c3ccc(I)cc3)nn2)c1)NO              0.952381\n",
       "O=C(CCCCCCn1cc(-c2ccc(Nc3c4ccccc4nc4ccccc34)cc2)nn1)NO           0.991094\n",
       "O=C(CCCCCCC(=O)Nc1cccc(-c2cn(C3CCCCC3)nn2)c1)NO                  0.598385\n",
       "Cc1[nH]c2ccccc2c1CCNCc1ccc(C=CC(=O)NO)cc1                        0.540897\n",
       "O=C(CCCCCCC(=O)Nc1ccc(-c2ccccc2)cc1)NO                           0.715719\n",
       "Nc1ccc(-c2cc(C(=O)NCCCCCCC(=O)NO)no2)cc1                         0.967442\n",
       "O=C(CCCCCCC(=O)Nc1cccc(-c2cn(Cc3ccc(O)cc3)nn2)c1)NO              0.557971\n",
       "COc1cc2ccn(CCCCOc3cccc(NC(=O)CCCCCCC(=O)NO)c3)c2c(OC)c1OC        0.679037\n",
       "COc1cc2ccn(CCOc3cccc(NC(=O)CCCCCCC(=O)NO)c3)c2c(OC)c1OC          0.746862\n",
       "COc1ccc(Cl)cc1C(=O)NCCc1ccc(C=CC(=O)NO)cc1                       0.912308\n",
       "CN(c1ccc(OCC(=O)NO)cc1)c1ncnc2ccccc12                            0.901515\n",
       "COc1ccc(N(C)c2nc(C)nc3ccccc23)cc1OCCCC(=O)NO                     0.969388\n",
       "CN(c1ccc(OCCCCCC(=O)NO)cc1)c1ncnc2ccccc12                        0.977865\n",
       "COc1ccc2nc3cc(Cl)ccc3c(Nc3ccc(-c4cn(CCCCCC(=O)NO)nn4)cc3)c2c1    0.922457\n",
       "CCN(CC)CCNC(=O)c1ccc(-c2cn(CCCCCCC(=O)NO)nn2)cn1                 0.653348\n",
       "O=C(NO)c1ccc(C(=O)Nc2[nH]nc3cc(-c4ccccc4)ccc23)cc1               0.954486\n",
       "COc1ccc(-c2ccc3c(NC(=O)c4ccc(C(=O)NO)cc4)[nH]nc3c2)cc1           0.939394\n",
       "O=C(C=Cc1ccc(CNCc2ccc3ccccc3n2)cc1)NO                            0.801012\n",
       "O=C(C=Cc1ccc2c(ccn2S(=O)(=O)c2ccc(F)cc2)c1)NO                    0.947874\n",
       "O=C(CCCCc1cc(C(=O)NO)no1)Nc1nc(-c2ccccc2)cs1                     0.612602\n",
       "Nc1cccc(-c2csc(NC(=O)CCCCc3cc(C(=O)NO)no3)n2)c1                  0.656009\n",
       "COc1ccc(N(C)c2nc(C)nc3ccccc23)cc1OCCCCC(=O)NO                    0.985567\n",
       "CCN(CC)CCNC(=O)c1ccc(-c2cn(CCCCCC(=O)NO)nn2)cn1                  0.647249\n",
       "Cc1cc(C)cc(-c2ccc3c(NC(=O)c4ccc(C(=O)NO)cc4)[nH]nc3c2)c1         0.913259\n",
       "O=C(NO)c1ccc(C(=O)Nc2[nH]nc3cc(-c4c(Cl)cccc4Cl)ccc23)cc1         0.973621\n",
       "O=C(CCCCc1cc(C(=O)NO)no1)NC1CCCCC1                               0.967033\n",
       "dtype: float64"
      ]
     },
     "execution_count": 239,
     "metadata": {},
     "output_type": "execute_result"
    }
   ],
   "source": [
    "df_ECFP4.max()"
   ]
  },
  {
   "cell_type": "code",
   "execution_count": 240,
   "metadata": {},
   "outputs": [
    {
     "data": {
      "text/plain": [
       "O=C(CCCCCCC(=O)Nc1cccc(-c2cn(-c3ccc(I)cc3)nn2)c1)NO              True\n",
       "O=C(CCCCCCn1cc(-c2ccc(Nc3c4ccccc4nc4ccccc34)cc2)nn1)NO           True\n",
       "O=C(CCCCCCC(=O)Nc1cccc(-c2cn(C3CCCCC3)nn2)c1)NO                  True\n",
       "Cc1[nH]c2ccccc2c1CCNCc1ccc(C=CC(=O)NO)cc1                        True\n",
       "O=C(CCCCCCC(=O)Nc1ccc(-c2ccccc2)cc1)NO                           True\n",
       "Nc1ccc(-c2cc(C(=O)NCCCCCCC(=O)NO)no2)cc1                         True\n",
       "O=C(CCCCCCC(=O)Nc1cccc(-c2cn(Cc3ccc(O)cc3)nn2)c1)NO              True\n",
       "COc1cc2ccn(CCCCOc3cccc(NC(=O)CCCCCCC(=O)NO)c3)c2c(OC)c1OC        True\n",
       "COc1cc2ccn(CCOc3cccc(NC(=O)CCCCCCC(=O)NO)c3)c2c(OC)c1OC          True\n",
       "COc1ccc(Cl)cc1C(=O)NCCc1ccc(C=CC(=O)NO)cc1                       True\n",
       "CN(c1ccc(OCC(=O)NO)cc1)c1ncnc2ccccc12                            True\n",
       "COc1ccc(N(C)c2nc(C)nc3ccccc23)cc1OCCCC(=O)NO                     True\n",
       "CN(c1ccc(OCCCCCC(=O)NO)cc1)c1ncnc2ccccc12                        True\n",
       "COc1ccc2nc3cc(Cl)ccc3c(Nc3ccc(-c4cn(CCCCCC(=O)NO)nn4)cc3)c2c1    True\n",
       "CCN(CC)CCNC(=O)c1ccc(-c2cn(CCCCCCC(=O)NO)nn2)cn1                 True\n",
       "O=C(NO)c1ccc(C(=O)Nc2[nH]nc3cc(-c4ccccc4)ccc23)cc1               True\n",
       "COc1ccc(-c2ccc3c(NC(=O)c4ccc(C(=O)NO)cc4)[nH]nc3c2)cc1           True\n",
       "O=C(C=Cc1ccc(CNCc2ccc3ccccc3n2)cc1)NO                            True\n",
       "O=C(C=Cc1ccc2c(ccn2S(=O)(=O)c2ccc(F)cc2)c1)NO                    True\n",
       "O=C(CCCCc1cc(C(=O)NO)no1)Nc1nc(-c2ccccc2)cs1                     True\n",
       "Nc1cccc(-c2csc(NC(=O)CCCCc3cc(C(=O)NO)no3)n2)c1                  True\n",
       "COc1ccc(N(C)c2nc(C)nc3ccccc23)cc1OCCCCC(=O)NO                    True\n",
       "CCN(CC)CCNC(=O)c1ccc(-c2cn(CCCCCC(=O)NO)nn2)cn1                  True\n",
       "Cc1cc(C)cc(-c2ccc3c(NC(=O)c4ccc(C(=O)NO)cc4)[nH]nc3c2)c1         True\n",
       "O=C(NO)c1ccc(C(=O)Nc2[nH]nc3cc(-c4c(Cl)cccc4Cl)ccc23)cc1         True\n",
       "O=C(CCCCc1cc(C(=O)NO)no1)NC1CCCCC1                               True\n",
       "dtype: bool"
      ]
     },
     "execution_count": 240,
     "metadata": {},
     "output_type": "execute_result"
    }
   ],
   "source": [
    "threshold = 0.40\n",
    "da_ECFP4 = np.asarray(df_ECFP4)\n",
    "da_ECFP4 = np.amax(df_ECFP4, axis=0) >= threshold\n",
    "da_ECFP4"
   ]
  },
  {
   "cell_type": "code",
   "execution_count": 241,
   "metadata": {},
   "outputs": [
    {
     "name": "stdout",
     "output_type": "stream",
     "text": [
      "Coverage =  1.0\n"
     ]
    }
   ],
   "source": [
    "print(\"Coverage = \", sum(da_ECFP4) / len(da_ECFP4))"
   ]
  },
  {
   "cell_type": "code",
   "execution_count": 242,
   "metadata": {},
   "outputs": [
    {
     "name": "stdout",
     "output_type": "stream",
     "text": [
      "[]\n"
     ]
    }
   ],
   "source": [
    "print(np.where(da_ECFP4 == 0)[0])"
   ]
  },
  {
   "cell_type": "code",
   "execution_count": 243,
   "metadata": {},
   "outputs": [],
   "source": [
    "out_Ad=list(np.where(da_ECFP4 == 0)[0])"
   ]
  },
  {
   "cell_type": "code",
   "execution_count": 244,
   "metadata": {},
   "outputs": [
    {
     "data": {
      "text/plain": [
       "[]"
      ]
     },
     "execution_count": 244,
     "metadata": {},
     "output_type": "execute_result"
    }
   ],
   "source": [
    "out_Ad"
   ]
  },
  {
   "cell_type": "code",
   "execution_count": 245,
   "metadata": {},
   "outputs": [],
   "source": [
    "y_pred_mlp_ad=list(y_pred_mlp)"
   ]
  },
  {
   "cell_type": "code",
   "execution_count": 246,
   "metadata": {},
   "outputs": [
    {
     "data": {
      "text/plain": [
       "26"
      ]
     },
     "execution_count": 246,
     "metadata": {},
     "output_type": "execute_result"
    }
   ],
   "source": [
    "len(y_pred_mlp_ad)"
   ]
  },
  {
   "cell_type": "code",
   "execution_count": 247,
   "metadata": {},
   "outputs": [],
   "source": [
    "y_pred_mlp_ad[:] = [x for i,x in enumerate(y_pred_mlp_ad) if i not in out_Ad]"
   ]
  },
  {
   "cell_type": "code",
   "execution_count": 248,
   "metadata": {},
   "outputs": [
    {
     "data": {
      "text/plain": [
       "26"
      ]
     },
     "execution_count": 248,
     "metadata": {},
     "output_type": "execute_result"
    }
   ],
   "source": [
    "len(y_pred_mlp_ad)"
   ]
  },
  {
   "cell_type": "code",
   "execution_count": 249,
   "metadata": {},
   "outputs": [
    {
     "data": {
      "text/plain": [
       "26"
      ]
     },
     "execution_count": 249,
     "metadata": {},
     "output_type": "execute_result"
    }
   ],
   "source": [
    "y_ts_ad=list(y_ts)\n",
    "len(y_ts)"
   ]
  },
  {
   "cell_type": "code",
   "execution_count": 250,
   "metadata": {},
   "outputs": [
    {
     "data": {
      "text/plain": [
       "26"
      ]
     },
     "execution_count": 250,
     "metadata": {},
     "output_type": "execute_result"
    }
   ],
   "source": [
    "y_ts_ad[:] = [x for i,x in enumerate(y_ts) if i not in out_Ad]\n",
    "len(y_ts_ad)"
   ]
  },
  {
   "cell_type": "code",
   "execution_count": 251,
   "metadata": {},
   "outputs": [],
   "source": [
    "confusion_matrix_ts = metrics.confusion_matrix(y_ts_ad, y_pred_mlp_ad, labels=[0,1])"
   ]
  },
  {
   "cell_type": "code",
   "execution_count": 252,
   "metadata": {},
   "outputs": [
    {
     "name": "stdout",
     "output_type": "stream",
     "text": [
      "balanced_accuracy =  0.89\n",
      "SE =  0.89\n",
      "SP =  0.88\n",
      "Kappa =  0.75\n",
      "MCC =  0.75\n",
      "8\n",
      "15\n",
      "2\n",
      "1\n"
     ]
    }
   ],
   "source": [
    "Kappa = metrics.cohen_kappa_score(y_ts_ad, y_pred_mlp_ad, weights='linear')\n",
    "TN, FP, FN, TP = confusion_matrix_ts.ravel()\n",
    "SE = TP/(TP+FN)\n",
    "SP = TN/(TN+FP)\n",
    "BA = (SE + SP)/2\n",
    "MCC=matthews_corrcoef(y_ts_ad, y_pred_mlp_ad)\n",
    "print(\"balanced_accuracy = \", round((BA), 2))\n",
    "print(\"SE = \", round((SE), 2))\n",
    "print(\"SP = \", round((SP), 2))\n",
    "print(\"Kappa = \", round((Kappa), 2))\n",
    "print(\"MCC = \", round((MCC), 2))\n",
    "print(TP)\n",
    "print(TN)\n",
    "print(FP)\n",
    "print(FN)"
   ]
  },
  {
   "cell_type": "markdown",
   "metadata": {},
   "source": [
    "# 10. Virtual Screening"
   ]
  },
  {
   "cell_type": "markdown",
   "metadata": {},
   "source": [
    "## 10.1 Data entry and curation molecules for VS\n"
   ]
  },
  {
   "cell_type": "code",
   "execution_count": 67,
   "metadata": {},
   "outputs": [
    {
     "name": "stdout",
     "output_type": "stream",
     "text": [
      "Original data:  12 molecules\n",
      "Failed data:  0 molecules\n"
     ]
    },
    {
     "data": {
      "text/html": [
       "<div>\n",
       "<style scoped>\n",
       "    .dataframe tbody tr th:only-of-type {\n",
       "        vertical-align: middle;\n",
       "    }\n",
       "\n",
       "    .dataframe tbody tr th {\n",
       "        vertical-align: top;\n",
       "    }\n",
       "\n",
       "    .dataframe thead th {\n",
       "        text-align: right;\n",
       "    }\n",
       "</style>\n",
       "<table border=\"1\" class=\"dataframe\">\n",
       "  <thead>\n",
       "    <tr style=\"text-align: right;\">\n",
       "      <th></th>\n",
       "      <th>No. failed molecule in original set</th>\n",
       "      <th>SMILES of wrong structure:</th>\n",
       "    </tr>\n",
       "    <tr>\n",
       "      <th>No.</th>\n",
       "      <th></th>\n",
       "      <th></th>\n",
       "    </tr>\n",
       "  </thead>\n",
       "  <tbody>\n",
       "  </tbody>\n",
       "</table>\n",
       "</div>"
      ],
      "text/plain": [
       "Empty DataFrame\n",
       "Columns: [No. failed molecule in original set, SMILES of wrong structure: ]\n",
       "Index: []"
      ]
     },
     "execution_count": 67,
     "metadata": {},
     "output_type": "execute_result"
    }
   ],
   "source": [
    "uploaded_file_vs=\"datasets/HDAC6_vs_from_patents.sdf\"\n",
    "supplier_vs = Chem.ForwardSDMolSupplier(uploaded_file_vs,sanitize=False)\n",
    "failed_mols_vs = []\n",
    "all_mols_vs =[]\n",
    "wrong_structure_vs=[]\n",
    "wrong_smiles_vs=[]\n",
    "y_vs = []\n",
    "y_bad_index=[]\n",
    "for i, m in enumerate(supplier_vs):\n",
    "    structure = Chem.Mol(m)\n",
    "    all_mols_vs.append(structure)\n",
    "    y_vs.append(m.GetIntProp(\"HDAC6_class\"))\n",
    "    try:\n",
    "        Chem.SanitizeMol(structure)\n",
    "    except:\n",
    "        failed_mols_vs.append(m)\n",
    "        wrong_smiles_vs.append(Chem.MolToSmiles(m))\n",
    "        wrong_structure_vs.append(str(i+1))\n",
    "        y_bad_index.append(i)\n",
    "print('Original data: ', len(all_mols_vs), 'molecules')\n",
    "print('Failed data: ', len(failed_mols_vs), 'molecules')\n",
    "number_vs =[]\n",
    "for i in range(len(failed_mols_vs)):\n",
    "        number_ts.append(str(i+1))\n",
    "bad_molecules_vs = pd.DataFrame({'No. failed molecule in original set': wrong_structure_vs, 'SMILES of wrong structure: ': wrong_smiles_vs, 'No.': number_vs}, index=None)\n",
    "bad_molecules_vs = bad_molecules_vs.set_index('No.')\n",
    "bad_molecules_vs"
   ]
  },
  {
   "cell_type": "code",
   "execution_count": 68,
   "metadata": {},
   "outputs": [
    {
     "data": {
      "text/plain": [
       "12"
      ]
     },
     "execution_count": 68,
     "metadata": {},
     "output_type": "execute_result"
    }
   ],
   "source": [
    "y_vs[:] = [x for i,x in enumerate(y_vs) if i not in y_bad_index]\n",
    "len(y_vs)"
   ]
  },
  {
   "cell_type": "code",
   "execution_count": 69,
   "metadata": {},
   "outputs": [
    {
     "name": "stdout",
     "output_type": "stream",
     "text": [
      "Kept data:  12 molecules\n"
     ]
    }
   ],
   "source": [
    "records_vs = []\n",
    "for i in range(len(all_mols_vs)):\n",
    "    record = Chem.MolToMolBlock(all_mols_vs[i])\n",
    "    records_vs.append(record)\n",
    "            \n",
    "mols_vs = []\n",
    "for i,record in enumerate(records_vs):\n",
    "    standard_record = chembl_structure_pipeline.standardize_molblock(record)\n",
    "    m = Chem.MolFromMolBlock(standard_record)\n",
    "    mols_vs.append(m)\n",
    "           \n",
    "moldf_vs = []\n",
    "for val in mols_vs:\n",
    "    if val != None:\n",
    "        moldf_vs.append(val)\n",
    "print('Kept data: ', len(moldf_vs), 'molecules')"
   ]
  },
  {
   "cell_type": "markdown",
   "metadata": {},
   "source": [
    "## 10.2 Descriptor calculation for VS"
   ]
  },
  {
   "cell_type": "code",
   "execution_count": 70,
   "metadata": {},
   "outputs": [],
   "source": [
    "fp_vs = [Chem.RDKFingerprint(m) for m in moldf_vs]\n",
    "def rdkit_numpy_convert(fp_vs):\n",
    "    output = []\n",
    "    for f in fp_vs:\n",
    "        arr = np.zeros((1,))\n",
    "        DataStructs.ConvertToNumpyArray(f, arr)\n",
    "        output.append(arr)\n",
    "    return np.asarray(output)"
   ]
  },
  {
   "cell_type": "code",
   "execution_count": 71,
   "metadata": {},
   "outputs": [],
   "source": [
    "x_vs = rdkit_numpy_convert(fp_vs)"
   ]
  },
  {
   "cell_type": "code",
   "execution_count": 72,
   "metadata": {},
   "outputs": [
    {
     "data": {
      "text/html": [
       "<div>\n",
       "<style scoped>\n",
       "    .dataframe tbody tr th:only-of-type {\n",
       "        vertical-align: middle;\n",
       "    }\n",
       "\n",
       "    .dataframe tbody tr th {\n",
       "        vertical-align: top;\n",
       "    }\n",
       "\n",
       "    .dataframe thead th {\n",
       "        text-align: right;\n",
       "    }\n",
       "</style>\n",
       "<table border=\"1\" class=\"dataframe\">\n",
       "  <thead>\n",
       "    <tr style=\"text-align: right;\">\n",
       "      <th></th>\n",
       "      <th>0</th>\n",
       "      <th>1</th>\n",
       "      <th>2</th>\n",
       "      <th>3</th>\n",
       "      <th>4</th>\n",
       "      <th>5</th>\n",
       "      <th>6</th>\n",
       "      <th>7</th>\n",
       "      <th>8</th>\n",
       "      <th>9</th>\n",
       "      <th>...</th>\n",
       "      <th>2038</th>\n",
       "      <th>2039</th>\n",
       "      <th>2040</th>\n",
       "      <th>2041</th>\n",
       "      <th>2042</th>\n",
       "      <th>2043</th>\n",
       "      <th>2044</th>\n",
       "      <th>2045</th>\n",
       "      <th>2046</th>\n",
       "      <th>2047</th>\n",
       "    </tr>\n",
       "  </thead>\n",
       "  <tbody>\n",
       "    <tr>\n",
       "      <th>0</th>\n",
       "      <td>1.0</td>\n",
       "      <td>0.0</td>\n",
       "      <td>1.0</td>\n",
       "      <td>0.0</td>\n",
       "      <td>1.0</td>\n",
       "      <td>1.0</td>\n",
       "      <td>1.0</td>\n",
       "      <td>0.0</td>\n",
       "      <td>0.0</td>\n",
       "      <td>1.0</td>\n",
       "      <td>...</td>\n",
       "      <td>0.0</td>\n",
       "      <td>0.0</td>\n",
       "      <td>0.0</td>\n",
       "      <td>1.0</td>\n",
       "      <td>0.0</td>\n",
       "      <td>0.0</td>\n",
       "      <td>0.0</td>\n",
       "      <td>0.0</td>\n",
       "      <td>0.0</td>\n",
       "      <td>1.0</td>\n",
       "    </tr>\n",
       "    <tr>\n",
       "      <th>1</th>\n",
       "      <td>1.0</td>\n",
       "      <td>0.0</td>\n",
       "      <td>1.0</td>\n",
       "      <td>0.0</td>\n",
       "      <td>1.0</td>\n",
       "      <td>1.0</td>\n",
       "      <td>1.0</td>\n",
       "      <td>0.0</td>\n",
       "      <td>0.0</td>\n",
       "      <td>1.0</td>\n",
       "      <td>...</td>\n",
       "      <td>0.0</td>\n",
       "      <td>0.0</td>\n",
       "      <td>0.0</td>\n",
       "      <td>1.0</td>\n",
       "      <td>0.0</td>\n",
       "      <td>0.0</td>\n",
       "      <td>0.0</td>\n",
       "      <td>0.0</td>\n",
       "      <td>0.0</td>\n",
       "      <td>1.0</td>\n",
       "    </tr>\n",
       "    <tr>\n",
       "      <th>2</th>\n",
       "      <td>1.0</td>\n",
       "      <td>0.0</td>\n",
       "      <td>1.0</td>\n",
       "      <td>0.0</td>\n",
       "      <td>1.0</td>\n",
       "      <td>1.0</td>\n",
       "      <td>0.0</td>\n",
       "      <td>0.0</td>\n",
       "      <td>0.0</td>\n",
       "      <td>1.0</td>\n",
       "      <td>...</td>\n",
       "      <td>0.0</td>\n",
       "      <td>0.0</td>\n",
       "      <td>0.0</td>\n",
       "      <td>1.0</td>\n",
       "      <td>0.0</td>\n",
       "      <td>1.0</td>\n",
       "      <td>0.0</td>\n",
       "      <td>0.0</td>\n",
       "      <td>0.0</td>\n",
       "      <td>1.0</td>\n",
       "    </tr>\n",
       "    <tr>\n",
       "      <th>3</th>\n",
       "      <td>1.0</td>\n",
       "      <td>0.0</td>\n",
       "      <td>1.0</td>\n",
       "      <td>0.0</td>\n",
       "      <td>1.0</td>\n",
       "      <td>1.0</td>\n",
       "      <td>0.0</td>\n",
       "      <td>0.0</td>\n",
       "      <td>0.0</td>\n",
       "      <td>1.0</td>\n",
       "      <td>...</td>\n",
       "      <td>0.0</td>\n",
       "      <td>0.0</td>\n",
       "      <td>0.0</td>\n",
       "      <td>1.0</td>\n",
       "      <td>0.0</td>\n",
       "      <td>1.0</td>\n",
       "      <td>0.0</td>\n",
       "      <td>0.0</td>\n",
       "      <td>0.0</td>\n",
       "      <td>1.0</td>\n",
       "    </tr>\n",
       "    <tr>\n",
       "      <th>4</th>\n",
       "      <td>0.0</td>\n",
       "      <td>1.0</td>\n",
       "      <td>0.0</td>\n",
       "      <td>0.0</td>\n",
       "      <td>0.0</td>\n",
       "      <td>1.0</td>\n",
       "      <td>0.0</td>\n",
       "      <td>1.0</td>\n",
       "      <td>1.0</td>\n",
       "      <td>1.0</td>\n",
       "      <td>...</td>\n",
       "      <td>0.0</td>\n",
       "      <td>1.0</td>\n",
       "      <td>0.0</td>\n",
       "      <td>1.0</td>\n",
       "      <td>0.0</td>\n",
       "      <td>1.0</td>\n",
       "      <td>1.0</td>\n",
       "      <td>0.0</td>\n",
       "      <td>1.0</td>\n",
       "      <td>1.0</td>\n",
       "    </tr>\n",
       "    <tr>\n",
       "      <th>5</th>\n",
       "      <td>0.0</td>\n",
       "      <td>1.0</td>\n",
       "      <td>0.0</td>\n",
       "      <td>0.0</td>\n",
       "      <td>0.0</td>\n",
       "      <td>1.0</td>\n",
       "      <td>0.0</td>\n",
       "      <td>1.0</td>\n",
       "      <td>1.0</td>\n",
       "      <td>1.0</td>\n",
       "      <td>...</td>\n",
       "      <td>0.0</td>\n",
       "      <td>1.0</td>\n",
       "      <td>0.0</td>\n",
       "      <td>1.0</td>\n",
       "      <td>0.0</td>\n",
       "      <td>0.0</td>\n",
       "      <td>1.0</td>\n",
       "      <td>0.0</td>\n",
       "      <td>1.0</td>\n",
       "      <td>1.0</td>\n",
       "    </tr>\n",
       "    <tr>\n",
       "      <th>6</th>\n",
       "      <td>0.0</td>\n",
       "      <td>1.0</td>\n",
       "      <td>0.0</td>\n",
       "      <td>0.0</td>\n",
       "      <td>0.0</td>\n",
       "      <td>1.0</td>\n",
       "      <td>0.0</td>\n",
       "      <td>1.0</td>\n",
       "      <td>1.0</td>\n",
       "      <td>1.0</td>\n",
       "      <td>...</td>\n",
       "      <td>0.0</td>\n",
       "      <td>1.0</td>\n",
       "      <td>0.0</td>\n",
       "      <td>1.0</td>\n",
       "      <td>0.0</td>\n",
       "      <td>1.0</td>\n",
       "      <td>1.0</td>\n",
       "      <td>0.0</td>\n",
       "      <td>1.0</td>\n",
       "      <td>1.0</td>\n",
       "    </tr>\n",
       "    <tr>\n",
       "      <th>7</th>\n",
       "      <td>0.0</td>\n",
       "      <td>1.0</td>\n",
       "      <td>0.0</td>\n",
       "      <td>0.0</td>\n",
       "      <td>0.0</td>\n",
       "      <td>1.0</td>\n",
       "      <td>0.0</td>\n",
       "      <td>1.0</td>\n",
       "      <td>1.0</td>\n",
       "      <td>1.0</td>\n",
       "      <td>...</td>\n",
       "      <td>0.0</td>\n",
       "      <td>1.0</td>\n",
       "      <td>0.0</td>\n",
       "      <td>1.0</td>\n",
       "      <td>0.0</td>\n",
       "      <td>0.0</td>\n",
       "      <td>1.0</td>\n",
       "      <td>0.0</td>\n",
       "      <td>1.0</td>\n",
       "      <td>1.0</td>\n",
       "    </tr>\n",
       "    <tr>\n",
       "      <th>8</th>\n",
       "      <td>0.0</td>\n",
       "      <td>1.0</td>\n",
       "      <td>0.0</td>\n",
       "      <td>0.0</td>\n",
       "      <td>0.0</td>\n",
       "      <td>1.0</td>\n",
       "      <td>0.0</td>\n",
       "      <td>1.0</td>\n",
       "      <td>1.0</td>\n",
       "      <td>1.0</td>\n",
       "      <td>...</td>\n",
       "      <td>1.0</td>\n",
       "      <td>1.0</td>\n",
       "      <td>0.0</td>\n",
       "      <td>1.0</td>\n",
       "      <td>0.0</td>\n",
       "      <td>1.0</td>\n",
       "      <td>1.0</td>\n",
       "      <td>1.0</td>\n",
       "      <td>1.0</td>\n",
       "      <td>1.0</td>\n",
       "    </tr>\n",
       "    <tr>\n",
       "      <th>9</th>\n",
       "      <td>0.0</td>\n",
       "      <td>1.0</td>\n",
       "      <td>0.0</td>\n",
       "      <td>0.0</td>\n",
       "      <td>0.0</td>\n",
       "      <td>1.0</td>\n",
       "      <td>0.0</td>\n",
       "      <td>1.0</td>\n",
       "      <td>1.0</td>\n",
       "      <td>1.0</td>\n",
       "      <td>...</td>\n",
       "      <td>0.0</td>\n",
       "      <td>1.0</td>\n",
       "      <td>0.0</td>\n",
       "      <td>1.0</td>\n",
       "      <td>0.0</td>\n",
       "      <td>1.0</td>\n",
       "      <td>1.0</td>\n",
       "      <td>0.0</td>\n",
       "      <td>1.0</td>\n",
       "      <td>1.0</td>\n",
       "    </tr>\n",
       "    <tr>\n",
       "      <th>10</th>\n",
       "      <td>0.0</td>\n",
       "      <td>1.0</td>\n",
       "      <td>0.0</td>\n",
       "      <td>0.0</td>\n",
       "      <td>0.0</td>\n",
       "      <td>1.0</td>\n",
       "      <td>0.0</td>\n",
       "      <td>1.0</td>\n",
       "      <td>1.0</td>\n",
       "      <td>1.0</td>\n",
       "      <td>...</td>\n",
       "      <td>0.0</td>\n",
       "      <td>1.0</td>\n",
       "      <td>0.0</td>\n",
       "      <td>1.0</td>\n",
       "      <td>0.0</td>\n",
       "      <td>0.0</td>\n",
       "      <td>1.0</td>\n",
       "      <td>0.0</td>\n",
       "      <td>1.0</td>\n",
       "      <td>1.0</td>\n",
       "    </tr>\n",
       "    <tr>\n",
       "      <th>11</th>\n",
       "      <td>0.0</td>\n",
       "      <td>1.0</td>\n",
       "      <td>0.0</td>\n",
       "      <td>1.0</td>\n",
       "      <td>0.0</td>\n",
       "      <td>1.0</td>\n",
       "      <td>0.0</td>\n",
       "      <td>1.0</td>\n",
       "      <td>1.0</td>\n",
       "      <td>1.0</td>\n",
       "      <td>...</td>\n",
       "      <td>0.0</td>\n",
       "      <td>1.0</td>\n",
       "      <td>0.0</td>\n",
       "      <td>1.0</td>\n",
       "      <td>0.0</td>\n",
       "      <td>1.0</td>\n",
       "      <td>1.0</td>\n",
       "      <td>0.0</td>\n",
       "      <td>1.0</td>\n",
       "      <td>1.0</td>\n",
       "    </tr>\n",
       "  </tbody>\n",
       "</table>\n",
       "<p>12 rows × 2048 columns</p>\n",
       "</div>"
      ],
      "text/plain": [
       "    0     1     2     3     4     5     6     7     8     9     ...  2038  \\\n",
       "0    1.0   0.0   1.0   0.0   1.0   1.0   1.0   0.0   0.0   1.0  ...   0.0   \n",
       "1    1.0   0.0   1.0   0.0   1.0   1.0   1.0   0.0   0.0   1.0  ...   0.0   \n",
       "2    1.0   0.0   1.0   0.0   1.0   1.0   0.0   0.0   0.0   1.0  ...   0.0   \n",
       "3    1.0   0.0   1.0   0.0   1.0   1.0   0.0   0.0   0.0   1.0  ...   0.0   \n",
       "4    0.0   1.0   0.0   0.0   0.0   1.0   0.0   1.0   1.0   1.0  ...   0.0   \n",
       "5    0.0   1.0   0.0   0.0   0.0   1.0   0.0   1.0   1.0   1.0  ...   0.0   \n",
       "6    0.0   1.0   0.0   0.0   0.0   1.0   0.0   1.0   1.0   1.0  ...   0.0   \n",
       "7    0.0   1.0   0.0   0.0   0.0   1.0   0.0   1.0   1.0   1.0  ...   0.0   \n",
       "8    0.0   1.0   0.0   0.0   0.0   1.0   0.0   1.0   1.0   1.0  ...   1.0   \n",
       "9    0.0   1.0   0.0   0.0   0.0   1.0   0.0   1.0   1.0   1.0  ...   0.0   \n",
       "10   0.0   1.0   0.0   0.0   0.0   1.0   0.0   1.0   1.0   1.0  ...   0.0   \n",
       "11   0.0   1.0   0.0   1.0   0.0   1.0   0.0   1.0   1.0   1.0  ...   0.0   \n",
       "\n",
       "    2039  2040  2041  2042  2043  2044  2045  2046  2047  \n",
       "0    0.0   0.0   1.0   0.0   0.0   0.0   0.0   0.0   1.0  \n",
       "1    0.0   0.0   1.0   0.0   0.0   0.0   0.0   0.0   1.0  \n",
       "2    0.0   0.0   1.0   0.0   1.0   0.0   0.0   0.0   1.0  \n",
       "3    0.0   0.0   1.0   0.0   1.0   0.0   0.0   0.0   1.0  \n",
       "4    1.0   0.0   1.0   0.0   1.0   1.0   0.0   1.0   1.0  \n",
       "5    1.0   0.0   1.0   0.0   0.0   1.0   0.0   1.0   1.0  \n",
       "6    1.0   0.0   1.0   0.0   1.0   1.0   0.0   1.0   1.0  \n",
       "7    1.0   0.0   1.0   0.0   0.0   1.0   0.0   1.0   1.0  \n",
       "8    1.0   0.0   1.0   0.0   1.0   1.0   1.0   1.0   1.0  \n",
       "9    1.0   0.0   1.0   0.0   1.0   1.0   0.0   1.0   1.0  \n",
       "10   1.0   0.0   1.0   0.0   0.0   1.0   0.0   1.0   1.0  \n",
       "11   1.0   0.0   1.0   0.0   1.0   1.0   0.0   1.0   1.0  \n",
       "\n",
       "[12 rows x 2048 columns]"
      ]
     },
     "execution_count": 72,
     "metadata": {},
     "output_type": "execute_result"
    }
   ],
   "source": [
    "x_vs = pd.DataFrame(np.array(x_vs))\n",
    "x_vs"
   ]
  },
  {
   "cell_type": "code",
   "execution_count": 73,
   "metadata": {},
   "outputs": [
    {
     "data": {
      "text/plain": [
       "(12, 2048)"
      ]
     },
     "execution_count": 73,
     "metadata": {},
     "output_type": "execute_result"
    }
   ],
   "source": [
    "x_vs.shape"
   ]
  },
  {
   "cell_type": "markdown",
   "metadata": {},
   "source": [
    "## 10.3 VS prediction"
   ]
  },
  {
   "cell_type": "code",
   "execution_count": 137,
   "metadata": {},
   "outputs": [
    {
     "data": {
      "text/plain": [
       "array([0, 0, 0, 1, 1, 1, 1, 1, 1, 1, 1, 1])"
      ]
     },
     "execution_count": 137,
     "metadata": {},
     "output_type": "execute_result"
    }
   ],
   "source": [
    "y_pred_mlp_vs = mlp.predict(x_vs)\n",
    "y_pred_mlp_vs"
   ]
  },
  {
   "cell_type": "code",
   "execution_count": 138,
   "metadata": {},
   "outputs": [
    {
     "name": "stdout",
     "output_type": "stream",
     "text": [
      "balanced_accuracy =  0.78\n",
      "SE =  0.89\n",
      "SP =  0.67\n",
      "Kappa =  0.56\n"
     ]
    }
   ],
   "source": [
    "confusion_matrix_mlp_vs = metrics.confusion_matrix(y_vs, y_pred_mlp_vs, labels=[0,1])\n",
    "Kappa = metrics.cohen_kappa_score(y_vs, y_pred_mlp_vs, weights='linear')\n",
    "TN, FP, FN, TP = confusion_matrix_mlp_vs.ravel()\n",
    "SE = TP/(TP+FN)\n",
    "SP = TN/(TN+FP)\n",
    "BA = (SE + SP)/2\n",
    "MCC=matthews_corrcoef(y_ts, y_pred_mlp_vs)\n",
    "print(\"balanced_accuracy = \", round((BA), 2))\n",
    "print(\"SE = \", round((SE), 2))\n",
    "print(\"SP = \", round((SP), 2))\n",
    "print(\"Kappa = \", round((Kappa), 2))\n",
    "print(TP)\n",
    "print(TN)\n",
    "print(FP)\n",
    "print(FN)"
   ]
  },
  {
   "cell_type": "markdown",
   "metadata": {},
   "source": [
    "## 10.4 Estimating applicability domain"
   ]
  },
  {
   "cell_type": "code",
   "execution_count": 139,
   "metadata": {},
   "outputs": [],
   "source": [
    "d_TFP = {}\n",
    "for mol in Chem.SDMolSupplier(\"datasets/HDAC6_ws.sdf\"):\n",
    "    tp = Chem.RDKFingerprint(mol)\n",
    "    for m in Chem.SDMolSupplier('datasets/HDAC6_vs_from_patents.sdf'):\n",
    "        if m is not None:\n",
    "            tp_ =  Chem.RDKFingerprint(m)\n",
    "            d_TFP.setdefault(Chem.MolToSmiles(m),[]).append(DataStructs.FingerprintSimilarity(tp, tp_))"
   ]
  },
  {
   "cell_type": "code",
   "execution_count": 140,
   "metadata": {},
   "outputs": [],
   "source": [
    "df_TFP = pd.DataFrame.from_dict(d_TFP)"
   ]
  },
  {
   "cell_type": "code",
   "execution_count": 141,
   "metadata": {},
   "outputs": [
    {
     "data": {
      "text/plain": [
       "COc1cc2ncn(OCCCCCC(=O)NO)c(=O)c2cc1OC                    0.429493\n",
       "COc1cc2ncn(OCCCCCCC(=O)NO)c(=O)c2cc1OC                   0.432657\n",
       "O=C(CCCCCOn1cnc2ccc(Br)cc2c1=O)NO                        0.347953\n",
       "O=C(CCCCCCOn1cnc2ccc(Br)cc2c1=O)NO                       0.348430\n",
       "COc1ccc(C2Nc3ccccc3C(=O)N2CCCCCC(=O)NO)cc1               0.429703\n",
       "COc1cccc(C2Nc3ccccc3C(=O)N2CCCCCC(=O)NO)c1               0.415149\n",
       "COc1cc(C2Nc3ccccc3C(=O)N2CCCCCC(=O)NO)cc(OC)c1OC         0.405788\n",
       "O=C(CCCCCN1C(=O)c2ccccc2NC1c1ccc(Cl)cc1)NO               0.430140\n",
       "COc1ccc(C2Nc3ccccc3C(=O)N2CCCCCC(=O)NO)cc1COc1ccccc1F    0.440127\n",
       "COc1ccc(C2Nc3ccccc3C(=O)N2CCCCCCC(=O)NO)cc1              0.430129\n",
       "O=C(CCCCCCN1C(=O)c2ccccc2NC1c1ccc(Cl)cc1)NO              0.429570\n",
       "COc1ccc(C2Nc3ccc(F)cc3C(=O)N2CCCCCCC(=O)NO)cc1           0.407213\n",
       "dtype: float64"
      ]
     },
     "execution_count": 141,
     "metadata": {},
     "output_type": "execute_result"
    }
   ],
   "source": [
    "df_TFP.max()"
   ]
  },
  {
   "cell_type": "code",
   "execution_count": 142,
   "metadata": {},
   "outputs": [
    {
     "data": {
      "text/plain": [
       "COc1cc2ncn(OCCCCCC(=O)NO)c(=O)c2cc1OC                     True\n",
       "COc1cc2ncn(OCCCCCCC(=O)NO)c(=O)c2cc1OC                    True\n",
       "O=C(CCCCCOn1cnc2ccc(Br)cc2c1=O)NO                        False\n",
       "O=C(CCCCCCOn1cnc2ccc(Br)cc2c1=O)NO                       False\n",
       "COc1ccc(C2Nc3ccccc3C(=O)N2CCCCCC(=O)NO)cc1                True\n",
       "COc1cccc(C2Nc3ccccc3C(=O)N2CCCCCC(=O)NO)c1                True\n",
       "COc1cc(C2Nc3ccccc3C(=O)N2CCCCCC(=O)NO)cc(OC)c1OC          True\n",
       "O=C(CCCCCN1C(=O)c2ccccc2NC1c1ccc(Cl)cc1)NO                True\n",
       "COc1ccc(C2Nc3ccccc3C(=O)N2CCCCCC(=O)NO)cc1COc1ccccc1F     True\n",
       "COc1ccc(C2Nc3ccccc3C(=O)N2CCCCCCC(=O)NO)cc1               True\n",
       "O=C(CCCCCCN1C(=O)c2ccccc2NC1c1ccc(Cl)cc1)NO               True\n",
       "COc1ccc(C2Nc3ccc(F)cc3C(=O)N2CCCCCCC(=O)NO)cc1            True\n",
       "dtype: bool"
      ]
     },
     "execution_count": 142,
     "metadata": {},
     "output_type": "execute_result"
    }
   ],
   "source": [
    "threshold = 0.40\n",
    "da_TFP = np.asarray(df_TFP)\n",
    "da_TFP = np.amax(df_TFP, axis=0) >= threshold\n",
    "da_TFP"
   ]
  },
  {
   "cell_type": "code",
   "execution_count": 143,
   "metadata": {},
   "outputs": [
    {
     "name": "stdout",
     "output_type": "stream",
     "text": [
      "Coverage =  0.8333333333333334\n"
     ]
    }
   ],
   "source": [
    "print(\"Coverage = \", sum(da_TFP) / len(da_TFP))"
   ]
  },
  {
   "cell_type": "code",
   "execution_count": 144,
   "metadata": {},
   "outputs": [
    {
     "name": "stdout",
     "output_type": "stream",
     "text": [
      "[2 3]\n"
     ]
    }
   ],
   "source": [
    "print(np.where(da_TFP == 0)[0])"
   ]
  },
  {
   "cell_type": "markdown",
   "metadata": {},
   "source": [
    "## 10.5  Inside AD-only for  model"
   ]
  },
  {
   "cell_type": "code",
   "execution_count": 254,
   "metadata": {},
   "outputs": [],
   "source": [
    "out_Ad=list(np.where(da_TFP == 0)[0])"
   ]
  },
  {
   "cell_type": "code",
   "execution_count": 255,
   "metadata": {},
   "outputs": [
    {
     "data": {
      "text/plain": [
       "[2, 3]"
      ]
     },
     "execution_count": 255,
     "metadata": {},
     "output_type": "execute_result"
    }
   ],
   "source": [
    "out_Ad"
   ]
  },
  {
   "cell_type": "code",
   "execution_count": 256,
   "metadata": {},
   "outputs": [],
   "source": [
    "y_pred_mlp_ad=list(y_pred_mlp_vs)"
   ]
  },
  {
   "cell_type": "code",
   "execution_count": 257,
   "metadata": {},
   "outputs": [
    {
     "data": {
      "text/plain": [
       "10"
      ]
     },
     "execution_count": 257,
     "metadata": {},
     "output_type": "execute_result"
    }
   ],
   "source": [
    "y_pred_mlp_ad[:] = [x for i,x in enumerate(y_pred_mlp_ad) if i not in out_Ad]\n",
    "len(y_pred_mlp_ad)"
   ]
  },
  {
   "cell_type": "code",
   "execution_count": 258,
   "metadata": {},
   "outputs": [
    {
     "data": {
      "text/plain": [
       "12"
      ]
     },
     "execution_count": 258,
     "metadata": {},
     "output_type": "execute_result"
    }
   ],
   "source": [
    "y_vs_ad=list(y_vs)\n",
    "len(y_vs)"
   ]
  },
  {
   "cell_type": "code",
   "execution_count": 259,
   "metadata": {},
   "outputs": [
    {
     "data": {
      "text/plain": [
       "10"
      ]
     },
     "execution_count": 259,
     "metadata": {},
     "output_type": "execute_result"
    }
   ],
   "source": [
    "y_vs_ad[:] = [x for i,x in enumerate(y_vs) if i not in out_Ad]\n",
    "len(y_vs_ad)"
   ]
  },
  {
   "cell_type": "code",
   "execution_count": 260,
   "metadata": {},
   "outputs": [],
   "source": [
    "confusion_matrix_ts = metrics.confusion_matrix(y_vs_ad, y_pred_mlp_ad, labels=[0,1])"
   ]
  },
  {
   "cell_type": "code",
   "execution_count": 261,
   "metadata": {},
   "outputs": [
    {
     "name": "stdout",
     "output_type": "stream",
     "text": [
      "balanced_accuracy =  0.83\n",
      "SE =  1.0\n",
      "SP =  0.67\n",
      "Kappa =  0.74\n",
      "7\n",
      "2\n",
      "1\n",
      "0\n"
     ]
    }
   ],
   "source": [
    "Kappa = metrics.cohen_kappa_score(y_vs_ad, y_pred_mlp_ad, weights='linear')\n",
    "TN, FP, FN, TP = confusion_matrix_ts.ravel()\n",
    "SE = TP/(TP+FN)\n",
    "SP = TN/(TN+FP)\n",
    "BA = (SE + SP)/2\n",
    "MCC=matthews_corrcoef(y_vs_ad, y_pred_mlp_ad)\n",
    "print(\"balanced_accuracy = \", round((BA), 2))\n",
    "print(\"SE = \", round((SE), 2))\n",
    "print(\"SP = \", round((SP), 2))\n",
    "print(\"Kappa = \", round((Kappa), 2))\n",
    "print(TP)\n",
    "print(TN)\n",
    "print(FP)\n",
    "print(FN)"
   ]
  }
 ],
 "metadata": {
  "kernelspec": {
   "display_name": "Python3 (rdkit)",
   "language": "python",
   "name": "my-rdkit-env"
  },
  "language_info": {
   "codemirror_mode": {
    "name": "ipython",
    "version": 3
   },
   "file_extension": ".py",
   "mimetype": "text/x-python",
   "name": "python",
   "nbconvert_exporter": "python",
   "pygments_lexer": "ipython3",
   "version": "3.7.12"
  },
  "toc": {
   "base_numbering": 1,
   "nav_menu": {},
   "number_sections": true,
   "sideBar": true,
   "skip_h1_title": false,
   "title_cell": "Table of Contents",
   "title_sidebar": "Contents",
   "toc_cell": false,
   "toc_position": {},
   "toc_section_display": true,
   "toc_window_display": true
  }
 },
 "nbformat": 4,
 "nbformat_minor": 2
}
