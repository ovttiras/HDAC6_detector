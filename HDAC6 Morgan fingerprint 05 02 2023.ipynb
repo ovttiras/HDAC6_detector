{
 "cells": [
  {
   "cell_type": "markdown",
   "metadata": {},
   "source": [
    "# 1. Importing modules and functions"
   ]
  },
  {
   "cell_type": "code",
   "execution_count": 1,
   "metadata": {},
   "outputs": [],
   "source": [
    "from rdkit import Chem, DataStructs\n",
    "from rdkit.Chem import AllChem, Descriptors\n",
    "from rdkit.ML.Descriptors import MoleculeDescriptors\n",
    "import chembl_structure_pipeline\n",
    "from rdkit.Chem.AllChem import GetMorganFingerprintAsBitVect\n",
    "import numpy as np\n",
    "import pandas as pd\n",
    "from rdkit.Chem import PandasTools\n",
    "from sklearn.ensemble import GradientBoostingClassifier\n",
    "from sklearn.model_selection import train_test_split, StratifiedKFold, GridSearchCV\n",
    "from sklearn.model_selection import permutation_test_score\n",
    "from sklearn.model_selection import cross_val_predict\n",
    "from sklearn import metrics\n",
    "from sklearn.metrics import cohen_kappa_score\n",
    "from sklearn.metrics import balanced_accuracy_score\n",
    "import joblib\n",
    "import pickle\n",
    "from IPython.display import HTML\n",
    "import matplotlib.pyplot as plt"
   ]
  },
  {
   "cell_type": "markdown",
   "metadata": {},
   "source": [
    "# 2.Data entry and curation work set"
   ]
  },
  {
   "cell_type": "code",
   "execution_count": 2,
   "metadata": {},
   "outputs": [
    {
     "name": "stdout",
     "output_type": "stream",
     "text": [
      "Original data:  105 molecules\n",
      "Failed data:  0 molecules\n"
     ]
    },
    {
     "data": {
      "text/html": [
       "<div>\n",
       "<style scoped>\n",
       "    .dataframe tbody tr th:only-of-type {\n",
       "        vertical-align: middle;\n",
       "    }\n",
       "\n",
       "    .dataframe tbody tr th {\n",
       "        vertical-align: top;\n",
       "    }\n",
       "\n",
       "    .dataframe thead th {\n",
       "        text-align: right;\n",
       "    }\n",
       "</style>\n",
       "<table border=\"1\" class=\"dataframe\">\n",
       "  <thead>\n",
       "    <tr style=\"text-align: right;\">\n",
       "      <th></th>\n",
       "      <th>No. failed molecule in original set</th>\n",
       "      <th>SMILES of wrong structure:</th>\n",
       "    </tr>\n",
       "    <tr>\n",
       "      <th>No.</th>\n",
       "      <th></th>\n",
       "      <th></th>\n",
       "    </tr>\n",
       "  </thead>\n",
       "  <tbody>\n",
       "  </tbody>\n",
       "</table>\n",
       "</div>"
      ],
      "text/plain": [
       "Empty DataFrame\n",
       "Columns: [No. failed molecule in original set, SMILES of wrong structure: ]\n",
       "Index: []"
      ]
     },
     "execution_count": 2,
     "metadata": {},
     "output_type": "execute_result"
    }
   ],
   "source": [
    "uploaded_file_ws=\"datasets/HDAC6_ws.sdf\"\n",
    "supplier_ws = Chem.ForwardSDMolSupplier(uploaded_file_ws,sanitize=False)\n",
    "failed_mols_ws = []\n",
    "all_mols_ws =[]\n",
    "wrong_structure_ws=[]\n",
    "wrong_smiles_ws=[]\n",
    "y_tr = []\n",
    "y_bad_index=[]\n",
    "\n",
    "for i, m in enumerate(supplier_ws):\n",
    "    structure = Chem.Mol(m)\n",
    "    all_mols_ws.append(structure)\n",
    "    y_tr.append(m.GetIntProp(\"Active\"))\n",
    "    try:\n",
    "        Chem.SanitizeMol(structure)\n",
    "    except:\n",
    "        failed_mols_ws.append(m)\n",
    "        wrong_smiles_ws.append(Chem.MolToSmiles(m))\n",
    "        wrong_structure_ws.append(str(i+1))\n",
    "        y_bad_index.append(i)\n",
    "print('Original data: ', len(all_mols_ws), 'molecules')\n",
    "print('Failed data: ', len(failed_mols_ws), 'molecules')\n",
    "number_ws =[]\n",
    "for i in range(len(failed_mols_ws)):\n",
    "        number_ws.append(str(i+1))\n",
    "bad_molecules_ws = pd.DataFrame({'No. failed molecule in original set': wrong_structure_ws, 'SMILES of wrong structure: ': wrong_smiles_ws, 'No.': number_ws}, index=None)\n",
    "bad_molecules_ws = bad_molecules_ws.set_index('No.')\n",
    "bad_molecules_ws"
   ]
  },
  {
   "cell_type": "markdown",
   "metadata": {},
   "source": [
    "deleting activity values for substances with incorrect structure"
   ]
  },
  {
   "cell_type": "code",
   "execution_count": 3,
   "metadata": {},
   "outputs": [],
   "source": [
    "y_tr[:] = [x for i,x in enumerate(y_tr) if i not in y_bad_index]"
   ]
  },
  {
   "cell_type": "code",
   "execution_count": 4,
   "metadata": {},
   "outputs": [
    {
     "data": {
      "text/plain": [
       "105"
      ]
     },
     "execution_count": 4,
     "metadata": {},
     "output_type": "execute_result"
    }
   ],
   "source": [
    "len(y_tr)"
   ]
  },
  {
   "cell_type": "markdown",
   "metadata": {},
   "source": [
    "# 3.Standardization SDF file for work set"
   ]
  },
  {
   "cell_type": "code",
   "execution_count": 5,
   "metadata": {},
   "outputs": [
    {
     "name": "stdout",
     "output_type": "stream",
     "text": [
      "Kept data:  105 molecules\n"
     ]
    }
   ],
   "source": [
    "records_ws = []\n",
    "for i in range(len(all_mols_ws)):\n",
    "    record = Chem.MolToMolBlock(all_mols_ws[i])\n",
    "    records_ws.append(record)\n",
    "            \n",
    "mols_ws = []\n",
    "for i,record in enumerate(records_ws):\n",
    "    standard_record = chembl_structure_pipeline.standardize_molblock(record)\n",
    "    m = Chem.MolFromMolBlock(standard_record)\n",
    "    mols_ws.append(m)\n",
    "           \n",
    "moldf_ws = []\n",
    "for val in mols_ws:\n",
    "    if val != None:\n",
    "        moldf_ws.append(val)\n",
    "print('Kept data: ', len(moldf_ws), 'molecules')"
   ]
  },
  {
   "cell_type": "markdown",
   "metadata": {},
   "source": [
    "# 4.Data entry and curation test set"
   ]
  },
  {
   "cell_type": "code",
   "execution_count": 6,
   "metadata": {},
   "outputs": [
    {
     "name": "stdout",
     "output_type": "stream",
     "text": [
      "Original data:  26 molecules\n",
      "Failed data:  0 molecules\n"
     ]
    },
    {
     "data": {
      "text/html": [
       "<div>\n",
       "<style scoped>\n",
       "    .dataframe tbody tr th:only-of-type {\n",
       "        vertical-align: middle;\n",
       "    }\n",
       "\n",
       "    .dataframe tbody tr th {\n",
       "        vertical-align: top;\n",
       "    }\n",
       "\n",
       "    .dataframe thead th {\n",
       "        text-align: right;\n",
       "    }\n",
       "</style>\n",
       "<table border=\"1\" class=\"dataframe\">\n",
       "  <thead>\n",
       "    <tr style=\"text-align: right;\">\n",
       "      <th></th>\n",
       "      <th>No. failed molecule in original set</th>\n",
       "      <th>SMILES of wrong structure:</th>\n",
       "    </tr>\n",
       "    <tr>\n",
       "      <th>No.</th>\n",
       "      <th></th>\n",
       "      <th></th>\n",
       "    </tr>\n",
       "  </thead>\n",
       "  <tbody>\n",
       "  </tbody>\n",
       "</table>\n",
       "</div>"
      ],
      "text/plain": [
       "Empty DataFrame\n",
       "Columns: [No. failed molecule in original set, SMILES of wrong structure: ]\n",
       "Index: []"
      ]
     },
     "execution_count": 6,
     "metadata": {},
     "output_type": "execute_result"
    }
   ],
   "source": [
    "uploaded_file_ts=\"datasets/HDAC6_ts.sdf\"\n",
    "supplier_ts = Chem.ForwardSDMolSupplier(uploaded_file_ts,sanitize=False)\n",
    "failed_mols_ts = []\n",
    "all_mols_ts =[]\n",
    "wrong_structure_ts=[]\n",
    "wrong_smiles_ts=[]\n",
    "y_ts = []\n",
    "y_bad_index=[]\n",
    "for i, m in enumerate(supplier_ts):\n",
    "    structure = Chem.Mol(m)\n",
    "    all_mols_ts.append(structure)\n",
    "    y_ts.append(m.GetIntProp(\"Active\"))\n",
    "    try:\n",
    "        Chem.SanitizeMol(structure)\n",
    "    except:\n",
    "        failed_mols_ts.append(m)\n",
    "        wrong_smiles_ts.append(Chem.MolToSmiles(m))\n",
    "        wrong_structure_ts.append(str(i+1))\n",
    "        y_bad_index.append(i)\n",
    "print('Original data: ', len(all_mols_ts), 'molecules')\n",
    "print('Failed data: ', len(failed_mols_ts), 'molecules')\n",
    "number_ts =[]\n",
    "for i in range(len(failed_mols_ts)):\n",
    "        number_ts.append(str(i+1))\n",
    "bad_molecules_ts = pd.DataFrame({'No. failed molecule in original set': wrong_structure_ts, 'SMILES of wrong structure: ': wrong_smiles_ts, 'No.': number_ts}, index=None)\n",
    "bad_molecules_ts = bad_molecules_ts.set_index('No.')\n",
    "bad_molecules_ts"
   ]
  },
  {
   "cell_type": "markdown",
   "metadata": {},
   "source": [
    "deleting activity values for substances with incorrect structure"
   ]
  },
  {
   "cell_type": "code",
   "execution_count": 7,
   "metadata": {},
   "outputs": [],
   "source": [
    "y_ts[:] = [x for i,x in enumerate(y_ts) if i not in y_bad_index]"
   ]
  },
  {
   "cell_type": "code",
   "execution_count": 8,
   "metadata": {},
   "outputs": [
    {
     "data": {
      "text/plain": [
       "26"
      ]
     },
     "execution_count": 8,
     "metadata": {},
     "output_type": "execute_result"
    }
   ],
   "source": [
    "len(y_ts)"
   ]
  },
  {
   "cell_type": "markdown",
   "metadata": {},
   "source": [
    "# 5.Standardization SDF file for test set"
   ]
  },
  {
   "cell_type": "code",
   "execution_count": 15,
   "metadata": {},
   "outputs": [
    {
     "name": "stdout",
     "output_type": "stream",
     "text": [
      "Kept data:  26 molecules\n"
     ]
    }
   ],
   "source": [
    "records_ts = []\n",
    "for i in range(len(all_mols_ts)):\n",
    "    record = Chem.MolToMolBlock(all_mols_ts[i])\n",
    "    records_ts.append(record)\n",
    "            \n",
    "mols_ts = []\n",
    "for i,record in enumerate(records_ts):\n",
    "    standard_record = chembl_structure_pipeline.standardize_molblock(record)\n",
    "    m = Chem.MolFromMolBlock(standard_record)\n",
    "    mols_ts.append(m)\n",
    "           \n",
    "moldf_ts = []\n",
    "for val in mols_ts:\n",
    "    if val != None:\n",
    "        moldf_ts.append(val)\n",
    "print('Kept data: ', len(moldf_ts), 'molecules')"
   ]
  },
  {
   "cell_type": "markdown",
   "metadata": {},
   "source": [
    "# 6.Descriptor calculation for work set"
   ]
  },
  {
   "cell_type": "code",
   "execution_count": 9,
   "metadata": {},
   "outputs": [],
   "source": [
    "fp_tr = [AllChem.GetMorganFingerprintAsBitVect(m, radius=2,nBits=1024,useFeatures=False,useChirality = False) for m in moldf_ws]"
   ]
  },
  {
   "cell_type": "code",
   "execution_count": 10,
   "metadata": {},
   "outputs": [],
   "source": [
    "def rdkit_numpy_convert(fp_tr):\n",
    "    output = []\n",
    "    for f in fp_tr:\n",
    "        arr = np.zeros((1,))\n",
    "        DataStructs.ConvertToNumpyArray(f, arr)\n",
    "        output.append(arr)\n",
    "    return np.asarray(output)"
   ]
  },
  {
   "cell_type": "code",
   "execution_count": 11,
   "metadata": {},
   "outputs": [],
   "source": [
    "from numpy import savetxt\n",
    "x_tr = rdkit_numpy_convert(fp_tr)"
   ]
  },
  {
   "cell_type": "code",
   "execution_count": 12,
   "metadata": {},
   "outputs": [],
   "source": [
    "savetxt('Models/Morgan_fingerprint/x_tr.csv', x_tr, delimiter=',')"
   ]
  },
  {
   "cell_type": "code",
   "execution_count": 13,
   "metadata": {},
   "outputs": [
    {
     "data": {
      "text/plain": [
       "(105, 1024)"
      ]
     },
     "execution_count": 13,
     "metadata": {},
     "output_type": "execute_result"
    }
   ],
   "source": [
    "x_tr.shape"
   ]
  },
  {
   "cell_type": "markdown",
   "metadata": {},
   "source": [
    "# 7.Descriptor calculation for test set"
   ]
  },
  {
   "cell_type": "code",
   "execution_count": 16,
   "metadata": {},
   "outputs": [],
   "source": [
    "fp_ts = [AllChem.GetMorganFingerprintAsBitVect(m, radius=2,nBits=1024,useFeatures=False,useChirality = False) for m in moldf_ts]"
   ]
  },
  {
   "cell_type": "code",
   "execution_count": 17,
   "metadata": {},
   "outputs": [],
   "source": [
    "def rdkit_numpy_convert(fp_ts):\n",
    "    output = []\n",
    "    for f in fp_ts:\n",
    "        arr = np.zeros((1,))\n",
    "        DataStructs.ConvertToNumpyArray(f, arr)\n",
    "        output.append(arr)\n",
    "    return np.asarray(output)"
   ]
  },
  {
   "cell_type": "code",
   "execution_count": 18,
   "metadata": {},
   "outputs": [],
   "source": [
    "x_ts = rdkit_numpy_convert(fp_ts)"
   ]
  },
  {
   "cell_type": "code",
   "execution_count": 19,
   "metadata": {},
   "outputs": [
    {
     "data": {
      "text/plain": [
       "(26, 1024)"
      ]
     },
     "execution_count": 19,
     "metadata": {},
     "output_type": "execute_result"
    }
   ],
   "source": [
    "x_ts.shape"
   ]
  },
  {
   "cell_type": "markdown",
   "metadata": {},
   "source": [
    "# 8.GBM model building and validation "
   ]
  },
  {
   "cell_type": "markdown",
   "metadata": {},
   "source": [
    "## 8.1. GBM model building "
   ]
  },
  {
   "cell_type": "code",
   "execution_count": 626,
   "metadata": {},
   "outputs": [],
   "source": [
    "seed = 42"
   ]
  },
  {
   "cell_type": "code",
   "execution_count": 753,
   "metadata": {},
   "outputs": [],
   "source": [
    "cv = StratifiedKFold(n_splits=5, shuffle=True, random_state=seed)"
   ]
  },
  {
   "cell_type": "code",
   "execution_count": 763,
   "metadata": {},
   "outputs": [],
   "source": [
    "param_grid = {\"n_estimators\": [100, 200, 300, 400, 500]}\n",
    "gbm = GridSearchCV(GradientBoostingClassifier(subsample=0.5, max_features=0.5), \n",
    "                   param_grid, n_jobs=2, cv=cv, verbose=1)"
   ]
  },
  {
   "cell_type": "code",
   "execution_count": 764,
   "metadata": {},
   "outputs": [
    {
     "name": "stdout",
     "output_type": "stream",
     "text": [
      "Fitting 5 folds for each of 5 candidates, totalling 25 fits\n"
     ]
    },
    {
     "data": {
      "text/plain": [
       "GridSearchCV(cv=StratifiedKFold(n_splits=5, random_state=42, shuffle=True),\n",
       "             estimator=GradientBoostingClassifier(max_features=0.5,\n",
       "                                                  subsample=0.5),\n",
       "             n_jobs=2, param_grid={'n_estimators': [100, 200, 300, 400, 500]},\n",
       "             verbose=1)"
      ]
     },
     "execution_count": 764,
     "metadata": {},
     "output_type": "execute_result"
    }
   ],
   "source": [
    "gbm.fit(x_tr, y_tr)"
   ]
  },
  {
   "cell_type": "code",
   "execution_count": 765,
   "metadata": {},
   "outputs": [
    {
     "data": {
      "text/plain": [
       "{'n_estimators': 400}"
      ]
     },
     "execution_count": 765,
     "metadata": {},
     "output_type": "execute_result"
    }
   ],
   "source": [
    "gbm.best_params_"
   ]
  },
  {
   "cell_type": "code",
   "execution_count": 766,
   "metadata": {},
   "outputs": [],
   "source": [
    "best_clf_GBM = gbm.best_estimator_"
   ]
  },
  {
   "cell_type": "markdown",
   "metadata": {},
   "source": [
    "## 8.2.  5-fold-cross-validation   GBM model"
   ]
  },
  {
   "cell_type": "code",
   "execution_count": 787,
   "metadata": {},
   "outputs": [],
   "source": [
    "y_pred_CV_GBM = cross_val_predict(best_clf_GBM, x_tr, y_tr, cv=cv)"
   ]
  },
  {
   "cell_type": "code",
   "execution_count": 788,
   "metadata": {},
   "outputs": [
    {
     "name": "stdout",
     "output_type": "stream",
     "text": [
      "balanced_accuracy =  0.76\n",
      "SE =  0.63\n",
      "SP =  0.88\n",
      "Kappa =  0.53\n"
     ]
    }
   ],
   "source": [
    "confusion_matrix_CV_GBM = metrics.confusion_matrix(y_tr, y_pred_CV_GBM, labels=[0,1])\n",
    "Kappa = metrics.cohen_kappa_score(y_tr, y_pred_CV_GBM, weights='linear')\n",
    "TN, FP, FN, TP = confusion_matrix_CV_GBM.ravel()\n",
    "SE = TP/(TP+FN)\n",
    "SP = TN/(TN+FP)\n",
    "BA = (SE + SP)/2\n",
    "print(\"balanced_accuracy = \", round((BA), 2))\n",
    "print(\"SE = \", round((SE), 2))\n",
    "print(\"SP = \", round((SP), 2))\n",
    "print(\"Kappa = \", round((Kappa), 2))"
   ]
  },
  {
   "cell_type": "code",
   "execution_count": 789,
   "metadata": {},
   "outputs": [],
   "source": [
    "pickle.dump(best_clf_GBM, open('Models/Morgan_fingerprint/HDAC6_GBM.pkl', 'wb'))"
   ]
  },
  {
   "cell_type": "markdown",
   "metadata": {},
   "source": [
    "## 8.3.Y-randomization for  GBM model"
   ]
  },
  {
   "cell_type": "code",
   "execution_count": 793,
   "metadata": {},
   "outputs": [
    {
     "name": "stderr",
     "output_type": "stream",
     "text": [
      "[Parallel(n_jobs=-1)]: Using backend LokyBackend with 4 concurrent workers.\n",
      "[Parallel(n_jobs=-1)]: Done  42 tasks      | elapsed:   18.3s\n",
      "[Parallel(n_jobs=-1)]: Done 192 tasks      | elapsed:  1.3min\n",
      "[Parallel(n_jobs=-1)]: Done 442 tasks      | elapsed:  2.9min\n"
     ]
    },
    {
     "name": "stdout",
     "output_type": "stream",
     "text": [
      "True score =  0.75 \n",
      "Y-randomization =  0.5 \n",
      "p-value =  0.002\n"
     ]
    },
    {
     "name": "stderr",
     "output_type": "stream",
     "text": [
      "[Parallel(n_jobs=-1)]: Done 500 out of 500 | elapsed:  3.3min finished\n"
     ]
    }
   ],
   "source": [
    "permutations = 500\n",
    "score, permutation_scores, pvalue = permutation_test_score(best_clf_GBM, x_tr, y_tr,\n",
    "                                                           cv=cv, scoring='balanced_accuracy',\n",
    "                                                           n_permutations=permutations,\n",
    "                                                           n_jobs=-1,\n",
    "                                                           verbose=1,\n",
    "                                                           random_state=24)\n",
    "print('True score = ', score.round(2),\n",
    "      '\\nY-randomization = ', np.mean(permutation_scores).round(2),\n",
    "      '\\np-value = ', pvalue.round(4))"
   ]
  },
  {
   "cell_type": "code",
   "execution_count": 794,
   "metadata": {},
   "outputs": [
    {
     "data": {
      "text/plain": [
       "0.68"
      ]
     },
     "execution_count": 794,
     "metadata": {},
     "output_type": "execute_result"
    }
   ],
   "source": [
    "max_Y_randomization = round(np.amax(permutation_scores, axis=0), 2) \n",
    "max_Y_randomization"
   ]
  },
  {
   "cell_type": "code",
   "execution_count": 795,
   "metadata": {},
   "outputs": [
    {
     "data": {
      "text/plain": [
       "0.055"
      ]
     },
     "execution_count": 795,
     "metadata": {},
     "output_type": "execute_result"
    }
   ],
   "source": [
    "standard_deviation = round(np.std(permutation_scores, axis=0), 3)\n",
    "standard_deviation"
   ]
  },
  {
   "cell_type": "code",
   "execution_count": 796,
   "metadata": {},
   "outputs": [
    {
     "data": {
      "text/plain": [
       "0.34"
      ]
     },
     "execution_count": 796,
     "metadata": {},
     "output_type": "execute_result"
    }
   ],
   "source": [
    "min_Y_randomization = round(np.min(permutation_scores, axis=0), 2) \n",
    "min_Y_randomization"
   ]
  },
  {
   "cell_type": "code",
   "execution_count": 65,
   "metadata": {},
   "outputs": [
    {
     "name": "stdout",
     "output_type": "stream",
     "text": [
      "Coverage =  0.0\n"
     ]
    }
   ],
   "source": [
    "a = np.greater_equal(permutation_scores, score)\n",
    "print(\"Coverage = \", sum(a) / len(a))"
   ]
  },
  {
   "cell_type": "markdown",
   "metadata": {},
   "source": [
    "## 8.4. Model GBM: predict for molecules of test set "
   ]
  },
  {
   "cell_type": "code",
   "execution_count": 790,
   "metadata": {},
   "outputs": [],
   "source": [
    "y_pred_gbm = best_clf_GBM.predict(x_ts)"
   ]
  },
  {
   "cell_type": "code",
   "execution_count": 791,
   "metadata": {},
   "outputs": [
    {
     "data": {
      "text/plain": [
       "array([1, 1, 1, 1, 1, 1, 1, 1, 1, 0, 1, 0, 0, 0, 0, 0, 0, 0, 1, 0, 0, 0,\n",
       "       0, 0, 0, 0])"
      ]
     },
     "execution_count": 791,
     "metadata": {},
     "output_type": "execute_result"
    }
   ],
   "source": [
    "y_pred_gbm"
   ]
  },
  {
   "cell_type": "code",
   "execution_count": 792,
   "metadata": {
    "scrolled": true
   },
   "outputs": [
    {
     "name": "stdout",
     "output_type": "stream",
     "text": [
      "balanced_accuracy =  0.94\n",
      "SE =  1.0\n",
      "SP =  0.88\n",
      "Kappa =  0.84\n"
     ]
    }
   ],
   "source": [
    "confusion_matrix_GBM = metrics.confusion_matrix(y_ts, y_pred_gbm, labels=[0,1])\n",
    "Kappa = metrics.cohen_kappa_score(y_ts, y_pred_gbm, weights='linear')\n",
    "TN, FP, FN, TP = confusion_matrix_GBM.ravel()\n",
    "SE = TP/(TP+FN)\n",
    "SP = TN/(TN+FP)\n",
    "BA = (SE + SP)/2\n",
    "print(\"balanced_accuracy = \", round((BA), 2))\n",
    "print(\"SE = \", round((SE), 2))\n",
    "print(\"SP = \", round((SP), 2))\n",
    "print(\"Kappa = \", round((Kappa), 2))"
   ]
  },
  {
   "cell_type": "markdown",
   "metadata": {},
   "source": [
    "# 9. Estimating applicability domain."
   ]
  },
  {
   "cell_type": "code",
   "execution_count": 225,
   "metadata": {},
   "outputs": [],
   "source": [
    "d_ECFP4 = {}\n",
    "for mol in Chem.SDMolSupplier(\"datasets/HDAC6_ws.sdf\"):\n",
    "    mg = AllChem.GetMorganFingerprintAsBitVect(mol, 2, useFeatures=True)\n",
    "    for m in Chem.SDMolSupplier('datasets/HDAC6_ts.sdf'):\n",
    "        if m is not None:\n",
    "            mg_ = AllChem.GetMorganFingerprintAsBitVect(m, 2, useFeatures=True)\n",
    "            d_ECFP4.setdefault(Chem.MolToSmiles(m),[]).append(DataStructs.FingerprintSimilarity(mg, mg_))"
   ]
  },
  {
   "cell_type": "code",
   "execution_count": 226,
   "metadata": {},
   "outputs": [],
   "source": [
    "df_ECFP4 = pd.DataFrame.from_dict(d_ECFP4)"
   ]
  },
  {
   "cell_type": "code",
   "execution_count": 227,
   "metadata": {},
   "outputs": [
    {
     "data": {
      "text/plain": [
       "O=C(CCCCCCC(=O)Nc1cccc(-c2cn(-c3ccc(I)cc3)nn2)c1)NO              1.000000\n",
       "O=C(CCCCCCn1cc(-c2ccc(Nc3c4ccccc4nc4ccccc34)cc2)nn1)NO           1.000000\n",
       "O=C(CCCCCCC(=O)Nc1cccc(-c2cn(C3CCCCC3)nn2)c1)NO                  0.702128\n",
       "Cc1[nH]c2ccccc2c1CCNCc1ccc(C=CC(=O)NO)cc1                        0.482759\n",
       "O=C(CCCCCCC(=O)Nc1ccc(-c2ccccc2)cc1)NO                           0.880000\n",
       "Nc1ccc(-c2cc(C(=O)NCCCCCCC(=O)NO)no2)cc1                         1.000000\n",
       "O=C(CCCCCCC(=O)Nc1cccc(-c2cn(Cc3ccc(O)cc3)nn2)c1)NO              0.622642\n",
       "COc1cc2ccn(CCCCOc3cccc(NC(=O)CCCCCCC(=O)NO)c3)c2c(OC)c1OC        0.788462\n",
       "COc1cc2ccn(CCOc3cccc(NC(=O)CCCCCCC(=O)NO)c3)c2c(OC)c1OC          0.857143\n",
       "COc1ccc(Cl)cc1C(=O)NCCc1ccc(C=CC(=O)NO)cc1                       0.952381\n",
       "CN(c1ccc(OCC(=O)NO)cc1)c1ncnc2ccccc12                            0.833333\n",
       "COc1ccc(N(C)c2nc(C)nc3ccccc23)cc1OCCCC(=O)NO                     0.977273\n",
       "CN(c1ccc(OCCCCCC(=O)NO)cc1)c1ncnc2ccccc12                        1.000000\n",
       "COc1ccc2nc3cc(Cl)ccc3c(Nc3ccc(-c4cn(CCCCCC(=O)NO)nn4)cc3)c2c1    0.967213\n",
       "CCN(CC)CCNC(=O)c1ccc(-c2cn(CCCCCCC(=O)NO)nn2)cn1                 0.763636\n",
       "O=C(NO)c1ccc(C(=O)Nc2[nH]nc3cc(-c4ccccc4)ccc23)cc1               0.875000\n",
       "COc1ccc(-c2ccc3c(NC(=O)c4ccc(C(=O)NO)cc4)[nH]nc3c2)cc1           0.951220\n",
       "O=C(C=Cc1ccc(CNCc2ccc3ccccc3n2)cc1)NO                            0.822222\n",
       "O=C(C=Cc1ccc2c(ccn2S(=O)(=O)c2ccc(F)cc2)c1)NO                    0.850000\n",
       "O=C(CCCCc1cc(C(=O)NO)no1)Nc1nc(-c2ccccc2)cs1                     0.708333\n",
       "Nc1cccc(-c2csc(NC(=O)CCCCc3cc(C(=O)NO)no3)n2)c1                  0.686275\n",
       "COc1ccc(N(C)c2nc(C)nc3ccccc23)cc1OCCCCC(=O)NO                    1.000000\n",
       "CCN(CC)CCNC(=O)c1ccc(-c2cn(CCCCCC(=O)NO)nn2)cn1                  0.763636\n",
       "Cc1cc(C)cc(-c2ccc3c(NC(=O)c4ccc(C(=O)NO)cc4)[nH]nc3c2)c1         0.790698\n",
       "O=C(NO)c1ccc(C(=O)Nc2[nH]nc3cc(-c4c(Cl)cccc4Cl)ccc23)cc1         0.951220\n",
       "O=C(CCCCc1cc(C(=O)NO)no1)NC1CCCCC1                               1.000000\n",
       "dtype: float64"
      ]
     },
     "execution_count": 227,
     "metadata": {},
     "output_type": "execute_result"
    }
   ],
   "source": [
    "df_ECFP4.max()"
   ]
  },
  {
   "cell_type": "code",
   "execution_count": 797,
   "metadata": {},
   "outputs": [
    {
     "data": {
      "text/plain": [
       "COc1cc2ncn(OCCCCCC(=O)NO)c(=O)c2cc1OC                    True\n",
       "COc1cc2ncn(OCCCCCCC(=O)NO)c(=O)c2cc1OC                   True\n",
       "O=C(CCCCCOn1cnc2ccc(Br)cc2c1=O)NO                        True\n",
       "O=C(CCCCCCOn1cnc2ccc(Br)cc2c1=O)NO                       True\n",
       "COc1ccc(C2Nc3ccccc3C(=O)N2CCCCCC(=O)NO)cc1               True\n",
       "COc1cccc(C2Nc3ccccc3C(=O)N2CCCCCC(=O)NO)c1               True\n",
       "COc1cc(C2Nc3ccccc3C(=O)N2CCCCCC(=O)NO)cc(OC)c1OC         True\n",
       "O=C(CCCCCN1C(=O)c2ccccc2NC1c1ccc(Cl)cc1)NO               True\n",
       "COc1ccc(C2Nc3ccccc3C(=O)N2CCCCCC(=O)NO)cc1COc1ccccc1F    True\n",
       "COc1ccc(C2Nc3ccccc3C(=O)N2CCCCCCC(=O)NO)cc1              True\n",
       "O=C(CCCCCCN1C(=O)c2ccccc2NC1c1ccc(Cl)cc1)NO              True\n",
       "COc1ccc(C2Nc3ccc(F)cc3C(=O)N2CCCCCCC(=O)NO)cc1           True\n",
       "dtype: bool"
      ]
     },
     "execution_count": 797,
     "metadata": {},
     "output_type": "execute_result"
    }
   ],
   "source": [
    "threshold = 0.4\n",
    "da_ECFP4 = np.asarray(df_ECFP4)\n",
    "da_ECFP4 = np.amax(df_ECFP4, axis=0) >= threshold\n",
    "da_ECFP4"
   ]
  },
  {
   "cell_type": "code",
   "execution_count": 798,
   "metadata": {},
   "outputs": [
    {
     "name": "stdout",
     "output_type": "stream",
     "text": [
      "Coverage =  1.0\n"
     ]
    }
   ],
   "source": [
    "print(\"Coverage = \", sum(da_ECFP4) / len(da_ECFP4))"
   ]
  },
  {
   "cell_type": "code",
   "execution_count": 799,
   "metadata": {},
   "outputs": [
    {
     "name": "stdout",
     "output_type": "stream",
     "text": [
      "[]\n"
     ]
    }
   ],
   "source": [
    "print(np.where(da_ECFP4 == 0)[0])"
   ]
  },
  {
   "cell_type": "markdown",
   "metadata": {},
   "source": [
    "# 10. Inside AD-only for GBM model"
   ]
  },
  {
   "cell_type": "code",
   "execution_count": 800,
   "metadata": {},
   "outputs": [],
   "source": [
    "out_Ad=list(np.where(da_ECFP4 == 0)[0])"
   ]
  },
  {
   "cell_type": "code",
   "execution_count": 801,
   "metadata": {},
   "outputs": [
    {
     "data": {
      "text/plain": [
       "[]"
      ]
     },
     "execution_count": 801,
     "metadata": {},
     "output_type": "execute_result"
    }
   ],
   "source": [
    "out_Ad"
   ]
  },
  {
   "cell_type": "code",
   "execution_count": 802,
   "metadata": {},
   "outputs": [],
   "source": [
    "y_pred_gbm_ad=list(y_pred_gbm)"
   ]
  },
  {
   "cell_type": "code",
   "execution_count": 803,
   "metadata": {},
   "outputs": [
    {
     "data": {
      "text/plain": [
       "26"
      ]
     },
     "execution_count": 803,
     "metadata": {},
     "output_type": "execute_result"
    }
   ],
   "source": [
    "len(y_pred_gbm_ad)"
   ]
  },
  {
   "cell_type": "code",
   "execution_count": 804,
   "metadata": {},
   "outputs": [],
   "source": [
    "y_pred_gbm_ad[:] = [x for i,x in enumerate(y_pred_gbm_ad) if i not in out_Ad]"
   ]
  },
  {
   "cell_type": "code",
   "execution_count": 805,
   "metadata": {},
   "outputs": [
    {
     "data": {
      "text/plain": [
       "26"
      ]
     },
     "execution_count": 805,
     "metadata": {},
     "output_type": "execute_result"
    }
   ],
   "source": [
    "len(y_pred_gbm_ad)"
   ]
  },
  {
   "cell_type": "code",
   "execution_count": 806,
   "metadata": {},
   "outputs": [],
   "source": [
    "y_ts_ad=list(y_ts)"
   ]
  },
  {
   "cell_type": "code",
   "execution_count": 807,
   "metadata": {},
   "outputs": [
    {
     "data": {
      "text/plain": [
       "26"
      ]
     },
     "execution_count": 807,
     "metadata": {},
     "output_type": "execute_result"
    }
   ],
   "source": [
    "len(y_ts)"
   ]
  },
  {
   "cell_type": "code",
   "execution_count": 808,
   "metadata": {},
   "outputs": [],
   "source": [
    "y_ts_ad[:] = [x for i,x in enumerate(y_ts_ad) if i not in out_Ad]"
   ]
  },
  {
   "cell_type": "code",
   "execution_count": 809,
   "metadata": {},
   "outputs": [
    {
     "data": {
      "text/plain": [
       "26"
      ]
     },
     "execution_count": 809,
     "metadata": {},
     "output_type": "execute_result"
    }
   ],
   "source": [
    "len(y_ts_ad)"
   ]
  },
  {
   "cell_type": "code",
   "execution_count": 810,
   "metadata": {},
   "outputs": [],
   "source": [
    "confusion_matrix_ts = metrics.confusion_matrix(y_ts_ad, y_pred_gbm_ad, labels=[0,1])"
   ]
  },
  {
   "cell_type": "code",
   "execution_count": 811,
   "metadata": {},
   "outputs": [
    {
     "name": "stdout",
     "output_type": "stream",
     "text": [
      "balanced_accuracy =  0.94\n",
      "SE =  1.0\n",
      "SP =  0.88\n",
      "Kappa =  0.84\n"
     ]
    }
   ],
   "source": [
    "Kappa = metrics.cohen_kappa_score(y_ts_ad, y_pred_gbm_ad, weights='linear')\n",
    "TN, FP, FN, TP = confusion_matrix_ts.ravel()\n",
    "SE = TP/(TP+FN)\n",
    "SP = TN/(TN+FP)\n",
    "BA = (SE + SP)/2\n",
    "print(\"balanced_accuracy = \", round((BA), 2))\n",
    "print(\"SE = \", round((SE), 2))\n",
    "print(\"SP = \", round((SP), 2))\n",
    "print(\"Kappa = \", round((Kappa), 2))"
   ]
  },
  {
   "cell_type": "markdown",
   "metadata": {},
   "source": [
    "# 11. Virtual Screening"
   ]
  },
  {
   "cell_type": "markdown",
   "metadata": {},
   "source": [
    "## 11.1 Data entry and curation molecules for VS"
   ]
  },
  {
   "cell_type": "code",
   "execution_count": 812,
   "metadata": {},
   "outputs": [
    {
     "name": "stdout",
     "output_type": "stream",
     "text": [
      "Original data:  12 molecules\n",
      "Failed data:  0 molecules\n"
     ]
    },
    {
     "data": {
      "text/html": [
       "<div>\n",
       "<style scoped>\n",
       "    .dataframe tbody tr th:only-of-type {\n",
       "        vertical-align: middle;\n",
       "    }\n",
       "\n",
       "    .dataframe tbody tr th {\n",
       "        vertical-align: top;\n",
       "    }\n",
       "\n",
       "    .dataframe thead th {\n",
       "        text-align: right;\n",
       "    }\n",
       "</style>\n",
       "<table border=\"1\" class=\"dataframe\">\n",
       "  <thead>\n",
       "    <tr style=\"text-align: right;\">\n",
       "      <th></th>\n",
       "      <th>No. failed molecule in original set</th>\n",
       "      <th>SMILES of wrong structure:</th>\n",
       "    </tr>\n",
       "    <tr>\n",
       "      <th>No.</th>\n",
       "      <th></th>\n",
       "      <th></th>\n",
       "    </tr>\n",
       "  </thead>\n",
       "  <tbody>\n",
       "  </tbody>\n",
       "</table>\n",
       "</div>"
      ],
      "text/plain": [
       "Empty DataFrame\n",
       "Columns: [No. failed molecule in original set, SMILES of wrong structure: ]\n",
       "Index: []"
      ]
     },
     "execution_count": 812,
     "metadata": {},
     "output_type": "execute_result"
    }
   ],
   "source": [
    "uploaded_file_vs=\"datasets/HDAC6_vs_from_patents.sdf\"\n",
    "supplier_vs = Chem.ForwardSDMolSupplier(uploaded_file_vs,sanitize=False)\n",
    "failed_mols_vs = []\n",
    "all_mols_vs =[]\n",
    "wrong_structure_vs=[]\n",
    "wrong_smiles_vs=[]\n",
    "y_vs = []\n",
    "y_bad_index=[]\n",
    "for i, m in enumerate(supplier_vs):\n",
    "    structure = Chem.Mol(m)\n",
    "    all_mols_vs.append(structure)\n",
    "    y_vs.append(m.GetIntProp(\"HDAC6_class\"))\n",
    "    try:\n",
    "        Chem.SanitizeMol(structure)\n",
    "    except:\n",
    "        failed_mols_vs.append(m)\n",
    "        wrong_smiles_vs.append(Chem.MolToSmiles(m))\n",
    "        wrong_structure_vs.append(str(i+1))\n",
    "        y_bad_index.append(i)\n",
    "print('Original data: ', len(all_mols_vs), 'molecules')\n",
    "print('Failed data: ', len(failed_mols_vs), 'molecules')\n",
    "number_vs =[]\n",
    "for i in range(len(failed_mols_vs)):\n",
    "        number_ts.append(str(i+1))\n",
    "bad_molecules_vs = pd.DataFrame({'No. failed molecule in original set': wrong_structure_vs, 'SMILES of wrong structure: ': wrong_smiles_vs, 'No.': number_vs}, index=None)\n",
    "bad_molecules_vs = bad_molecules_vs.set_index('No.')\n",
    "bad_molecules_vs"
   ]
  },
  {
   "cell_type": "code",
   "execution_count": 813,
   "metadata": {},
   "outputs": [
    {
     "data": {
      "text/plain": [
       "12"
      ]
     },
     "execution_count": 813,
     "metadata": {},
     "output_type": "execute_result"
    }
   ],
   "source": [
    "y_vs[:] = [x for i,x in enumerate(y_vs) if i not in y_bad_index]\n",
    "len(y_vs)"
   ]
  },
  {
   "cell_type": "code",
   "execution_count": 814,
   "metadata": {},
   "outputs": [
    {
     "name": "stdout",
     "output_type": "stream",
     "text": [
      "Kept data:  12 molecules\n"
     ]
    }
   ],
   "source": [
    "records_vs = []\n",
    "for i in range(len(all_mols_vs)):\n",
    "    record = Chem.MolToMolBlock(all_mols_vs[i])\n",
    "    records_vs.append(record)\n",
    "            \n",
    "mols_vs = []\n",
    "for i,record in enumerate(records_vs):\n",
    "    standard_record = chembl_structure_pipeline.standardize_molblock(record)\n",
    "    m = Chem.MolFromMolBlock(standard_record)\n",
    "    mols_vs.append(m)\n",
    "           \n",
    "moldf_vs = []\n",
    "for val in mols_vs:\n",
    "    if val != None:\n",
    "        moldf_vs.append(val)\n",
    "print('Kept data: ', len(moldf_vs), 'molecules')"
   ]
  },
  {
   "cell_type": "markdown",
   "metadata": {},
   "source": [
    "## 11.2 Descriptor calculation for VS"
   ]
  },
  {
   "cell_type": "code",
   "execution_count": 815,
   "metadata": {},
   "outputs": [],
   "source": [
    "fp_vs = [AllChem.GetMorganFingerprintAsBitVect(m, radius=2,nBits=1024,useFeatures=False,useChirality = False) for m in moldf_vs]"
   ]
  },
  {
   "cell_type": "code",
   "execution_count": 816,
   "metadata": {},
   "outputs": [],
   "source": [
    "def rdkit_numpy_convert(fp_vs):\n",
    "    output = []\n",
    "    for f in fp_vs:\n",
    "        arr = np.zeros((1,))\n",
    "        DataStructs.ConvertToNumpyArray(f, arr)\n",
    "        output.append(arr)\n",
    "    return np.asarray(output)"
   ]
  },
  {
   "cell_type": "code",
   "execution_count": 817,
   "metadata": {},
   "outputs": [],
   "source": [
    "x_vs = rdkit_numpy_convert(fp_vs)"
   ]
  },
  {
   "cell_type": "code",
   "execution_count": 818,
   "metadata": {},
   "outputs": [
    {
     "data": {
      "text/plain": [
       "(12, 1024)"
      ]
     },
     "execution_count": 818,
     "metadata": {},
     "output_type": "execute_result"
    }
   ],
   "source": [
    "x_vs.shape"
   ]
  },
  {
   "cell_type": "markdown",
   "metadata": {},
   "source": [
    "## 11.3 Prediction for vs molecules"
   ]
  },
  {
   "cell_type": "code",
   "execution_count": 819,
   "metadata": {},
   "outputs": [],
   "source": [
    "y_pred_gbm = best_clf_GBM.predict(x_vs)"
   ]
  },
  {
   "cell_type": "code",
   "execution_count": 820,
   "metadata": {},
   "outputs": [
    {
     "data": {
      "text/plain": [
       "array([0, 0, 0, 0, 1, 1, 0, 1, 0, 1, 1, 1])"
      ]
     },
     "execution_count": 820,
     "metadata": {},
     "output_type": "execute_result"
    }
   ],
   "source": [
    "y_pred_gbm"
   ]
  },
  {
   "cell_type": "code",
   "execution_count": 821,
   "metadata": {},
   "outputs": [
    {
     "name": "stdout",
     "output_type": "stream",
     "text": [
      "balanced_accuracy =  0.83\n",
      "SE =  0.67\n",
      "SP =  1.0\n",
      "Kappa =  0.5\n"
     ]
    }
   ],
   "source": [
    "confusion_matrix_GBM = metrics.confusion_matrix(y_vs, y_pred_gbm, labels=[0,1])\n",
    "Kappa = metrics.cohen_kappa_score(y_vs, y_pred_gbm, weights='linear')\n",
    "TN, FP, FN, TP = confusion_matrix_GBM.ravel()\n",
    "SE = TP/(TP+FN)\n",
    "SP = TN/(TN+FP)\n",
    "BA = (SE + SP)/2\n",
    "print(\"balanced_accuracy = \", round((BA), 2))\n",
    "print(\"SE = \", round((SE), 2))\n",
    "print(\"SP = \", round((SP), 2))\n",
    "print(\"Kappa = \", round((Kappa), 2))"
   ]
  },
  {
   "cell_type": "markdown",
   "metadata": {},
   "source": [
    "## Estimating applicability domain"
   ]
  },
  {
   "cell_type": "code",
   "execution_count": 822,
   "metadata": {},
   "outputs": [],
   "source": [
    "d_ECFP4 = {}\n",
    "for mol in Chem.SDMolSupplier(\"datasets/HDAC6_ws.sdf\"):\n",
    "    mg = AllChem.GetMorganFingerprintAsBitVect(mol, 2, useFeatures=True)\n",
    "    for m in Chem.SDMolSupplier('datasets/HDAC6_vs_from_patents.sdf'):\n",
    "        if m is not None:\n",
    "            mg_ = AllChem.GetMorganFingerprintAsBitVect(m, 2, useFeatures=True)\n",
    "            d_ECFP4.setdefault(Chem.MolToSmiles(m),[]).append(DataStructs.FingerprintSimilarity(mg, mg_))"
   ]
  },
  {
   "cell_type": "code",
   "execution_count": 823,
   "metadata": {},
   "outputs": [],
   "source": [
    "df_ECFP4 = pd.DataFrame.from_dict(d_ECFP4)"
   ]
  },
  {
   "cell_type": "code",
   "execution_count": 824,
   "metadata": {},
   "outputs": [
    {
     "data": {
      "text/plain": [
       "COc1cc2ncn(OCCCCCC(=O)NO)c(=O)c2cc1OC                    0.490909\n",
       "COc1cc2ncn(OCCCCCCC(=O)NO)c(=O)c2cc1OC                   0.490909\n",
       "O=C(CCCCCOn1cnc2ccc(Br)cc2c1=O)NO                        0.438596\n",
       "O=C(CCCCCCOn1cnc2ccc(Br)cc2c1=O)NO                       0.438596\n",
       "COc1ccc(C2Nc3ccccc3C(=O)N2CCCCCC(=O)NO)cc1               0.500000\n",
       "COc1cccc(C2Nc3ccccc3C(=O)N2CCCCCC(=O)NO)c1               0.488889\n",
       "COc1cc(C2Nc3ccccc3C(=O)N2CCCCCC(=O)NO)cc(OC)c1OC         0.478261\n",
       "O=C(CCCCCN1C(=O)c2ccccc2NC1c1ccc(Cl)cc1)NO               0.500000\n",
       "COc1ccc(C2Nc3ccccc3C(=O)N2CCCCCC(=O)NO)cc1COc1ccccc1F    0.403226\n",
       "COc1ccc(C2Nc3ccccc3C(=O)N2CCCCCCC(=O)NO)cc1              0.500000\n",
       "O=C(CCCCCCN1C(=O)c2ccccc2NC1c1ccc(Cl)cc1)NO              0.500000\n",
       "COc1ccc(C2Nc3ccc(F)cc3C(=O)N2CCCCCCC(=O)NO)cc1           0.451613\n",
       "dtype: float64"
      ]
     },
     "execution_count": 824,
     "metadata": {},
     "output_type": "execute_result"
    }
   ],
   "source": [
    "df_ECFP4.max()"
   ]
  },
  {
   "cell_type": "code",
   "execution_count": 828,
   "metadata": {},
   "outputs": [
    {
     "data": {
      "text/plain": [
       "COc1cc2ncn(OCCCCCC(=O)NO)c(=O)c2cc1OC                     True\n",
       "COc1cc2ncn(OCCCCCCC(=O)NO)c(=O)c2cc1OC                    True\n",
       "O=C(CCCCCOn1cnc2ccc(Br)cc2c1=O)NO                        False\n",
       "O=C(CCCCCCOn1cnc2ccc(Br)cc2c1=O)NO                       False\n",
       "COc1ccc(C2Nc3ccccc3C(=O)N2CCCCCC(=O)NO)cc1                True\n",
       "COc1cccc(C2Nc3ccccc3C(=O)N2CCCCCC(=O)NO)c1                True\n",
       "COc1cc(C2Nc3ccccc3C(=O)N2CCCCCC(=O)NO)cc(OC)c1OC          True\n",
       "O=C(CCCCCN1C(=O)c2ccccc2NC1c1ccc(Cl)cc1)NO                True\n",
       "COc1ccc(C2Nc3ccccc3C(=O)N2CCCCCC(=O)NO)cc1COc1ccccc1F    False\n",
       "COc1ccc(C2Nc3ccccc3C(=O)N2CCCCCCC(=O)NO)cc1               True\n",
       "O=C(CCCCCCN1C(=O)c2ccccc2NC1c1ccc(Cl)cc1)NO               True\n",
       "COc1ccc(C2Nc3ccc(F)cc3C(=O)N2CCCCCCC(=O)NO)cc1            True\n",
       "dtype: bool"
      ]
     },
     "execution_count": 828,
     "metadata": {},
     "output_type": "execute_result"
    }
   ],
   "source": [
    "threshold = 0.45\n",
    "da_ECFP4 = np.asarray(df_ECFP4)\n",
    "da_ECFP4 = np.amax(df_ECFP4, axis=0) >= threshold\n",
    "da_ECFP4"
   ]
  },
  {
   "cell_type": "code",
   "execution_count": 829,
   "metadata": {},
   "outputs": [
    {
     "name": "stdout",
     "output_type": "stream",
     "text": [
      "Coverage =  0.75\n"
     ]
    }
   ],
   "source": [
    "print(\"Coverage = \", sum(da_ECFP4) / len(da_ECFP4))"
   ]
  },
  {
   "cell_type": "code",
   "execution_count": 830,
   "metadata": {},
   "outputs": [
    {
     "name": "stdout",
     "output_type": "stream",
     "text": [
      "[2 3 8]\n"
     ]
    }
   ],
   "source": [
    "print(np.where(da_ECFP4 == 0)[0])"
   ]
  },
  {
   "cell_type": "markdown",
   "metadata": {},
   "source": [
    "## Inside AD-only for GBM model"
   ]
  },
  {
   "cell_type": "code",
   "execution_count": 831,
   "metadata": {},
   "outputs": [],
   "source": [
    "out_Ad=list(np.where(da_ECFP4 == 0)[0])"
   ]
  },
  {
   "cell_type": "code",
   "execution_count": 832,
   "metadata": {},
   "outputs": [
    {
     "data": {
      "text/plain": [
       "[2, 3, 8]"
      ]
     },
     "execution_count": 832,
     "metadata": {},
     "output_type": "execute_result"
    }
   ],
   "source": [
    "out_Ad"
   ]
  },
  {
   "cell_type": "code",
   "execution_count": 833,
   "metadata": {},
   "outputs": [],
   "source": [
    "y_pred_gbm_ad=list(y_pred_gbm)"
   ]
  },
  {
   "cell_type": "code",
   "execution_count": 834,
   "metadata": {},
   "outputs": [
    {
     "data": {
      "text/plain": [
       "12"
      ]
     },
     "execution_count": 834,
     "metadata": {},
     "output_type": "execute_result"
    }
   ],
   "source": [
    "len(y_pred_gbm_ad)"
   ]
  },
  {
   "cell_type": "code",
   "execution_count": 835,
   "metadata": {},
   "outputs": [],
   "source": [
    "y_pred_gbm_ad[:] = [x for i,x in enumerate(y_pred_gbm_ad) if i not in out_Ad]"
   ]
  },
  {
   "cell_type": "code",
   "execution_count": 836,
   "metadata": {},
   "outputs": [
    {
     "data": {
      "text/plain": [
       "9"
      ]
     },
     "execution_count": 836,
     "metadata": {},
     "output_type": "execute_result"
    }
   ],
   "source": [
    "len(y_pred_gbm_ad)"
   ]
  },
  {
   "cell_type": "code",
   "execution_count": 782,
   "metadata": {},
   "outputs": [],
   "source": [
    "y_vs_ad=list(y_vs)"
   ]
  },
  {
   "cell_type": "code",
   "execution_count": 783,
   "metadata": {},
   "outputs": [
    {
     "data": {
      "text/plain": [
       "12"
      ]
     },
     "execution_count": 783,
     "metadata": {},
     "output_type": "execute_result"
    }
   ],
   "source": [
    "len(y_vs)"
   ]
  },
  {
   "cell_type": "code",
   "execution_count": 784,
   "metadata": {},
   "outputs": [
    {
     "data": {
      "text/plain": [
       "9"
      ]
     },
     "execution_count": 784,
     "metadata": {},
     "output_type": "execute_result"
    }
   ],
   "source": [
    "y_vs_ad[:] = [x for i,x in enumerate(y_vs_ad) if i not in out_Ad]\n",
    "len(y_vs_ad)"
   ]
  },
  {
   "cell_type": "code",
   "execution_count": 785,
   "metadata": {},
   "outputs": [],
   "source": [
    "confusion_matrix_vs = metrics.confusion_matrix(y_vs_ad, y_pred_gbm_ad, labels=[0,1])"
   ]
  },
  {
   "cell_type": "code",
   "execution_count": 786,
   "metadata": {},
   "outputs": [
    {
     "name": "stdout",
     "output_type": "stream",
     "text": [
      "balanced_accuracy =  1.0\n",
      "SE =  1.0\n",
      "SP =  1.0\n",
      "Kappa =  1.0\n"
     ]
    }
   ],
   "source": [
    "Kappa = metrics.cohen_kappa_score(y_vs_ad, y_pred_gbm_ad, weights='linear')\n",
    "TN, FP, FN, TP = confusion_matrix_vs.ravel()\n",
    "SE = TP/(TP+FN)\n",
    "SP = TN/(TN+FP)\n",
    "BA = (SE + SP)/2\n",
    "print(\"balanced_accuracy = \", round((BA), 2))\n",
    "print(\"SE = \", round((SE), 2))\n",
    "print(\"SP = \", round((SP), 2))\n",
    "print(\"Kappa = \", round((Kappa), 2))"
   ]
  }
 ],
 "metadata": {
  "kernelspec": {
   "display_name": "Python3 (rdkit)",
   "language": "python",
   "name": "my-rdkit-env"
  },
  "language_info": {
   "codemirror_mode": {
    "name": "ipython",
    "version": 3
   },
   "file_extension": ".py",
   "mimetype": "text/x-python",
   "name": "python",
   "nbconvert_exporter": "python",
   "pygments_lexer": "ipython3",
   "version": "3.7.13"
  }
 },
 "nbformat": 4,
 "nbformat_minor": 2
}
